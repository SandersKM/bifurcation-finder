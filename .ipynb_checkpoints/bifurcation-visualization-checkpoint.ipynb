{
  "cells": [
    {
      "metadata": {
        "trusted": true
      },
      "cell_type": "code",
      "source": "from ipywidgets import interact\nfrom bokeh.io import show, output_notebook\nfrom IPython.display import Javascript\ntry:\n    from src.notebook_functions import Notebook\nexcept ImportError:\n    import sys\n    sys.path.append('./')\n    from notebook_functions import Notebook\noutput_notebook()\nnotebook = Notebook()\nJavascript(notebook.get_string_to_set_autoscroll_to_false())\nnotebook.get_tab()",
      "execution_count": 12,
      "outputs": [
        {
          "output_type": "error",
          "ename": "ModuleNotFoundError",
          "evalue": "No module named 'notebook_functions'",
          "traceback": [
            "\u001b[0;31m---------------------------------------------------------------------------\u001b[0m",
            "\u001b[0;31mModuleNotFoundError\u001b[0m                       Traceback (most recent call last)",
            "\u001b[0;32m<ipython-input-12-0da8fb18b3a9>\u001b[0m in \u001b[0;36m<module>\u001b[0;34m\u001b[0m\n\u001b[1;32m      4\u001b[0m \u001b[0;32mtry\u001b[0m\u001b[0;34m:\u001b[0m\u001b[0;34m\u001b[0m\u001b[0m\n\u001b[0;32m----> 5\u001b[0;31m     \u001b[0;32mfrom\u001b[0m \u001b[0msrc\u001b[0m\u001b[0;34m.\u001b[0m\u001b[0mnotebook_functions\u001b[0m \u001b[0;32mimport\u001b[0m \u001b[0mNotebook\u001b[0m\u001b[0;34m\u001b[0m\u001b[0m\n\u001b[0m\u001b[1;32m      6\u001b[0m \u001b[0;32mexcept\u001b[0m \u001b[0mImportError\u001b[0m\u001b[0;34m:\u001b[0m\u001b[0;34m\u001b[0m\u001b[0m\n",
            "\u001b[0;31mModuleNotFoundError\u001b[0m: No module named 'src.notebook_functions'",
            "\nDuring handling of the above exception, another exception occurred:\n",
            "\u001b[0;31mModuleNotFoundError\u001b[0m                       Traceback (most recent call last)",
            "\u001b[0;32m<ipython-input-12-0da8fb18b3a9>\u001b[0m in \u001b[0;36m<module>\u001b[0;34m\u001b[0m\n\u001b[1;32m      7\u001b[0m     \u001b[0;32mimport\u001b[0m \u001b[0msys\u001b[0m\u001b[0;34m\u001b[0m\u001b[0m\n\u001b[1;32m      8\u001b[0m     \u001b[0msys\u001b[0m\u001b[0;34m.\u001b[0m\u001b[0mpath\u001b[0m\u001b[0;34m.\u001b[0m\u001b[0mappend\u001b[0m\u001b[0;34m(\u001b[0m\u001b[0;34m'/home/nbuser/library/'\u001b[0m\u001b[0;34m)\u001b[0m\u001b[0;34m\u001b[0m\u001b[0m\n\u001b[0;32m----> 9\u001b[0;31m     \u001b[0;32mfrom\u001b[0m \u001b[0mnotebook_functions\u001b[0m \u001b[0;32mimport\u001b[0m \u001b[0mNotebook\u001b[0m\u001b[0;34m\u001b[0m\u001b[0m\n\u001b[0m\u001b[1;32m     10\u001b[0m \u001b[0moutput_notebook\u001b[0m\u001b[0;34m(\u001b[0m\u001b[0;34m)\u001b[0m\u001b[0;34m\u001b[0m\u001b[0m\n\u001b[1;32m     11\u001b[0m \u001b[0mnotebook\u001b[0m \u001b[0;34m=\u001b[0m \u001b[0mNotebook\u001b[0m\u001b[0;34m(\u001b[0m\u001b[0;34m)\u001b[0m\u001b[0;34m\u001b[0m\u001b[0m\n",
            "\u001b[0;31mModuleNotFoundError\u001b[0m: No module named 'notebook_functions'"
          ]
        }
      ]
    },
    {
      "metadata": {
        "trusted": true
      },
      "cell_type": "code",
      "source": "from os import listdir\nfrom os.path import isfile, join\nonlyfiles = [f for f in listdir(\".\") if isfile(join(\".\", f))]\nonlyfiles",
      "execution_count": 9,
      "outputs": [
        {
          "output_type": "execute_result",
          "execution_count": 9,
          "data": {
            "text/plain": "['bifurcation-visualization.ipynb', 'notebook_functions.py']"
          },
          "metadata": {}
        }
      ]
    },
    {
      "metadata": {
        "trusted": true
      },
      "cell_type": "code",
      "source": "notebook.get_optimal_bifurcation_point()",
      "execution_count": 6,
      "outputs": [
        {
          "data": {
            "application/vnd.jupyter.widget-view+json": {
              "model_id": "84cc1111014d4ce0ba246b3f6bea9301",
              "version_major": 2,
              "version_minor": 0
            },
            "text/plain": "Output(layout=Layout(border='1px solid black'), outputs=({'output_type': 'stream', 'name': 'stdout', 'text': '…"
          },
          "metadata": {},
          "output_type": "display_data"
        }
      ]
    },
    {
      "metadata": {
        "trusted": true
      },
      "cell_type": "code",
      "source": "show(notebook.get_figure(), notebook_handle=True)\ndisplay(notebook.get_output())\ninteract(notebook.update, step=(0, len(notebook.steps), len(notebook.steps)//10))",
      "execution_count": 7,
      "outputs": [
        {
          "data": {
            "text/html": "\n\n\n\n\n\n  <div class=\"bk-root\" id=\"b92cabc4-ce28-4293-a931-4c37f2a46a8c\"></div>\n"
          },
          "metadata": {},
          "output_type": "display_data"
        },
        {
          "data": {
            "application/javascript": "(function(root) {\n  function embed_document(root) {\n    \n  var docs_json = {\"09023d3f-2351-416d-8238-d5d0c3aa5103\":{\"roots\":{\"references\":[{\"attributes\":{\"fill_alpha\":{\"value\":0.1},\"fill_color\":{\"value\":\"#1f77b4\"},\"line_alpha\":{\"value\":0.1},\"line_color\":{\"value\":\"#1f77b4\"},\"x\":{\"field\":\"x_values\"},\"y\":{\"field\":\"y_values\"}},\"id\":\"42e1d709-353a-4270-974a-29a97b118ad0\",\"type\":\"Circle\"},{\"attributes\":{\"plot\":{\"id\":\"b7b0dec5-0cc6-42fc-b7fb-e5c97ab2667f\",\"subtype\":\"Figure\",\"type\":\"Plot\"},\"ticker\":{\"id\":\"42355b8a-285a-450c-a1b2-8d76425feed6\",\"type\":\"BasicTicker\"}},\"id\":\"0642824e-579a-46c4-8553-193494fdb22c\",\"type\":\"Grid\"},{\"attributes\":{\"formatter\":{\"id\":\"557e6321-159e-4043-b633-e6fef996dfa0\",\"type\":\"BasicTickFormatter\"},\"plot\":{\"id\":\"b7b0dec5-0cc6-42fc-b7fb-e5c97ab2667f\",\"subtype\":\"Figure\",\"type\":\"Plot\"},\"ticker\":{\"id\":\"5b45a153-7299-4951-bc19-9e52091d4cb7\",\"type\":\"SingleIntervalTicker\"}},\"id\":\"65b19ce1-db5d-4880-a470-b876da11c858\",\"type\":\"LinearAxis\"},{\"attributes\":{},\"id\":\"88e6c6c6-41c9-45ad-8a74-7ef14b47a19f\",\"type\":\"BasicTicker\"},{\"attributes\":{\"dimension\":1,\"plot\":{\"id\":\"b7b0dec5-0cc6-42fc-b7fb-e5c97ab2667f\",\"subtype\":\"Figure\",\"type\":\"Plot\"},\"ticker\":{\"id\":\"88e6c6c6-41c9-45ad-8a74-7ef14b47a19f\",\"type\":\"BasicTicker\"}},\"id\":\"a24d4eff-6a7c-4717-b764-da6e51fe3bad\",\"type\":\"Grid\"},{\"attributes\":{\"data_source\":{\"id\":\"f6a113a8-e933-4ea3-a5fc-61d839cc19df\",\"type\":\"ColumnDataSource\"},\"glyph\":{\"id\":\"ec825a33-f5a2-4990-ae17-f9cb97880b90\",\"type\":\"Circle\"},\"hover_glyph\":null,\"muted_glyph\":null,\"nonselection_glyph\":{\"id\":\"42e1d709-353a-4270-974a-29a97b118ad0\",\"type\":\"Circle\"},\"selection_glyph\":null,\"view\":{\"id\":\"44085602-336c-450c-8a0e-30c9cc703b4a\",\"type\":\"CDSView\"}},\"id\":\"53075787-78b3-42c5-a0b6-3e9de2b8c415\",\"type\":\"GlyphRenderer\"},{\"attributes\":{\"fill_color\":{\"value\":\"#1f77b4\"},\"line_color\":{\"value\":\"#1f77b4\"},\"x\":{\"field\":\"x_values\"},\"y\":{\"field\":\"y_values\"}},\"id\":\"ec825a33-f5a2-4990-ae17-f9cb97880b90\",\"type\":\"Circle\"},{\"attributes\":{},\"id\":\"0a9ed266-ef6e-40f2-a912-febde9af12bc\",\"type\":\"ResetTool\"},{\"attributes\":{\"plot\":null,\"text\":\"\"},\"id\":\"1d483cb2-22fd-435d-81e4-ba176b18ab21\",\"type\":\"Title\"},{\"attributes\":{\"bottom_units\":\"screen\",\"fill_alpha\":{\"value\":0.5},\"fill_color\":{\"value\":\"lightgrey\"},\"left_units\":\"screen\",\"level\":\"overlay\",\"line_alpha\":{\"value\":1.0},\"line_color\":{\"value\":\"black\"},\"line_dash\":[4,4],\"line_width\":{\"value\":2},\"plot\":null,\"render_mode\":\"css\",\"right_units\":\"screen\",\"top_units\":\"screen\"},\"id\":\"11bc6e29-5927-43d3-9cdc-3f521ff0a584\",\"type\":\"BoxAnnotation\"},{\"attributes\":{},\"id\":\"db080feb-893b-48c7-8d77-84f14076e017\",\"type\":\"PanTool\"},{\"attributes\":{\"line_alpha\":{\"value\":0.1},\"line_color\":{\"value\":\"#1f77b4\"},\"line_width\":{\"value\":3},\"x0\":{\"field\":\"x0\"},\"x1\":{\"field\":\"x1\"},\"y0\":{\"field\":\"y0\"},\"y1\":{\"field\":\"y1\"}},\"id\":\"8b9241c6-7cc5-4bc8-ad42-8e39f9720ccf\",\"type\":\"Segment\"},{\"attributes\":{},\"id\":\"240898d5-93b2-42c6-a03c-3228d838de87\",\"type\":\"WheelZoomTool\"},{\"attributes\":{\"overlay\":{\"id\":\"11bc6e29-5927-43d3-9cdc-3f521ff0a584\",\"type\":\"BoxAnnotation\"}},\"id\":\"b2e10088-9aee-4d95-814c-1cefa70fc9fc\",\"type\":\"BoxZoomTool\"},{\"attributes\":{},\"id\":\"1b3d4dff-00c0-4d2f-9e9d-86c7dee3af9d\",\"type\":\"SaveTool\"},{\"attributes\":{\"source\":{\"id\":\"f6a113a8-e933-4ea3-a5fc-61d839cc19df\",\"type\":\"ColumnDataSource\"}},\"id\":\"44085602-336c-450c-8a0e-30c9cc703b4a\",\"type\":\"CDSView\"},{\"attributes\":{\"line_color\":{\"value\":\"navy\"},\"line_width\":{\"value\":3},\"x0\":{\"field\":\"x0\"},\"x1\":{\"field\":\"x1\"},\"y0\":{\"field\":\"y0\"},\"y1\":{\"field\":\"y1\"}},\"id\":\"7711bb41-0225-4267-ad07-084ed4a8bdfc\",\"type\":\"Segment\"},{\"attributes\":{\"data_source\":{\"id\":\"79f69c03-001d-4025-b25e-a41d24d2934b\",\"type\":\"ColumnDataSource\"},\"glyph\":{\"id\":\"7711bb41-0225-4267-ad07-084ed4a8bdfc\",\"type\":\"Segment\"},\"hover_glyph\":null,\"muted_glyph\":null,\"nonselection_glyph\":{\"id\":\"8b9241c6-7cc5-4bc8-ad42-8e39f9720ccf\",\"type\":\"Segment\"},\"selection_glyph\":null,\"view\":{\"id\":\"4bf68ff5-b782-479a-abf2-f49dec4a2e96\",\"type\":\"CDSView\"}},\"id\":\"29684e55-491c-4ed0-932e-1555002adf5d\",\"type\":\"GlyphRenderer\"},{\"attributes\":{\"source\":{\"id\":\"79f69c03-001d-4025-b25e-a41d24d2934b\",\"type\":\"ColumnDataSource\"}},\"id\":\"4bf68ff5-b782-479a-abf2-f49dec4a2e96\",\"type\":\"CDSView\"},{\"attributes\":{\"interval\":1},\"id\":\"f6963dec-1646-4c69-95fb-5888902d6995\",\"type\":\"SingleIntervalTicker\"},{\"attributes\":{\"interval\":1},\"id\":\"5b45a153-7299-4951-bc19-9e52091d4cb7\",\"type\":\"SingleIntervalTicker\"},{\"attributes\":{\"formatter\":{\"id\":\"86a2086f-9553-4d84-9cc8-d9b909767e0b\",\"type\":\"BasicTickFormatter\"},\"plot\":{\"id\":\"b7b0dec5-0cc6-42fc-b7fb-e5c97ab2667f\",\"subtype\":\"Figure\",\"type\":\"Plot\"},\"ticker\":{\"id\":\"f6963dec-1646-4c69-95fb-5888902d6995\",\"type\":\"SingleIntervalTicker\"}},\"id\":\"326e5530-176a-4540-b1c9-d9524c1131b4\",\"type\":\"LinearAxis\"},{\"attributes\":{},\"id\":\"557e6321-159e-4043-b633-e6fef996dfa0\",\"type\":\"BasicTickFormatter\"},{\"attributes\":{\"callback\":null},\"id\":\"bf01b8e3-a91b-41e4-a04b-2d1bc74e69be\",\"type\":\"DataRange1d\"},{\"attributes\":{},\"id\":\"86a2086f-9553-4d84-9cc8-d9b909767e0b\",\"type\":\"BasicTickFormatter\"},{\"attributes\":{\"callback\":null,\"data\":{\"x0\":[5.0,1.0,0.0],\"x1\":[0.0,0.0,0.0],\"y0\":[1.0,3.0,0.0],\"y1\":[0.0,0.0,0.0]},\"selected\":{\"id\":\"7a317d6c-6083-479a-9c82-c2ef26727775\",\"type\":\"Selection\"},\"selection_policy\":{\"id\":\"6b9ae1cc-24e9-44ac-b44f-e0b0fe804835\",\"type\":\"UnionRenderers\"}},\"id\":\"79f69c03-001d-4025-b25e-a41d24d2934b\",\"type\":\"ColumnDataSource\"},{\"attributes\":{},\"id\":\"974e217b-b54d-4b6b-9b88-86cb572614ca\",\"type\":\"Selection\"},{\"attributes\":{},\"id\":\"f8f44b50-a5ff-4ff2-844e-20278078fd64\",\"type\":\"UnionRenderers\"},{\"attributes\":{},\"id\":\"fee8172b-db10-46e3-a6c3-8dec072d90da\",\"type\":\"LinearScale\"},{\"attributes\":{},\"id\":\"64de288a-6eff-4f45-843a-0c284a170d7e\",\"type\":\"LinearScale\"},{\"attributes\":{\"callback\":null},\"id\":\"e3773f85-1621-459e-9b79-da4296f05526\",\"type\":\"DataRange1d\"},{\"attributes\":{},\"id\":\"7a317d6c-6083-479a-9c82-c2ef26727775\",\"type\":\"Selection\"},{\"attributes\":{},\"id\":\"6b9ae1cc-24e9-44ac-b44f-e0b0fe804835\",\"type\":\"UnionRenderers\"},{\"attributes\":{\"active_drag\":\"auto\",\"active_inspect\":\"auto\",\"active_multi\":null,\"active_scroll\":\"auto\",\"active_tap\":\"auto\",\"tools\":[{\"id\":\"db080feb-893b-48c7-8d77-84f14076e017\",\"type\":\"PanTool\"},{\"id\":\"240898d5-93b2-42c6-a03c-3228d838de87\",\"type\":\"WheelZoomTool\"},{\"id\":\"b2e10088-9aee-4d95-814c-1cefa70fc9fc\",\"type\":\"BoxZoomTool\"},{\"id\":\"1b3d4dff-00c0-4d2f-9e9d-86c7dee3af9d\",\"type\":\"SaveTool\"},{\"id\":\"0a9ed266-ef6e-40f2-a912-febde9af12bc\",\"type\":\"ResetTool\"},{\"id\":\"3169b45f-5fe0-4a37-8e35-686a97c3104f\",\"type\":\"HelpTool\"}]},\"id\":\"0ec22f51-ca72-4497-a280-f275b1229829\",\"type\":\"Toolbar\"},{\"attributes\":{\"below\":[{\"id\":\"326e5530-176a-4540-b1c9-d9524c1131b4\",\"type\":\"LinearAxis\"}],\"left\":[{\"id\":\"65b19ce1-db5d-4880-a470-b876da11c858\",\"type\":\"LinearAxis\"}],\"renderers\":[{\"id\":\"326e5530-176a-4540-b1c9-d9524c1131b4\",\"type\":\"LinearAxis\"},{\"id\":\"0642824e-579a-46c4-8553-193494fdb22c\",\"type\":\"Grid\"},{\"id\":\"65b19ce1-db5d-4880-a470-b876da11c858\",\"type\":\"LinearAxis\"},{\"id\":\"a24d4eff-6a7c-4717-b764-da6e51fe3bad\",\"type\":\"Grid\"},{\"id\":\"11bc6e29-5927-43d3-9cdc-3f521ff0a584\",\"type\":\"BoxAnnotation\"},{\"id\":\"53075787-78b3-42c5-a0b6-3e9de2b8c415\",\"type\":\"GlyphRenderer\"},{\"id\":\"29684e55-491c-4ed0-932e-1555002adf5d\",\"type\":\"GlyphRenderer\"}],\"title\":{\"id\":\"1d483cb2-22fd-435d-81e4-ba176b18ab21\",\"type\":\"Title\"},\"toolbar\":{\"id\":\"0ec22f51-ca72-4497-a280-f275b1229829\",\"type\":\"Toolbar\"},\"x_range\":{\"id\":\"e3773f85-1621-459e-9b79-da4296f05526\",\"type\":\"DataRange1d\"},\"x_scale\":{\"id\":\"fee8172b-db10-46e3-a6c3-8dec072d90da\",\"type\":\"LinearScale\"},\"y_range\":{\"id\":\"bf01b8e3-a91b-41e4-a04b-2d1bc74e69be\",\"type\":\"DataRange1d\"},\"y_scale\":{\"id\":\"64de288a-6eff-4f45-843a-0c284a170d7e\",\"type\":\"LinearScale\"}},\"id\":\"b7b0dec5-0cc6-42fc-b7fb-e5c97ab2667f\",\"subtype\":\"Figure\",\"type\":\"Plot\"},{\"attributes\":{},\"id\":\"3169b45f-5fe0-4a37-8e35-686a97c3104f\",\"type\":\"HelpTool\"},{\"attributes\":{},\"id\":\"42355b8a-285a-450c-a1b2-8d76425feed6\",\"type\":\"BasicTicker\"},{\"attributes\":{\"callback\":null,\"data\":{\"x_values\":[5.0,1.0,0.0,0.0],\"y_values\":[1.0,3.0,0.0,0.0]},\"selected\":{\"id\":\"974e217b-b54d-4b6b-9b88-86cb572614ca\",\"type\":\"Selection\"},\"selection_policy\":{\"id\":\"f8f44b50-a5ff-4ff2-844e-20278078fd64\",\"type\":\"UnionRenderers\"}},\"id\":\"f6a113a8-e933-4ea3-a5fc-61d839cc19df\",\"type\":\"ColumnDataSource\"}],\"root_ids\":[\"b7b0dec5-0cc6-42fc-b7fb-e5c97ab2667f\"]},\"title\":\"Bokeh Application\",\"version\":\"0.13.0\"}};\n  var render_items = [{\"docid\":\"09023d3f-2351-416d-8238-d5d0c3aa5103\",\"notebook_comms_target\":\"109a64d0-b5b9-4fba-838b-14fe54d52785\",\"roots\":{\"b7b0dec5-0cc6-42fc-b7fb-e5c97ab2667f\":\"b92cabc4-ce28-4293-a931-4c37f2a46a8c\"}}];\n  root.Bokeh.embed.embed_items_notebook(docs_json, render_items);\n\n  }\n  if (root.Bokeh !== undefined) {\n    embed_document(root);\n  } else {\n    var attempts = 0;\n    var timer = setInterval(function(root) {\n      if (root.Bokeh !== undefined) {\n        embed_document(root);\n        clearInterval(timer);\n      }\n      attempts++;\n      if (attempts > 100) {\n        console.log(\"Bokeh: ERROR: Unable to run BokehJS code because BokehJS library is missing\")\n        clearInterval(timer);\n      }\n    }, 10, root)\n  }\n})(window);",
            "application/vnd.bokehjs_exec.v0+json": ""
          },
          "metadata": {
            "application/vnd.bokehjs_exec.v0+json": {
              "id": "b7b0dec5-0cc6-42fc-b7fb-e5c97ab2667f"
            }
          },
          "output_type": "display_data"
        },
        {
          "data": {
            "application/vnd.jupyter.widget-view+json": {
              "model_id": "ce9e9bae6c474cc9920ffd3712bc7a9e",
              "version_major": 2,
              "version_minor": 0
            },
            "text/plain": "Output(layout=Layout(border='1px solid black'))"
          },
          "metadata": {},
          "output_type": "display_data"
        },
        {
          "data": {
            "application/vnd.jupyter.widget-view+json": {
              "model_id": "e3c191483c914be687942f6f3c47ca7c",
              "version_major": 2,
              "version_minor": 0
            },
            "text/plain": "interactive(children=(IntSlider(value=0, description='step', max=32, step=3), Output()), _dom_classes=('widget…"
          },
          "metadata": {},
          "output_type": "display_data"
        },
        {
          "data": {
            "text/plain": "<function ipywidgets.widgets.interaction._InteractFactory.__call__.<locals>.<lambda>(*args, **kwargs)>"
          },
          "execution_count": 7,
          "metadata": {},
          "output_type": "execute_result"
        }
      ]
    }
  ],
  "metadata": {
    "kernelspec": {
      "name": "python36",
      "display_name": "Python 3.6",
      "language": "python"
    },
    "language_info": {
      "mimetype": "text/x-python",
      "nbconvert_exporter": "python",
      "name": "python",
      "pygments_lexer": "ipython3",
      "version": "3.6.6",
      "file_extension": ".py",
      "codemirror_mode": {
        "version": 3,
        "name": "ipython"
      }
    }
  },
  "nbformat": 4,
  "nbformat_minor": 2
}