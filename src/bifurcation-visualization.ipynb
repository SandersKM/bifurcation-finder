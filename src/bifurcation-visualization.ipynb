{
  "cells": [
    {
      "metadata": {},
      "cell_type": "markdown",
      "source": "# Program for Constructing Optimal Irrigation Networks\n## Kate Sanders\n### Senior Thesis 2020"
    },
    {
      "metadata": {},
      "cell_type": "markdown",
      "source": "This page is meant to host a user-friendly, interactive online program for evolving and visualizing locally optimal irrigation networks using the Bernot method and the Flow method. \n\nTo run a block of code, click on that code block and hit:\n```\nSHIFT + ENTER\n```\nYou should run each block of code in order. Doing otherwise will cause this program to crash.\n\nStart by loading the back-end code in the next block. You can view the full code on [github](https://github.com/SandersKM/bifurcation-finder). "
    },
    {
      "metadata": {
        "trusted": true
      },
      "cell_type": "code",
      "source": "from ipywidgets import interact\nfrom bokeh.io import show, output_notebook\nfrom IPython.display import Javascript\ntry:\n    from src.bernot_notebook_functions import BernotNotebook\n    from src.flow_notebook_functions import FlowNotebook\nexcept ImportError:\n    import sys\n    sys.path.append('./')\n    from bernot_notebook_functions import BernotNotebook\n    from flow_notebook_functions import FlowNotebook\noutput_notebook()",
      "execution_count": 1,
      "outputs": [
        {
          "output_type": "display_data",
          "data": {
            "text/html": "\n    <div class=\"bk-root\">\n        <a href=\"https://bokeh.pydata.org\" target=\"_blank\" class=\"bk-logo bk-logo-small bk-logo-notebook\"></a>\n        <span id=\"29e40772-d312-4019-8469-41e1d300467c\">Loading BokehJS ...</span>\n    </div>"
          },
          "metadata": {}
        },
        {
          "output_type": "display_data",
          "data": {
            "application/javascript": "\n(function(root) {\n  function now() {\n    return new Date();\n  }\n\n  var force = true;\n\n  if (typeof (root._bokeh_onload_callbacks) === \"undefined\" || force === true) {\n    root._bokeh_onload_callbacks = [];\n    root._bokeh_is_loading = undefined;\n  }\n\n  var JS_MIME_TYPE = 'application/javascript';\n  var HTML_MIME_TYPE = 'text/html';\n  var EXEC_MIME_TYPE = 'application/vnd.bokehjs_exec.v0+json';\n  var CLASS_NAME = 'output_bokeh rendered_html';\n\n  /**\n   * Render data to the DOM node\n   */\n  function render(props, node) {\n    var script = document.createElement(\"script\");\n    node.appendChild(script);\n  }\n\n  /**\n   * Handle when an output is cleared or removed\n   */\n  function handleClearOutput(event, handle) {\n    var cell = handle.cell;\n\n    var id = cell.output_area._bokeh_element_id;\n    var server_id = cell.output_area._bokeh_server_id;\n    // Clean up Bokeh references\n    if (id != null && id in Bokeh.index) {\n      Bokeh.index[id].model.document.clear();\n      delete Bokeh.index[id];\n    }\n\n    if (server_id !== undefined) {\n      // Clean up Bokeh references\n      var cmd = \"from bokeh.io.state import curstate; print(curstate().uuid_to_server['\" + server_id + \"'].get_sessions()[0].document.roots[0]._id)\";\n      cell.notebook.kernel.execute(cmd, {\n        iopub: {\n          output: function(msg) {\n            var id = msg.content.text.trim();\n            if (id in Bokeh.index) {\n              Bokeh.index[id].model.document.clear();\n              delete Bokeh.index[id];\n            }\n          }\n        }\n      });\n      // Destroy server and session\n      var cmd = \"import bokeh.io.notebook as ion; ion.destroy_server('\" + server_id + \"')\";\n      cell.notebook.kernel.execute(cmd);\n    }\n  }\n\n  /**\n   * Handle when a new output is added\n   */\n  function handleAddOutput(event, handle) {\n    var output_area = handle.output_area;\n    var output = handle.output;\n\n    // limit handleAddOutput to display_data with EXEC_MIME_TYPE content only\n    if ((output.output_type != \"display_data\") || (!output.data.hasOwnProperty(EXEC_MIME_TYPE))) {\n      return\n    }\n\n    var toinsert = output_area.element.find(\".\" + CLASS_NAME.split(' ')[0]);\n\n    if (output.metadata[EXEC_MIME_TYPE][\"id\"] !== undefined) {\n      toinsert[toinsert.length - 1].firstChild.textContent = output.data[JS_MIME_TYPE];\n      // store reference to embed id on output_area\n      output_area._bokeh_element_id = output.metadata[EXEC_MIME_TYPE][\"id\"];\n    }\n    if (output.metadata[EXEC_MIME_TYPE][\"server_id\"] !== undefined) {\n      var bk_div = document.createElement(\"div\");\n      bk_div.innerHTML = output.data[HTML_MIME_TYPE];\n      var script_attrs = bk_div.children[0].attributes;\n      for (var i = 0; i < script_attrs.length; i++) {\n        toinsert[toinsert.length - 1].firstChild.setAttribute(script_attrs[i].name, script_attrs[i].value);\n      }\n      // store reference to server id on output_area\n      output_area._bokeh_server_id = output.metadata[EXEC_MIME_TYPE][\"server_id\"];\n    }\n  }\n\n  function register_renderer(events, OutputArea) {\n\n    function append_mime(data, metadata, element) {\n      // create a DOM node to render to\n      var toinsert = this.create_output_subarea(\n        metadata,\n        CLASS_NAME,\n        EXEC_MIME_TYPE\n      );\n      this.keyboard_manager.register_events(toinsert);\n      // Render to node\n      var props = {data: data, metadata: metadata[EXEC_MIME_TYPE]};\n      render(props, toinsert[toinsert.length - 1]);\n      element.append(toinsert);\n      return toinsert\n    }\n\n    /* Handle when an output is cleared or removed */\n    events.on('clear_output.CodeCell', handleClearOutput);\n    events.on('delete.Cell', handleClearOutput);\n\n    /* Handle when a new output is added */\n    events.on('output_added.OutputArea', handleAddOutput);\n\n    /**\n     * Register the mime type and append_mime function with output_area\n     */\n    OutputArea.prototype.register_mime_type(EXEC_MIME_TYPE, append_mime, {\n      /* Is output safe? */\n      safe: true,\n      /* Index of renderer in `output_area.display_order` */\n      index: 0\n    });\n  }\n\n  // register the mime type if in Jupyter Notebook environment and previously unregistered\n  if (root.Jupyter !== undefined) {\n    var events = require('base/js/events');\n    var OutputArea = require('notebook/js/outputarea').OutputArea;\n\n    if (OutputArea.prototype.mime_types().indexOf(EXEC_MIME_TYPE) == -1) {\n      register_renderer(events, OutputArea);\n    }\n  }\n\n  \n  if (typeof (root._bokeh_timeout) === \"undefined\" || force === true) {\n    root._bokeh_timeout = Date.now() + 5000;\n    root._bokeh_failed_load = false;\n  }\n\n  var NB_LOAD_WARNING = {'data': {'text/html':\n     \"<div style='background-color: #fdd'>\\n\"+\n     \"<p>\\n\"+\n     \"BokehJS does not appear to have successfully loaded. If loading BokehJS from CDN, this \\n\"+\n     \"may be due to a slow or bad network connection. Possible fixes:\\n\"+\n     \"</p>\\n\"+\n     \"<ul>\\n\"+\n     \"<li>re-rerun `output_notebook()` to attempt to load from CDN again, or</li>\\n\"+\n     \"<li>use INLINE resources instead, as so:</li>\\n\"+\n     \"</ul>\\n\"+\n     \"<code>\\n\"+\n     \"from bokeh.resources import INLINE\\n\"+\n     \"output_notebook(resources=INLINE)\\n\"+\n     \"</code>\\n\"+\n     \"</div>\"}};\n\n  function display_loaded() {\n    var el = document.getElementById(\"29e40772-d312-4019-8469-41e1d300467c\");\n    if (el != null) {\n      el.textContent = \"BokehJS is loading...\";\n    }\n    if (root.Bokeh !== undefined) {\n      if (el != null) {\n        el.textContent = \"BokehJS \" + root.Bokeh.version + \" successfully loaded.\";\n      }\n    } else if (Date.now() < root._bokeh_timeout) {\n      setTimeout(display_loaded, 100)\n    }\n  }\n\n\n  function run_callbacks() {\n    try {\n      root._bokeh_onload_callbacks.forEach(function(callback) { callback() });\n    }\n    finally {\n      delete root._bokeh_onload_callbacks\n    }\n    console.info(\"Bokeh: all callbacks have finished\");\n  }\n\n  function load_libs(js_urls, callback) {\n    root._bokeh_onload_callbacks.push(callback);\n    if (root._bokeh_is_loading > 0) {\n      console.log(\"Bokeh: BokehJS is being loaded, scheduling callback at\", now());\n      return null;\n    }\n    if (js_urls == null || js_urls.length === 0) {\n      run_callbacks();\n      return null;\n    }\n    console.log(\"Bokeh: BokehJS not loaded, scheduling load and callback at\", now());\n    root._bokeh_is_loading = js_urls.length;\n    for (var i = 0; i < js_urls.length; i++) {\n      var url = js_urls[i];\n      var s = document.createElement('script');\n      s.src = url;\n      s.async = false;\n      s.onreadystatechange = s.onload = function() {\n        root._bokeh_is_loading--;\n        if (root._bokeh_is_loading === 0) {\n          console.log(\"Bokeh: all BokehJS libraries loaded\");\n          run_callbacks()\n        }\n      };\n      s.onerror = function() {\n        console.warn(\"failed to load library \" + url);\n      };\n      console.log(\"Bokeh: injecting script tag for BokehJS library: \", url);\n      document.getElementsByTagName(\"head\")[0].appendChild(s);\n    }\n  };var element = document.getElementById(\"29e40772-d312-4019-8469-41e1d300467c\");\n  if (element == null) {\n    console.log(\"Bokeh: ERROR: autoload.js configured with elementid '29e40772-d312-4019-8469-41e1d300467c' but no matching script tag was found. \")\n    return false;\n  }\n\n  var js_urls = [\"https://cdn.pydata.org/bokeh/release/bokeh-0.13.0.min.js\", \"https://cdn.pydata.org/bokeh/release/bokeh-widgets-0.13.0.min.js\", \"https://cdn.pydata.org/bokeh/release/bokeh-tables-0.13.0.min.js\", \"https://cdn.pydata.org/bokeh/release/bokeh-gl-0.13.0.min.js\"];\n\n  var inline_js = [\n    function(Bokeh) {\n      Bokeh.set_log_level(\"info\");\n    },\n    \n    function(Bokeh) {\n      \n    },\n    function(Bokeh) {\n      console.log(\"Bokeh: injecting CSS: https://cdn.pydata.org/bokeh/release/bokeh-0.13.0.min.css\");\n      Bokeh.embed.inject_css(\"https://cdn.pydata.org/bokeh/release/bokeh-0.13.0.min.css\");\n      console.log(\"Bokeh: injecting CSS: https://cdn.pydata.org/bokeh/release/bokeh-widgets-0.13.0.min.css\");\n      Bokeh.embed.inject_css(\"https://cdn.pydata.org/bokeh/release/bokeh-widgets-0.13.0.min.css\");\n      console.log(\"Bokeh: injecting CSS: https://cdn.pydata.org/bokeh/release/bokeh-tables-0.13.0.min.css\");\n      Bokeh.embed.inject_css(\"https://cdn.pydata.org/bokeh/release/bokeh-tables-0.13.0.min.css\");\n    }\n  ];\n\n  function run_inline_js() {\n    \n    if ((root.Bokeh !== undefined) || (force === true)) {\n      for (var i = 0; i < inline_js.length; i++) {\n        inline_js[i].call(root, root.Bokeh);\n      }if (force === true) {\n        display_loaded();\n      }} else if (Date.now() < root._bokeh_timeout) {\n      setTimeout(run_inline_js, 100);\n    } else if (!root._bokeh_failed_load) {\n      console.log(\"Bokeh: BokehJS failed to load within specified timeout.\");\n      root._bokeh_failed_load = true;\n    } else if (force !== true) {\n      var cell = $(document.getElementById(\"29e40772-d312-4019-8469-41e1d300467c\")).parents('.cell').data().cell;\n      cell.output_area.append_execute_result(NB_LOAD_WARNING)\n    }\n\n  }\n\n  if (root._bokeh_is_loading === 0) {\n    console.log(\"Bokeh: BokehJS loaded, going straight to plotting\");\n    run_inline_js();\n  } else {\n    load_libs(js_urls, function() {\n      console.log(\"Bokeh: BokehJS plotting callback run at\", now());\n      run_inline_js();\n    });\n  }\n}(window));",
            "application/vnd.bokehjs_load.v0+json": "\n(function(root) {\n  function now() {\n    return new Date();\n  }\n\n  var force = true;\n\n  if (typeof (root._bokeh_onload_callbacks) === \"undefined\" || force === true) {\n    root._bokeh_onload_callbacks = [];\n    root._bokeh_is_loading = undefined;\n  }\n\n  \n\n  \n  if (typeof (root._bokeh_timeout) === \"undefined\" || force === true) {\n    root._bokeh_timeout = Date.now() + 5000;\n    root._bokeh_failed_load = false;\n  }\n\n  var NB_LOAD_WARNING = {'data': {'text/html':\n     \"<div style='background-color: #fdd'>\\n\"+\n     \"<p>\\n\"+\n     \"BokehJS does not appear to have successfully loaded. If loading BokehJS from CDN, this \\n\"+\n     \"may be due to a slow or bad network connection. Possible fixes:\\n\"+\n     \"</p>\\n\"+\n     \"<ul>\\n\"+\n     \"<li>re-rerun `output_notebook()` to attempt to load from CDN again, or</li>\\n\"+\n     \"<li>use INLINE resources instead, as so:</li>\\n\"+\n     \"</ul>\\n\"+\n     \"<code>\\n\"+\n     \"from bokeh.resources import INLINE\\n\"+\n     \"output_notebook(resources=INLINE)\\n\"+\n     \"</code>\\n\"+\n     \"</div>\"}};\n\n  function display_loaded() {\n    var el = document.getElementById(\"29e40772-d312-4019-8469-41e1d300467c\");\n    if (el != null) {\n      el.textContent = \"BokehJS is loading...\";\n    }\n    if (root.Bokeh !== undefined) {\n      if (el != null) {\n        el.textContent = \"BokehJS \" + root.Bokeh.version + \" successfully loaded.\";\n      }\n    } else if (Date.now() < root._bokeh_timeout) {\n      setTimeout(display_loaded, 100)\n    }\n  }\n\n\n  function run_callbacks() {\n    try {\n      root._bokeh_onload_callbacks.forEach(function(callback) { callback() });\n    }\n    finally {\n      delete root._bokeh_onload_callbacks\n    }\n    console.info(\"Bokeh: all callbacks have finished\");\n  }\n\n  function load_libs(js_urls, callback) {\n    root._bokeh_onload_callbacks.push(callback);\n    if (root._bokeh_is_loading > 0) {\n      console.log(\"Bokeh: BokehJS is being loaded, scheduling callback at\", now());\n      return null;\n    }\n    if (js_urls == null || js_urls.length === 0) {\n      run_callbacks();\n      return null;\n    }\n    console.log(\"Bokeh: BokehJS not loaded, scheduling load and callback at\", now());\n    root._bokeh_is_loading = js_urls.length;\n    for (var i = 0; i < js_urls.length; i++) {\n      var url = js_urls[i];\n      var s = document.createElement('script');\n      s.src = url;\n      s.async = false;\n      s.onreadystatechange = s.onload = function() {\n        root._bokeh_is_loading--;\n        if (root._bokeh_is_loading === 0) {\n          console.log(\"Bokeh: all BokehJS libraries loaded\");\n          run_callbacks()\n        }\n      };\n      s.onerror = function() {\n        console.warn(\"failed to load library \" + url);\n      };\n      console.log(\"Bokeh: injecting script tag for BokehJS library: \", url);\n      document.getElementsByTagName(\"head\")[0].appendChild(s);\n    }\n  };var element = document.getElementById(\"29e40772-d312-4019-8469-41e1d300467c\");\n  if (element == null) {\n    console.log(\"Bokeh: ERROR: autoload.js configured with elementid '29e40772-d312-4019-8469-41e1d300467c' but no matching script tag was found. \")\n    return false;\n  }\n\n  var js_urls = [\"https://cdn.pydata.org/bokeh/release/bokeh-0.13.0.min.js\", \"https://cdn.pydata.org/bokeh/release/bokeh-widgets-0.13.0.min.js\", \"https://cdn.pydata.org/bokeh/release/bokeh-tables-0.13.0.min.js\", \"https://cdn.pydata.org/bokeh/release/bokeh-gl-0.13.0.min.js\"];\n\n  var inline_js = [\n    function(Bokeh) {\n      Bokeh.set_log_level(\"info\");\n    },\n    \n    function(Bokeh) {\n      \n    },\n    function(Bokeh) {\n      console.log(\"Bokeh: injecting CSS: https://cdn.pydata.org/bokeh/release/bokeh-0.13.0.min.css\");\n      Bokeh.embed.inject_css(\"https://cdn.pydata.org/bokeh/release/bokeh-0.13.0.min.css\");\n      console.log(\"Bokeh: injecting CSS: https://cdn.pydata.org/bokeh/release/bokeh-widgets-0.13.0.min.css\");\n      Bokeh.embed.inject_css(\"https://cdn.pydata.org/bokeh/release/bokeh-widgets-0.13.0.min.css\");\n      console.log(\"Bokeh: injecting CSS: https://cdn.pydata.org/bokeh/release/bokeh-tables-0.13.0.min.css\");\n      Bokeh.embed.inject_css(\"https://cdn.pydata.org/bokeh/release/bokeh-tables-0.13.0.min.css\");\n    }\n  ];\n\n  function run_inline_js() {\n    \n    if ((root.Bokeh !== undefined) || (force === true)) {\n      for (var i = 0; i < inline_js.length; i++) {\n        inline_js[i].call(root, root.Bokeh);\n      }if (force === true) {\n        display_loaded();\n      }} else if (Date.now() < root._bokeh_timeout) {\n      setTimeout(run_inline_js, 100);\n    } else if (!root._bokeh_failed_load) {\n      console.log(\"Bokeh: BokehJS failed to load within specified timeout.\");\n      root._bokeh_failed_load = true;\n    } else if (force !== true) {\n      var cell = $(document.getElementById(\"29e40772-d312-4019-8469-41e1d300467c\")).parents('.cell').data().cell;\n      cell.output_area.append_execute_result(NB_LOAD_WARNING)\n    }\n\n  }\n\n  if (root._bokeh_is_loading === 0) {\n    console.log(\"Bokeh: BokehJS loaded, going straight to plotting\");\n    run_inline_js();\n  } else {\n    load_libs(js_urls, function() {\n      console.log(\"Bokeh: BokehJS plotting callback run at\", now());\n      run_inline_js();\n    });\n  }\n}(window));"
          },
          "metadata": {}
        }
      ]
    },
    {
      "metadata": {},
      "cell_type": "markdown",
      "source": "## Bernot Method\n\nBegin by loading this method and set the number of sources you would like in your irrigation network."
    },
    {
      "metadata": {
        "trusted": true
      },
      "cell_type": "code",
      "source": "notebook = BernotNotebook()\nJavascript(notebook.get_string_to_set_autoscroll_to_false())\nnotebook.get_source_number_slider()",
      "execution_count": 23,
      "outputs": [
        {
          "output_type": "display_data",
          "data": {
            "application/vnd.jupyter.widget-view+json": {
              "model_id": "ae79fa37fc09421e9b304b8a8c217cf7",
              "version_minor": 0,
              "version_major": 2
            },
            "text/plain": "IntSlider(value=2, description='# Sources', max=10, min=2)"
          },
          "metadata": {}
        }
      ]
    },
    {
      "metadata": {},
      "cell_type": "markdown",
      "source": "This next method makes a widget where you can set the $x$ and $y$ values of your sources and sink, as well as the $\\alpha$ value."
    },
    {
      "metadata": {
        "trusted": true
      },
      "cell_type": "code",
      "source": "notebook.make_tabs()",
      "execution_count": 26,
      "outputs": [
        {
          "output_type": "display_data",
          "data": {
            "application/vnd.jupyter.widget-view+json": {
              "model_id": "1ee23a0374ce4d4c8d65f7712d54699c",
              "version_minor": 0,
              "version_major": 2
            },
            "text/plain": "Tab(children=(VBox(children=(HBox(children=(FloatText(value=0.0, description='X'), FloatText(value=3.0, descri…"
          },
          "metadata": {}
        }
      ]
    },
    {
      "metadata": {},
      "cell_type": "markdown",
      "source": "This method constructs a locally optimal irrigation network, and creates a visualization of how the network evolves through the Bernot method. Each step corresponds to a step in the Bernot method, with the final step being the final solution. "
    },
    {
      "metadata": {
        "trusted": true
      },
      "cell_type": "code",
      "source": "notebook.make_bernot_graph()\nshow(notebook.get_figure(), notebook_handle=True)\ndisplay(notebook.get_output())\ninteract(notebook.update, step=(0, len(notebook.graph.visualization_steps) - 1, 1))",
      "execution_count": 28,
      "outputs": [
        {
          "output_type": "display_data",
          "data": {
            "text/html": "\n\n\n\n\n\n  <div class=\"bk-root\" id=\"5d876620-686e-4224-81ae-ccd13604e32c\"></div>\n"
          },
          "metadata": {}
        },
        {
          "output_type": "display_data",
          "data": {
            "application/javascript": "(function(root) {\n  function embed_document(root) {\n    \n  var docs_json = {\"8960bbd5-479c-4fd3-8edf-df5f876d6253\":{\"roots\":{\"references\":[{\"attributes\":{\"dimension\":1,\"plot\":{\"id\":\"3079ac9e-1630-4480-b719-0ff6e441d5e6\",\"subtype\":\"Figure\",\"type\":\"Plot\"},\"ticker\":{\"id\":\"b587655a-280c-4b88-ab7f-f09c7f99e65b\",\"type\":\"BasicTicker\"}},\"id\":\"e69ad2b6-f546-43c9-b66e-09a9dbdd8e7c\",\"type\":\"Grid\"},{\"attributes\":{},\"id\":\"b587655a-280c-4b88-ab7f-f09c7f99e65b\",\"type\":\"BasicTicker\"},{\"attributes\":{},\"id\":\"166abe65-8bac-4483-844d-dcc66358944b\",\"type\":\"LinearScale\"},{\"attributes\":{\"source\":{\"id\":\"bb240456-1b63-4d88-9c10-3432036444cf\",\"type\":\"ColumnDataSource\"}},\"id\":\"5a26cc0d-f1fa-42de-876b-e7e79c31a91f\",\"type\":\"CDSView\"},{\"attributes\":{\"plot\":{\"id\":\"3079ac9e-1630-4480-b719-0ff6e441d5e6\",\"subtype\":\"Figure\",\"type\":\"Plot\"},\"ticker\":{\"id\":\"8b600d66-0e37-4c6d-be0e-d30664bf6ad4\",\"type\":\"BasicTicker\"}},\"id\":\"e8e17eac-8801-4060-aba9-229c3bd7685d\",\"type\":\"Grid\"},{\"attributes\":{\"callback\":null,\"data\":{\"alpha\":[0.5,0.5,0.5,0.5],\"color\":[\"green\",\"green\",\"green\",\"red\"],\"size\":[15,15,15,15],\"x_values\":[0.0,2.0,4.0,3.0],\"y_values\":[4.0,4.0,3.0,0.0]},\"selected\":{\"id\":\"88a1eff4-fef3-4373-87a1-dd1b42c2030f\",\"type\":\"Selection\"},\"selection_policy\":{\"id\":\"b6e76f55-2c75-4753-b203-a2246588424d\",\"type\":\"UnionRenderers\"}},\"id\":\"bb240456-1b63-4d88-9c10-3432036444cf\",\"type\":\"ColumnDataSource\"},{\"attributes\":{\"overlay\":{\"id\":\"9ec72cc9-a834-416c-bea8-adb4d6dc8c22\",\"type\":\"BoxAnnotation\"}},\"id\":\"0aef1887-8e84-4042-9cdf-557b7b97c09a\",\"type\":\"BoxZoomTool\"},{\"attributes\":{},\"id\":\"0903b5c8-9c62-422e-819a-b01e50026bb5\",\"type\":\"BasicTickFormatter\"},{\"attributes\":{\"bottom_units\":\"screen\",\"fill_alpha\":{\"value\":0.5},\"fill_color\":{\"value\":\"lightgrey\"},\"left_units\":\"screen\",\"level\":\"overlay\",\"line_alpha\":{\"value\":1.0},\"line_color\":{\"value\":\"black\"},\"line_dash\":[4,4],\"line_width\":{\"value\":2},\"plot\":null,\"render_mode\":\"css\",\"right_units\":\"screen\",\"top_units\":\"screen\"},\"id\":\"9ec72cc9-a834-416c-bea8-adb4d6dc8c22\",\"type\":\"BoxAnnotation\"},{\"attributes\":{},\"id\":\"63e91e29-ab16-4f53-abba-9e99094c7aec\",\"type\":\"UnionRenderers\"},{\"attributes\":{\"source\":{\"id\":\"dc786f9a-1aa2-4347-95fe-670cc4051b46\",\"type\":\"ColumnDataSource\"}},\"id\":\"14ff3c11-7e19-47f5-974f-97ec5b9c83f9\",\"type\":\"CDSView\"},{\"attributes\":{\"source\":{\"id\":\"4ef50702-4aea-4f01-96d2-a91b58c9bc1d\",\"type\":\"ColumnDataSource\"}},\"id\":\"97ac9350-6162-4fed-9108-c24516a51598\",\"type\":\"CDSView\"},{\"attributes\":{\"fill_color\":{\"value\":null},\"height\":{\"field\":\"diameter\",\"units\":\"data\"},\"line_alpha\":{\"field\":\"line_alpha\"},\"line_color\":{\"field\":\"color\"},\"line_width\":{\"value\":2},\"width\":{\"field\":\"diameter\",\"units\":\"data\"},\"x\":{\"field\":\"x_values\"},\"y\":{\"field\":\"y_values\"}},\"id\":\"2198248a-30f6-4745-939f-a727c65780ee\",\"type\":\"Ellipse\"},{\"attributes\":{\"plot\":null,\"text\":\"\"},\"id\":\"eca1d4e9-5cd1-4b83-a2ec-759df69e7ee8\",\"type\":\"Title\"},{\"attributes\":{\"fill_alpha\":{\"value\":0.1},\"fill_color\":{\"value\":\"#1f77b4\"},\"line_alpha\":{\"value\":0.1},\"line_color\":{\"value\":\"#1f77b4\"},\"size\":{\"field\":\"size\",\"units\":\"screen\"},\"x\":{\"field\":\"x_values\"},\"y\":{\"field\":\"y_values\"}},\"id\":\"4b7b2419-ff41-41cd-8fb3-a13e2b90dc14\",\"type\":\"Circle\"},{\"attributes\":{},\"id\":\"5ef9b448-fb85-4890-8b44-40bd8943abb8\",\"type\":\"PanTool\"},{\"attributes\":{\"data_source\":{\"id\":\"dc786f9a-1aa2-4347-95fe-670cc4051b46\",\"type\":\"ColumnDataSource\"},\"glyph\":{\"id\":\"70783bbc-7820-45c5-9b85-250c8b59979e\",\"type\":\"Segment\"},\"hover_glyph\":null,\"muted_glyph\":null,\"nonselection_glyph\":{\"id\":\"f14639be-587c-4e76-a0b6-17cb66ea64b4\",\"type\":\"Segment\"},\"selection_glyph\":null,\"view\":{\"id\":\"14ff3c11-7e19-47f5-974f-97ec5b9c83f9\",\"type\":\"CDSView\"}},\"id\":\"0f8257d0-8988-43be-a610-ae2933273fec\",\"type\":\"GlyphRenderer\"},{\"attributes\":{\"fill_alpha\":{\"field\":\"alpha\"},\"fill_color\":{\"field\":\"color\"},\"line_alpha\":{\"field\":\"alpha\"},\"line_color\":{\"field\":\"color\"},\"size\":{\"field\":\"size\",\"units\":\"screen\"},\"x\":{\"field\":\"x_values\"},\"y\":{\"field\":\"y_values\"}},\"id\":\"1ac2b95c-7ec8-4732-bb2f-a6713ff72430\",\"type\":\"Circle\"},{\"attributes\":{\"data_source\":{\"id\":\"bb240456-1b63-4d88-9c10-3432036444cf\",\"type\":\"ColumnDataSource\"},\"glyph\":{\"id\":\"1ac2b95c-7ec8-4732-bb2f-a6713ff72430\",\"type\":\"Circle\"},\"hover_glyph\":null,\"muted_glyph\":null,\"nonselection_glyph\":{\"id\":\"4b7b2419-ff41-41cd-8fb3-a13e2b90dc14\",\"type\":\"Circle\"},\"selection_glyph\":null,\"view\":{\"id\":\"5a26cc0d-f1fa-42de-876b-e7e79c31a91f\",\"type\":\"CDSView\"}},\"id\":\"2483ebfc-5e6c-4ddb-b62b-f3ee818421bb\",\"type\":\"GlyphRenderer\"},{\"attributes\":{\"line_alpha\":{\"value\":0.1},\"line_color\":{\"value\":\"#1f77b4\"},\"line_width\":{\"value\":2},\"x0\":{\"field\":\"x0\"},\"x1\":{\"field\":\"x1\"},\"y0\":{\"field\":\"y0\"},\"y1\":{\"field\":\"y1\"}},\"id\":\"f14639be-587c-4e76-a0b6-17cb66ea64b4\",\"type\":\"Segment\"},{\"attributes\":{\"line_alpha\":{\"field\":\"line_alpha\"},\"line_width\":{\"value\":2},\"x0\":{\"field\":\"x0\"},\"x1\":{\"field\":\"x1\"},\"y0\":{\"field\":\"y0\"},\"y1\":{\"field\":\"y1\"}},\"id\":\"70783bbc-7820-45c5-9b85-250c8b59979e\",\"type\":\"Segment\"},{\"attributes\":{\"callback\":null,\"data\":{\"color\":[],\"diameter\":[],\"line_alpha\":[],\"x_values\":[],\"y_values\":[]},\"selected\":{\"id\":\"a068a14e-720a-4f6b-bcf0-d0d46dac562a\",\"type\":\"Selection\"},\"selection_policy\":{\"id\":\"63e91e29-ab16-4f53-abba-9e99094c7aec\",\"type\":\"UnionRenderers\"}},\"id\":\"4ef50702-4aea-4f01-96d2-a91b58c9bc1d\",\"type\":\"ColumnDataSource\"},{\"attributes\":{},\"id\":\"a6977936-2a68-4608-81df-3aa8cb17bda4\",\"type\":\"WheelZoomTool\"},{\"attributes\":{},\"id\":\"b6e76f55-2c75-4753-b203-a2246588424d\",\"type\":\"UnionRenderers\"},{\"attributes\":{\"callback\":null,\"data\":{\"line_alpha\":[],\"x0\":[],\"x1\":[],\"y0\":[],\"y1\":[]},\"selected\":{\"id\":\"d98303ab-a2c6-41dc-b744-eb79cb82c29f\",\"type\":\"Selection\"},\"selection_policy\":{\"id\":\"a557d57f-e2d6-492a-aec0-bd79bf230686\",\"type\":\"UnionRenderers\"}},\"id\":\"dc786f9a-1aa2-4347-95fe-670cc4051b46\",\"type\":\"ColumnDataSource\"},{\"attributes\":{},\"id\":\"88a1eff4-fef3-4373-87a1-dd1b42c2030f\",\"type\":\"Selection\"},{\"attributes\":{},\"id\":\"8dd312a8-d385-4d41-a57c-f5debd988bc1\",\"type\":\"BasicTickFormatter\"},{\"attributes\":{},\"id\":\"a557d57f-e2d6-492a-aec0-bd79bf230686\",\"type\":\"UnionRenderers\"},{\"attributes\":{},\"id\":\"86d30ed3-f135-4d81-919f-869c27ac4f2b\",\"type\":\"LinearScale\"},{\"attributes\":{\"formatter\":{\"id\":\"8dd312a8-d385-4d41-a57c-f5debd988bc1\",\"type\":\"BasicTickFormatter\"},\"plot\":{\"id\":\"3079ac9e-1630-4480-b719-0ff6e441d5e6\",\"subtype\":\"Figure\",\"type\":\"Plot\"},\"ticker\":{\"id\":\"039f98f4-16b5-40b2-bd07-903202453a7c\",\"type\":\"SingleIntervalTicker\"}},\"id\":\"feb084a7-6e4e-4c29-b4a1-2a4bba52352f\",\"type\":\"LinearAxis\"},{\"attributes\":{\"callback\":null},\"id\":\"61c5a06c-2788-4875-841c-c0172c9cfeb4\",\"type\":\"DataRange1d\"},{\"attributes\":{\"interval\":1},\"id\":\"039f98f4-16b5-40b2-bd07-903202453a7c\",\"type\":\"SingleIntervalTicker\"},{\"attributes\":{},\"id\":\"a068a14e-720a-4f6b-bcf0-d0d46dac562a\",\"type\":\"Selection\"},{\"attributes\":{\"callback\":null},\"id\":\"840abd3a-f15a-49ad-a943-02c3275356f7\",\"type\":\"DataRange1d\"},{\"attributes\":{\"fill_alpha\":{\"value\":0.1},\"fill_color\":{\"value\":\"#1f77b4\"},\"height\":{\"field\":\"diameter\",\"units\":\"data\"},\"line_alpha\":{\"value\":0.1},\"line_color\":{\"value\":\"#1f77b4\"},\"line_width\":{\"value\":2},\"width\":{\"field\":\"diameter\",\"units\":\"data\"},\"x\":{\"field\":\"x_values\"},\"y\":{\"field\":\"y_values\"}},\"id\":\"71716fb2-bcbc-4904-823c-0704c1a535d0\",\"type\":\"Ellipse\"},{\"attributes\":{},\"id\":\"0963df7b-bf87-4d2d-98eb-5dc4009e9805\",\"type\":\"ResetTool\"},{\"attributes\":{\"interval\":1},\"id\":\"69935e8a-22d8-4a75-b9a2-fc955773a224\",\"type\":\"SingleIntervalTicker\"},{\"attributes\":{\"formatter\":{\"id\":\"0903b5c8-9c62-422e-819a-b01e50026bb5\",\"type\":\"BasicTickFormatter\"},\"plot\":{\"id\":\"3079ac9e-1630-4480-b719-0ff6e441d5e6\",\"subtype\":\"Figure\",\"type\":\"Plot\"},\"ticker\":{\"id\":\"69935e8a-22d8-4a75-b9a2-fc955773a224\",\"type\":\"SingleIntervalTicker\"}},\"id\":\"1333093a-05ba-4d80-9d27-f8f0524dbb43\",\"type\":\"LinearAxis\"},{\"attributes\":{\"active_drag\":\"auto\",\"active_inspect\":\"auto\",\"active_multi\":null,\"active_scroll\":\"auto\",\"active_tap\":\"auto\",\"tools\":[{\"id\":\"5ef9b448-fb85-4890-8b44-40bd8943abb8\",\"type\":\"PanTool\"},{\"id\":\"a6977936-2a68-4608-81df-3aa8cb17bda4\",\"type\":\"WheelZoomTool\"},{\"id\":\"0aef1887-8e84-4042-9cdf-557b7b97c09a\",\"type\":\"BoxZoomTool\"},{\"id\":\"8ace2b1e-e2c2-40e0-9523-f6327d139754\",\"type\":\"SaveTool\"},{\"id\":\"0963df7b-bf87-4d2d-98eb-5dc4009e9805\",\"type\":\"ResetTool\"},{\"id\":\"67bb6401-6336-4c91-94df-2424e80853c9\",\"type\":\"HelpTool\"}]},\"id\":\"3a4a7238-4f50-4384-9039-4f701ba36696\",\"type\":\"Toolbar\"},{\"attributes\":{},\"id\":\"67bb6401-6336-4c91-94df-2424e80853c9\",\"type\":\"HelpTool\"},{\"attributes\":{},\"id\":\"8ace2b1e-e2c2-40e0-9523-f6327d139754\",\"type\":\"SaveTool\"},{\"attributes\":{\"below\":[{\"id\":\"1333093a-05ba-4d80-9d27-f8f0524dbb43\",\"type\":\"LinearAxis\"}],\"left\":[{\"id\":\"feb084a7-6e4e-4c29-b4a1-2a4bba52352f\",\"type\":\"LinearAxis\"}],\"match_aspect\":true,\"renderers\":[{\"id\":\"1333093a-05ba-4d80-9d27-f8f0524dbb43\",\"type\":\"LinearAxis\"},{\"id\":\"e8e17eac-8801-4060-aba9-229c3bd7685d\",\"type\":\"Grid\"},{\"id\":\"feb084a7-6e4e-4c29-b4a1-2a4bba52352f\",\"type\":\"LinearAxis\"},{\"id\":\"e69ad2b6-f546-43c9-b66e-09a9dbdd8e7c\",\"type\":\"Grid\"},{\"id\":\"9ec72cc9-a834-416c-bea8-adb4d6dc8c22\",\"type\":\"BoxAnnotation\"},{\"id\":\"2483ebfc-5e6c-4ddb-b62b-f3ee818421bb\",\"type\":\"GlyphRenderer\"},{\"id\":\"e2cf2059-6fe5-4cba-b49f-d499c4fe6e3e\",\"type\":\"GlyphRenderer\"},{\"id\":\"0f8257d0-8988-43be-a610-ae2933273fec\",\"type\":\"GlyphRenderer\"}],\"title\":{\"id\":\"eca1d4e9-5cd1-4b83-a2ec-759df69e7ee8\",\"type\":\"Title\"},\"toolbar\":{\"id\":\"3a4a7238-4f50-4384-9039-4f701ba36696\",\"type\":\"Toolbar\"},\"x_range\":{\"id\":\"840abd3a-f15a-49ad-a943-02c3275356f7\",\"type\":\"DataRange1d\"},\"x_scale\":{\"id\":\"166abe65-8bac-4483-844d-dcc66358944b\",\"type\":\"LinearScale\"},\"y_range\":{\"id\":\"61c5a06c-2788-4875-841c-c0172c9cfeb4\",\"type\":\"DataRange1d\"},\"y_scale\":{\"id\":\"86d30ed3-f135-4d81-919f-869c27ac4f2b\",\"type\":\"LinearScale\"}},\"id\":\"3079ac9e-1630-4480-b719-0ff6e441d5e6\",\"subtype\":\"Figure\",\"type\":\"Plot\"},{\"attributes\":{\"data_source\":{\"id\":\"4ef50702-4aea-4f01-96d2-a91b58c9bc1d\",\"type\":\"ColumnDataSource\"},\"glyph\":{\"id\":\"2198248a-30f6-4745-939f-a727c65780ee\",\"type\":\"Ellipse\"},\"hover_glyph\":null,\"muted_glyph\":null,\"nonselection_glyph\":{\"id\":\"71716fb2-bcbc-4904-823c-0704c1a535d0\",\"type\":\"Ellipse\"},\"selection_glyph\":null,\"view\":{\"id\":\"97ac9350-6162-4fed-9108-c24516a51598\",\"type\":\"CDSView\"}},\"id\":\"e2cf2059-6fe5-4cba-b49f-d499c4fe6e3e\",\"type\":\"GlyphRenderer\"},{\"attributes\":{},\"id\":\"8b600d66-0e37-4c6d-be0e-d30664bf6ad4\",\"type\":\"BasicTicker\"},{\"attributes\":{},\"id\":\"d98303ab-a2c6-41dc-b744-eb79cb82c29f\",\"type\":\"Selection\"}],\"root_ids\":[\"3079ac9e-1630-4480-b719-0ff6e441d5e6\"]},\"title\":\"Bokeh Application\",\"version\":\"0.13.0\"}};\n  var render_items = [{\"docid\":\"8960bbd5-479c-4fd3-8edf-df5f876d6253\",\"notebook_comms_target\":\"d69bd9f0-1ed3-4686-99c7-7ca6cdc1e1ce\",\"roots\":{\"3079ac9e-1630-4480-b719-0ff6e441d5e6\":\"5d876620-686e-4224-81ae-ccd13604e32c\"}}];\n  root.Bokeh.embed.embed_items_notebook(docs_json, render_items);\n\n  }\n  if (root.Bokeh !== undefined) {\n    embed_document(root);\n  } else {\n    var attempts = 0;\n    var timer = setInterval(function(root) {\n      if (root.Bokeh !== undefined) {\n        embed_document(root);\n        clearInterval(timer);\n      }\n      attempts++;\n      if (attempts > 100) {\n        console.log(\"Bokeh: ERROR: Unable to run BokehJS code because BokehJS library is missing\")\n        clearInterval(timer);\n      }\n    }, 10, root)\n  }\n})(window);",
            "application/vnd.bokehjs_exec.v0+json": ""
          },
          "metadata": {
            "application/vnd.bokehjs_exec.v0+json": {
              "id": "3079ac9e-1630-4480-b719-0ff6e441d5e6"
            }
          }
        },
        {
          "output_type": "display_data",
          "data": {
            "application/vnd.jupyter.widget-view+json": {
              "model_id": "c58e96c922334ebfbb40f77243d9b587",
              "version_minor": 0,
              "version_major": 2
            },
            "text/plain": "Output(layout=Layout(border='1px solid black'))"
          },
          "metadata": {}
        },
        {
          "output_type": "display_data",
          "data": {
            "application/vnd.jupyter.widget-view+json": {
              "model_id": "730f8bed3c1f4ad18f6b986b2b025f73",
              "version_minor": 0,
              "version_major": 2
            },
            "text/plain": "interactive(children=(IntSlider(value=0, description='step', max=12), Output()), _dom_classes=('widget-interac…"
          },
          "metadata": {}
        },
        {
          "output_type": "execute_result",
          "execution_count": 28,
          "data": {
            "text/plain": "<function ipywidgets.widgets.interaction._InteractFactory.__call__.<locals>.<lambda>(*args, **kwargs)>"
          },
          "metadata": {}
        }
      ]
    },
    {
      "metadata": {},
      "cell_type": "markdown",
      "source": "## Flow Method\n\nBegin by loading the method and changing the $x$ and $y$ coordiantes for two sources and one sink. You can also change the $\\alpha$ value and step size, $h$."
    },
    {
      "metadata": {
        "trusted": true
      },
      "cell_type": "code",
      "source": "notebook = FlowNotebook()\nJavascript(notebook.get_string_to_set_autoscroll_to_false())\nnotebook.get_tab()",
      "execution_count": 14,
      "outputs": [
        {
          "output_type": "display_data",
          "data": {
            "application/vnd.jupyter.widget-view+json": {
              "model_id": "d8ca296d03cf4a40bc20b618e3852ac3",
              "version_minor": 0,
              "version_major": 2
            },
            "text/plain": "Tab(children=(Accordion(children=(BoundedFloatText(value=0.0, max=10.0, step=0.1), BoundedFloatText(value=1.0,…"
          },
          "metadata": {}
        }
      ]
    },
    {
      "metadata": {},
      "cell_type": "markdown",
      "source": "This next cell carries out the Flow method and outputs the locally optimal bifurcation point position, as well as the total cost, $G$, of that position and the final $\\theta$ value."
    },
    {
      "metadata": {
        "trusted": true
      },
      "cell_type": "code",
      "source": "notebook.get_optimal_bifurcation_point()",
      "execution_count": 16,
      "outputs": [
        {
          "output_type": "display_data",
          "data": {
            "application/vnd.jupyter.widget-view+json": {
              "model_id": "8639ce1e11a9408db423479fa7f5298a",
              "version_minor": 0,
              "version_major": 2
            },
            "text/plain": "Output(layout=Layout(border='1px solid black'), outputs=({'output_type': 'stream', 'name': 'stdout', 'text': '…"
          },
          "metadata": {}
        }
      ]
    },
    {
      "metadata": {},
      "cell_type": "markdown",
      "source": "Finally, a visualization of the flow process at work, where each step iteratively decreases the network cost. "
    },
    {
      "metadata": {
        "trusted": true
      },
      "cell_type": "code",
      "source": "show(notebook.get_figure(), notebook_handle=True)\ndisplay(notebook.get_output())\ninteract(notebook.update, step=(0, len(notebook.steps), len(notebook.steps)//10))",
      "execution_count": 9,
      "outputs": [
        {
          "output_type": "display_data",
          "data": {
            "text/html": "\n\n\n\n\n\n  <div class=\"bk-root\" id=\"25519874-5a37-4827-bf5f-8beb207f3af4\"></div>\n"
          },
          "metadata": {}
        },
        {
          "output_type": "display_data",
          "data": {
            "application/javascript": "(function(root) {\n  function embed_document(root) {\n    \n  var docs_json = {\"417ceaf6-4125-4141-9a26-08d8980d0295\":{\"roots\":{\"references\":[{\"attributes\":{\"line_alpha\":{\"value\":0.1},\"line_color\":{\"value\":\"#1f77b4\"},\"line_width\":{\"value\":3},\"x0\":{\"field\":\"x0\"},\"x1\":{\"field\":\"x1\"},\"y0\":{\"field\":\"y0\"},\"y1\":{\"field\":\"y1\"}},\"id\":\"f46efac7-8c26-4c60-874b-7f21a2468a09\",\"type\":\"Segment\"},{\"attributes\":{},\"id\":\"39a67fff-03cf-45be-ae23-a29bc0c837a9\",\"type\":\"Selection\"},{\"attributes\":{},\"id\":\"be3b1b61-204e-4327-a7ab-a20f1bfdc6f6\",\"type\":\"LinearScale\"},{\"attributes\":{\"interval\":1},\"id\":\"827d3509-0d63-4bc0-9d3b-1b27b43c1875\",\"type\":\"SingleIntervalTicker\"},{\"attributes\":{\"callback\":null,\"data\":{\"x_values\":[1.0,0.0,1.0,1.0],\"y_values\":[3.0,3.0,0.0,0.0]},\"selected\":{\"id\":\"39a67fff-03cf-45be-ae23-a29bc0c837a9\",\"type\":\"Selection\"},\"selection_policy\":{\"id\":\"1a7f518d-117a-4f10-aa1d-898436a4bf07\",\"type\":\"UnionRenderers\"}},\"id\":\"a0f54b52-1df5-4bc7-8105-60cf1ce7082f\",\"type\":\"ColumnDataSource\"},{\"attributes\":{\"active_drag\":\"auto\",\"active_inspect\":\"auto\",\"active_multi\":null,\"active_scroll\":\"auto\",\"active_tap\":\"auto\",\"tools\":[{\"id\":\"197fb9d8-44b4-4eab-a5b3-c980b5912961\",\"type\":\"PanTool\"},{\"id\":\"fb1be6b1-5f0a-43cb-87ac-698127fe3a83\",\"type\":\"WheelZoomTool\"},{\"id\":\"9ee783b5-8190-441c-8fba-a822a66c2a1c\",\"type\":\"BoxZoomTool\"},{\"id\":\"f2bb18c3-d7c7-4c8e-9bbc-54ac14128c0e\",\"type\":\"SaveTool\"},{\"id\":\"961b3ca4-61a3-436d-8f1b-1bb18fb194c9\",\"type\":\"ResetTool\"},{\"id\":\"a9f2ad0e-f0f5-48bb-a2ca-02786bf6c2c5\",\"type\":\"HelpTool\"}]},\"id\":\"e86a3788-f8a5-4909-8e32-54f6cc547618\",\"type\":\"Toolbar\"},{\"attributes\":{\"callback\":null},\"id\":\"dd7ab964-86ea-47a3-b841-c4ca4397d906\",\"type\":\"DataRange1d\"},{\"attributes\":{},\"id\":\"196a80ad-58a2-49c9-b455-4a3520c7ae36\",\"type\":\"BasicTickFormatter\"},{\"attributes\":{\"callback\":null,\"data\":{\"x0\":[1.0,0.0,1.0],\"x1\":[1.0,1.0,1.0],\"y0\":[3.0,3.0,0.0],\"y1\":[0.0,0.0,0.0]},\"selected\":{\"id\":\"79400af8-ee54-44fb-b855-b95a18b28a05\",\"type\":\"Selection\"},\"selection_policy\":{\"id\":\"4364ec3a-225a-4234-9eaa-0d74f0d0ab84\",\"type\":\"UnionRenderers\"}},\"id\":\"1cad6476-71f0-4772-9740-8b067ef0208f\",\"type\":\"ColumnDataSource\"},{\"attributes\":{\"data_source\":{\"id\":\"a0f54b52-1df5-4bc7-8105-60cf1ce7082f\",\"type\":\"ColumnDataSource\"},\"glyph\":{\"id\":\"0565e4ee-8ff8-4734-8424-d3f6d29a4947\",\"type\":\"Circle\"},\"hover_glyph\":null,\"muted_glyph\":null,\"nonselection_glyph\":{\"id\":\"80198b8a-6252-4714-be82-6c8e7c7be5c3\",\"type\":\"Circle\"},\"selection_glyph\":null,\"view\":{\"id\":\"e75c7262-095e-4bd9-b840-a2eae0391d73\",\"type\":\"CDSView\"}},\"id\":\"abb0cf41-93da-46ad-8f59-166b781a8aef\",\"type\":\"GlyphRenderer\"},{\"attributes\":{\"below\":[{\"id\":\"bd6112d1-8bef-44f8-85b3-3cbe3f950f73\",\"type\":\"LinearAxis\"}],\"left\":[{\"id\":\"e3bccefe-0af6-4f6e-a7ee-62e2fac631e4\",\"type\":\"LinearAxis\"}],\"renderers\":[{\"id\":\"bd6112d1-8bef-44f8-85b3-3cbe3f950f73\",\"type\":\"LinearAxis\"},{\"id\":\"c08568e4-24db-4891-94c7-6a352e38c8a9\",\"type\":\"Grid\"},{\"id\":\"e3bccefe-0af6-4f6e-a7ee-62e2fac631e4\",\"type\":\"LinearAxis\"},{\"id\":\"31230889-fdbd-4993-8123-195d0b472a40\",\"type\":\"Grid\"},{\"id\":\"68e7f8fe-c6ae-45b1-86d3-d04ade77d4aa\",\"type\":\"BoxAnnotation\"},{\"id\":\"abb0cf41-93da-46ad-8f59-166b781a8aef\",\"type\":\"GlyphRenderer\"},{\"id\":\"aec4fe75-89b9-478e-baa6-4c511727bbc9\",\"type\":\"GlyphRenderer\"}],\"title\":{\"id\":\"36ffdcb6-5436-41c5-857a-fb7d2c0a67c9\",\"type\":\"Title\"},\"toolbar\":{\"id\":\"e86a3788-f8a5-4909-8e32-54f6cc547618\",\"type\":\"Toolbar\"},\"x_range\":{\"id\":\"dd7ab964-86ea-47a3-b841-c4ca4397d906\",\"type\":\"DataRange1d\"},\"x_scale\":{\"id\":\"f06609e3-24fe-4f92-a1d0-1793db63c53e\",\"type\":\"LinearScale\"},\"y_range\":{\"id\":\"659a6981-7904-4bda-85bd-47fc98ceac8b\",\"type\":\"DataRange1d\"},\"y_scale\":{\"id\":\"be3b1b61-204e-4327-a7ab-a20f1bfdc6f6\",\"type\":\"LinearScale\"}},\"id\":\"a7059823-1a15-48e6-9345-3b075486bc79\",\"subtype\":\"Figure\",\"type\":\"Plot\"},{\"attributes\":{\"plot\":{\"id\":\"a7059823-1a15-48e6-9345-3b075486bc79\",\"subtype\":\"Figure\",\"type\":\"Plot\"},\"ticker\":{\"id\":\"65ea1f5b-d8f2-40ac-b22b-7be3346cd392\",\"type\":\"BasicTicker\"}},\"id\":\"c08568e4-24db-4891-94c7-6a352e38c8a9\",\"type\":\"Grid\"},{\"attributes\":{},\"id\":\"65ea1f5b-d8f2-40ac-b22b-7be3346cd392\",\"type\":\"BasicTicker\"},{\"attributes\":{\"callback\":null},\"id\":\"659a6981-7904-4bda-85bd-47fc98ceac8b\",\"type\":\"DataRange1d\"},{\"attributes\":{},\"id\":\"f06609e3-24fe-4f92-a1d0-1793db63c53e\",\"type\":\"LinearScale\"},{\"attributes\":{},\"id\":\"79400af8-ee54-44fb-b855-b95a18b28a05\",\"type\":\"Selection\"},{\"attributes\":{\"bottom_units\":\"screen\",\"fill_alpha\":{\"value\":0.5},\"fill_color\":{\"value\":\"lightgrey\"},\"left_units\":\"screen\",\"level\":\"overlay\",\"line_alpha\":{\"value\":1.0},\"line_color\":{\"value\":\"black\"},\"line_dash\":[4,4],\"line_width\":{\"value\":2},\"plot\":null,\"render_mode\":\"css\",\"right_units\":\"screen\",\"top_units\":\"screen\"},\"id\":\"68e7f8fe-c6ae-45b1-86d3-d04ade77d4aa\",\"type\":\"BoxAnnotation\"},{\"attributes\":{\"fill_color\":{\"value\":\"#1f77b4\"},\"line_color\":{\"value\":\"#1f77b4\"},\"x\":{\"field\":\"x_values\"},\"y\":{\"field\":\"y_values\"}},\"id\":\"0565e4ee-8ff8-4734-8424-d3f6d29a4947\",\"type\":\"Circle\"},{\"attributes\":{\"plot\":null,\"text\":\"\"},\"id\":\"36ffdcb6-5436-41c5-857a-fb7d2c0a67c9\",\"type\":\"Title\"},{\"attributes\":{},\"id\":\"a1ac35b9-b042-473b-8246-94c4b5f5d48f\",\"type\":\"BasicTicker\"},{\"attributes\":{\"formatter\":{\"id\":\"82ff54f0-37ac-49c1-8d00-6b597c834926\",\"type\":\"BasicTickFormatter\"},\"plot\":{\"id\":\"a7059823-1a15-48e6-9345-3b075486bc79\",\"subtype\":\"Figure\",\"type\":\"Plot\"},\"ticker\":{\"id\":\"c99655ea-1ed7-499b-b17c-01a54170e64c\",\"type\":\"SingleIntervalTicker\"}},\"id\":\"e3bccefe-0af6-4f6e-a7ee-62e2fac631e4\",\"type\":\"LinearAxis\"},{\"attributes\":{\"dimension\":1,\"plot\":{\"id\":\"a7059823-1a15-48e6-9345-3b075486bc79\",\"subtype\":\"Figure\",\"type\":\"Plot\"},\"ticker\":{\"id\":\"a1ac35b9-b042-473b-8246-94c4b5f5d48f\",\"type\":\"BasicTicker\"}},\"id\":\"31230889-fdbd-4993-8123-195d0b472a40\",\"type\":\"Grid\"},{\"attributes\":{\"source\":{\"id\":\"1cad6476-71f0-4772-9740-8b067ef0208f\",\"type\":\"ColumnDataSource\"}},\"id\":\"b126c401-8bd6-42ba-9ae7-08c30e2ebb8b\",\"type\":\"CDSView\"},{\"attributes\":{},\"id\":\"197fb9d8-44b4-4eab-a5b3-c980b5912961\",\"type\":\"PanTool\"},{\"attributes\":{},\"id\":\"82ff54f0-37ac-49c1-8d00-6b597c834926\",\"type\":\"BasicTickFormatter\"},{\"attributes\":{},\"id\":\"961b3ca4-61a3-436d-8f1b-1bb18fb194c9\",\"type\":\"ResetTool\"},{\"attributes\":{},\"id\":\"4364ec3a-225a-4234-9eaa-0d74f0d0ab84\",\"type\":\"UnionRenderers\"},{\"attributes\":{\"source\":{\"id\":\"a0f54b52-1df5-4bc7-8105-60cf1ce7082f\",\"type\":\"ColumnDataSource\"}},\"id\":\"e75c7262-095e-4bd9-b840-a2eae0391d73\",\"type\":\"CDSView\"},{\"attributes\":{\"fill_alpha\":{\"value\":0.1},\"fill_color\":{\"value\":\"#1f77b4\"},\"line_alpha\":{\"value\":0.1},\"line_color\":{\"value\":\"#1f77b4\"},\"x\":{\"field\":\"x_values\"},\"y\":{\"field\":\"y_values\"}},\"id\":\"80198b8a-6252-4714-be82-6c8e7c7be5c3\",\"type\":\"Circle\"},{\"attributes\":{},\"id\":\"1a7f518d-117a-4f10-aa1d-898436a4bf07\",\"type\":\"UnionRenderers\"},{\"attributes\":{},\"id\":\"fb1be6b1-5f0a-43cb-87ac-698127fe3a83\",\"type\":\"WheelZoomTool\"},{\"attributes\":{\"overlay\":{\"id\":\"68e7f8fe-c6ae-45b1-86d3-d04ade77d4aa\",\"type\":\"BoxAnnotation\"}},\"id\":\"9ee783b5-8190-441c-8fba-a822a66c2a1c\",\"type\":\"BoxZoomTool\"},{\"attributes\":{},\"id\":\"f2bb18c3-d7c7-4c8e-9bbc-54ac14128c0e\",\"type\":\"SaveTool\"},{\"attributes\":{\"line_color\":{\"value\":\"navy\"},\"line_width\":{\"value\":3},\"x0\":{\"field\":\"x0\"},\"x1\":{\"field\":\"x1\"},\"y0\":{\"field\":\"y0\"},\"y1\":{\"field\":\"y1\"}},\"id\":\"cb6a29ca-a105-4fb8-a6da-d90bc06b7651\",\"type\":\"Segment\"},{\"attributes\":{},\"id\":\"a9f2ad0e-f0f5-48bb-a2ca-02786bf6c2c5\",\"type\":\"HelpTool\"},{\"attributes\":{\"data_source\":{\"id\":\"1cad6476-71f0-4772-9740-8b067ef0208f\",\"type\":\"ColumnDataSource\"},\"glyph\":{\"id\":\"cb6a29ca-a105-4fb8-a6da-d90bc06b7651\",\"type\":\"Segment\"},\"hover_glyph\":null,\"muted_glyph\":null,\"nonselection_glyph\":{\"id\":\"f46efac7-8c26-4c60-874b-7f21a2468a09\",\"type\":\"Segment\"},\"selection_glyph\":null,\"view\":{\"id\":\"b126c401-8bd6-42ba-9ae7-08c30e2ebb8b\",\"type\":\"CDSView\"}},\"id\":\"aec4fe75-89b9-478e-baa6-4c511727bbc9\",\"type\":\"GlyphRenderer\"},{\"attributes\":{\"formatter\":{\"id\":\"196a80ad-58a2-49c9-b455-4a3520c7ae36\",\"type\":\"BasicTickFormatter\"},\"plot\":{\"id\":\"a7059823-1a15-48e6-9345-3b075486bc79\",\"subtype\":\"Figure\",\"type\":\"Plot\"},\"ticker\":{\"id\":\"827d3509-0d63-4bc0-9d3b-1b27b43c1875\",\"type\":\"SingleIntervalTicker\"}},\"id\":\"bd6112d1-8bef-44f8-85b3-3cbe3f950f73\",\"type\":\"LinearAxis\"},{\"attributes\":{\"interval\":1},\"id\":\"c99655ea-1ed7-499b-b17c-01a54170e64c\",\"type\":\"SingleIntervalTicker\"}],\"root_ids\":[\"a7059823-1a15-48e6-9345-3b075486bc79\"]},\"title\":\"Bokeh Application\",\"version\":\"0.13.0\"}};\n  var render_items = [{\"docid\":\"417ceaf6-4125-4141-9a26-08d8980d0295\",\"notebook_comms_target\":\"a2e8c68c-52c5-4f43-832d-26f467ccbcda\",\"roots\":{\"a7059823-1a15-48e6-9345-3b075486bc79\":\"25519874-5a37-4827-bf5f-8beb207f3af4\"}}];\n  root.Bokeh.embed.embed_items_notebook(docs_json, render_items);\n\n  }\n  if (root.Bokeh !== undefined) {\n    embed_document(root);\n  } else {\n    var attempts = 0;\n    var timer = setInterval(function(root) {\n      if (root.Bokeh !== undefined) {\n        embed_document(root);\n        clearInterval(timer);\n      }\n      attempts++;\n      if (attempts > 100) {\n        console.log(\"Bokeh: ERROR: Unable to run BokehJS code because BokehJS library is missing\")\n        clearInterval(timer);\n      }\n    }, 10, root)\n  }\n})(window);",
            "application/vnd.bokehjs_exec.v0+json": ""
          },
          "metadata": {
            "application/vnd.bokehjs_exec.v0+json": {
              "id": "a7059823-1a15-48e6-9345-3b075486bc79"
            }
          }
        },
        {
          "output_type": "display_data",
          "data": {
            "application/vnd.jupyter.widget-view+json": {
              "model_id": "a378739ef367463a85852bab1800ff5f",
              "version_minor": 0,
              "version_major": 2
            },
            "text/plain": "Output(layout=Layout(border='1px solid black'))"
          },
          "metadata": {}
        },
        {
          "output_type": "display_data",
          "data": {
            "application/vnd.jupyter.widget-view+json": {
              "model_id": "a9b42e9bd1b44168bb839bb7fbffb427",
              "version_minor": 0,
              "version_major": 2
            },
            "text/plain": "interactive(children=(IntSlider(value=0, description='step', max=20, step=2), Output()), _dom_classes=('widget…"
          },
          "metadata": {}
        },
        {
          "output_type": "execute_result",
          "execution_count": 9,
          "data": {
            "text/plain": "<function ipywidgets.widgets.interaction._InteractFactory.__call__.<locals>.<lambda>(*args, **kwargs)>"
          },
          "metadata": {}
        }
      ]
    }
  ],
  "metadata": {
    "kernelspec": {
      "name": "python36",
      "display_name": "Python 3.6",
      "language": "python"
    },
    "language_info": {
      "mimetype": "text/x-python",
      "nbconvert_exporter": "python",
      "name": "python",
      "pygments_lexer": "ipython3",
      "version": "3.6.6",
      "file_extension": ".py",
      "codemirror_mode": {
        "version": 3,
        "name": "ipython"
      }
    }
  },
  "nbformat": 4,
  "nbformat_minor": 2
}