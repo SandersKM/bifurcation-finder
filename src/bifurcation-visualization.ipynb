{
 "cells": [
  {
   "cell_type": "code",
   "execution_count": null,
   "metadata": {
    "trusted": true
   },
   "outputs": [
    {
     "data": {
      "text/html": [
       "\n    <div class=\"bk-root\">\n        <a href=\"https://bokeh.pydata.org\" target=\"_blank\" class=\"bk-logo bk-logo-small bk-logo-notebook\"></a>\n        <span id=\"5f3f84b2-0ba1-46fa-8013-aa6e19e692b3\">Loading BokehJS ...</span>\n    </div>"
      ]
     },
     "metadata": {},
     "output_type": "execute_result"
    },
    {
     "data": {},
     "metadata": {},
     "output_type": "display_data"
    },
    {
     "data": {
      "text/plain": [
       "Tab(children=(Accordion(children=(BoundedFloatText(value=0.0, max=10.0, step=0.1), BoundedFloatText(value=1.0,…"
      ]
     },
     "metadata": {},
     "output_type": "display_data"
    }
   ],
   "source": [
    "from ipywidgets import interact\n",
    "from bokeh.io import show, output_notebook\n",
    "from IPython.display import Javascript\n",
    "try:\n",
    "    from src.flow_calculations.notebook_functions import Notebook\n",
    "except ImportError:\n",
    "    import sys\n",
    "    sys.path.insert(0,'./flow_calculations/')\n",
    "    \n",
    "    from notebook_functions import Notebook\n",
    "output_notebook()\n",
    "notebook = Notebook()\n",
    "Javascript(notebook.get_string_to_set_autoscroll_to_false())\n",
    "notebook.get_tab()"
   ]
  },
  {
   "cell_type": "code",
   "execution_count": 6,
   "metadata": {
    "trusted": true
   },
   "outputs": [
    {
     "data": {
      "text/plain": [
       "Output(layout=Layout(border='1px solid black'), outputs=({'output_type': 'stream', 'name': 'stdout', 'text': '…"
      ]
     },
     "metadata": {},
     "output_type": "display_data"
    }
   ],
   "source": [
    "notebook.get_optimal_bifurcation_point()"
   ]
  },
  {
   "cell_type": "code",
   "execution_count": 7,
   "metadata": {
    "trusted": true
   },
   "outputs": [
    {
     "data": {
      "text/html": [
       "\n\n\n\n\n\n  <div class=\"bk-root\" id=\"b92cabc4-ce28-4293-a931-4c37f2a46a8c\"></div>\n"
      ]
     },
     "metadata": {},
     "output_type": "execute_result"
    },
    {
     "data": {},
     "metadata": {
      "application/vnd.bokehjs_exec.v0+json": {
       "id": "b7b0dec5-0cc6-42fc-b7fb-e5c97ab2667f"
      }
     },
     "output_type": "display_data"
    },
    {
     "data": {
      "text/plain": [
       "Output(layout=Layout(border='1px solid black'))"
      ]
     },
     "metadata": {},
     "output_type": "display_data"
    },
    {
     "data": {
      "text/plain": [
       "interactive(children=(IntSlider(value=0, description='step', max=32, step=3), Output()), _dom_classes=('widget…"
      ]
     },
     "metadata": {},
     "output_type": "display_data"
    },
    {
     "data": {
      "text/plain": [
       "<function ipywidgets.widgets.interaction._InteractFactory.__call__.<locals>.<lambda>(*args, **kwargs)>"
      ]
     },
     "execution_count": 7,
     "metadata": {},
     "output_type": "execute_result"
    }
   ],
   "source": [
    "show(notebook.get_figure(), notebook_handle=True)\n",
    "display(notebook.get_output())\n",
    "interact(notebook.update, step=(0, len(notebook.steps), len(notebook.steps)//10))"
   ]
  }
 ],
 "metadata": {
  "kernelspec": {
   "name": "python36",
   "display_name": "Python 3.6",
   "language": "python"
  },
  "language_info": {
   "mimetype": "text/x-python",
   "nbconvert_exporter": "python",
   "name": "python",
   "pygments_lexer": "ipython3",
   "version": "3.6.6",
   "file_extension": ".py",
   "codemirror_mode": {
    "version": 3,
    "name": "ipython"
   }
  }
 },
 "nbformat": 4,
 "nbformat_minor": 2
}
