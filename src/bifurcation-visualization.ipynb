{
  "cells": [
    {
      "metadata": {},
      "cell_type": "markdown",
      "source": "# Program for Constructing Optimal Irrigation Networks\n## Kate Sanders\n### Senior Thesis 2020"
    },
    {
      "metadata": {},
      "cell_type": "markdown",
      "source": "This page is meant to host a user-friendly, interactive online program for evolving and visualizing locally optimal irrigation networks using the Bernot method and the Flow method. \n\nTo run a block of code, click on that code block and hit:\n```\nSHIFT + ENTER\n```\nYou should run each block of code in order. Doing otherwise will cause this program to crash.\n\nStart by loading the back-end code in the next block. You can view the full code on [github](https://github.com/SandersKM/bifurcation-finder). "
    },
    {
      "metadata": {
        "trusted": true
      },
      "cell_type": "code",
      "source": "from ipywidgets import interact\nfrom bokeh.io import show, output_notebook\nfrom IPython.display import Javascript\ntry:\n    from src.bernot_notebook_functions import BernotNotebook\n    from src.flow_notebook_functions import FlowNotebook\nexcept ImportError:\n    import sys\n    sys.path.append('./')\n    from bernot_notebook_functions import BernotNotebook\n    from flow_notebook_functions import FlowNotebook\noutput_notebook()",
      "execution_count": 1,
      "outputs": [
        {
          "output_type": "display_data",
          "data": {
            "text/html": "\n    <div class=\"bk-root\">\n        <a href=\"https://bokeh.pydata.org\" target=\"_blank\" class=\"bk-logo bk-logo-small bk-logo-notebook\"></a>\n        <span id=\"61eb7a26-c69c-47d9-a695-adc65db74182\">Loading BokehJS ...</span>\n    </div>"
          },
          "metadata": {}
        },
        {
          "output_type": "display_data",
          "data": {
            "application/javascript": "\n(function(root) {\n  function now() {\n    return new Date();\n  }\n\n  var force = true;\n\n  if (typeof (root._bokeh_onload_callbacks) === \"undefined\" || force === true) {\n    root._bokeh_onload_callbacks = [];\n    root._bokeh_is_loading = undefined;\n  }\n\n  var JS_MIME_TYPE = 'application/javascript';\n  var HTML_MIME_TYPE = 'text/html';\n  var EXEC_MIME_TYPE = 'application/vnd.bokehjs_exec.v0+json';\n  var CLASS_NAME = 'output_bokeh rendered_html';\n\n  /**\n   * Render data to the DOM node\n   */\n  function render(props, node) {\n    var script = document.createElement(\"script\");\n    node.appendChild(script);\n  }\n\n  /**\n   * Handle when an output is cleared or removed\n   */\n  function handleClearOutput(event, handle) {\n    var cell = handle.cell;\n\n    var id = cell.output_area._bokeh_element_id;\n    var server_id = cell.output_area._bokeh_server_id;\n    // Clean up Bokeh references\n    if (id != null && id in Bokeh.index) {\n      Bokeh.index[id].model.document.clear();\n      delete Bokeh.index[id];\n    }\n\n    if (server_id !== undefined) {\n      // Clean up Bokeh references\n      var cmd = \"from bokeh.io.state import curstate; print(curstate().uuid_to_server['\" + server_id + \"'].get_sessions()[0].document.roots[0]._id)\";\n      cell.notebook.kernel.execute(cmd, {\n        iopub: {\n          output: function(msg) {\n            var id = msg.content.text.trim();\n            if (id in Bokeh.index) {\n              Bokeh.index[id].model.document.clear();\n              delete Bokeh.index[id];\n            }\n          }\n        }\n      });\n      // Destroy server and session\n      var cmd = \"import bokeh.io.notebook as ion; ion.destroy_server('\" + server_id + \"')\";\n      cell.notebook.kernel.execute(cmd);\n    }\n  }\n\n  /**\n   * Handle when a new output is added\n   */\n  function handleAddOutput(event, handle) {\n    var output_area = handle.output_area;\n    var output = handle.output;\n\n    // limit handleAddOutput to display_data with EXEC_MIME_TYPE content only\n    if ((output.output_type != \"display_data\") || (!output.data.hasOwnProperty(EXEC_MIME_TYPE))) {\n      return\n    }\n\n    var toinsert = output_area.element.find(\".\" + CLASS_NAME.split(' ')[0]);\n\n    if (output.metadata[EXEC_MIME_TYPE][\"id\"] !== undefined) {\n      toinsert[toinsert.length - 1].firstChild.textContent = output.data[JS_MIME_TYPE];\n      // store reference to embed id on output_area\n      output_area._bokeh_element_id = output.metadata[EXEC_MIME_TYPE][\"id\"];\n    }\n    if (output.metadata[EXEC_MIME_TYPE][\"server_id\"] !== undefined) {\n      var bk_div = document.createElement(\"div\");\n      bk_div.innerHTML = output.data[HTML_MIME_TYPE];\n      var script_attrs = bk_div.children[0].attributes;\n      for (var i = 0; i < script_attrs.length; i++) {\n        toinsert[toinsert.length - 1].firstChild.setAttribute(script_attrs[i].name, script_attrs[i].value);\n      }\n      // store reference to server id on output_area\n      output_area._bokeh_server_id = output.metadata[EXEC_MIME_TYPE][\"server_id\"];\n    }\n  }\n\n  function register_renderer(events, OutputArea) {\n\n    function append_mime(data, metadata, element) {\n      // create a DOM node to render to\n      var toinsert = this.create_output_subarea(\n        metadata,\n        CLASS_NAME,\n        EXEC_MIME_TYPE\n      );\n      this.keyboard_manager.register_events(toinsert);\n      // Render to node\n      var props = {data: data, metadata: metadata[EXEC_MIME_TYPE]};\n      render(props, toinsert[toinsert.length - 1]);\n      element.append(toinsert);\n      return toinsert\n    }\n\n    /* Handle when an output is cleared or removed */\n    events.on('clear_output.CodeCell', handleClearOutput);\n    events.on('delete.Cell', handleClearOutput);\n\n    /* Handle when a new output is added */\n    events.on('output_added.OutputArea', handleAddOutput);\n\n    /**\n     * Register the mime type and append_mime function with output_area\n     */\n    OutputArea.prototype.register_mime_type(EXEC_MIME_TYPE, append_mime, {\n      /* Is output safe? */\n      safe: true,\n      /* Index of renderer in `output_area.display_order` */\n      index: 0\n    });\n  }\n\n  // register the mime type if in Jupyter Notebook environment and previously unregistered\n  if (root.Jupyter !== undefined) {\n    var events = require('base/js/events');\n    var OutputArea = require('notebook/js/outputarea').OutputArea;\n\n    if (OutputArea.prototype.mime_types().indexOf(EXEC_MIME_TYPE) == -1) {\n      register_renderer(events, OutputArea);\n    }\n  }\n\n  \n  if (typeof (root._bokeh_timeout) === \"undefined\" || force === true) {\n    root._bokeh_timeout = Date.now() + 5000;\n    root._bokeh_failed_load = false;\n  }\n\n  var NB_LOAD_WARNING = {'data': {'text/html':\n     \"<div style='background-color: #fdd'>\\n\"+\n     \"<p>\\n\"+\n     \"BokehJS does not appear to have successfully loaded. If loading BokehJS from CDN, this \\n\"+\n     \"may be due to a slow or bad network connection. Possible fixes:\\n\"+\n     \"</p>\\n\"+\n     \"<ul>\\n\"+\n     \"<li>re-rerun `output_notebook()` to attempt to load from CDN again, or</li>\\n\"+\n     \"<li>use INLINE resources instead, as so:</li>\\n\"+\n     \"</ul>\\n\"+\n     \"<code>\\n\"+\n     \"from bokeh.resources import INLINE\\n\"+\n     \"output_notebook(resources=INLINE)\\n\"+\n     \"</code>\\n\"+\n     \"</div>\"}};\n\n  function display_loaded() {\n    var el = document.getElementById(\"61eb7a26-c69c-47d9-a695-adc65db74182\");\n    if (el != null) {\n      el.textContent = \"BokehJS is loading...\";\n    }\n    if (root.Bokeh !== undefined) {\n      if (el != null) {\n        el.textContent = \"BokehJS \" + root.Bokeh.version + \" successfully loaded.\";\n      }\n    } else if (Date.now() < root._bokeh_timeout) {\n      setTimeout(display_loaded, 100)\n    }\n  }\n\n\n  function run_callbacks() {\n    try {\n      root._bokeh_onload_callbacks.forEach(function(callback) { callback() });\n    }\n    finally {\n      delete root._bokeh_onload_callbacks\n    }\n    console.info(\"Bokeh: all callbacks have finished\");\n  }\n\n  function load_libs(js_urls, callback) {\n    root._bokeh_onload_callbacks.push(callback);\n    if (root._bokeh_is_loading > 0) {\n      console.log(\"Bokeh: BokehJS is being loaded, scheduling callback at\", now());\n      return null;\n    }\n    if (js_urls == null || js_urls.length === 0) {\n      run_callbacks();\n      return null;\n    }\n    console.log(\"Bokeh: BokehJS not loaded, scheduling load and callback at\", now());\n    root._bokeh_is_loading = js_urls.length;\n    for (var i = 0; i < js_urls.length; i++) {\n      var url = js_urls[i];\n      var s = document.createElement('script');\n      s.src = url;\n      s.async = false;\n      s.onreadystatechange = s.onload = function() {\n        root._bokeh_is_loading--;\n        if (root._bokeh_is_loading === 0) {\n          console.log(\"Bokeh: all BokehJS libraries loaded\");\n          run_callbacks()\n        }\n      };\n      s.onerror = function() {\n        console.warn(\"failed to load library \" + url);\n      };\n      console.log(\"Bokeh: injecting script tag for BokehJS library: \", url);\n      document.getElementsByTagName(\"head\")[0].appendChild(s);\n    }\n  };var element = document.getElementById(\"61eb7a26-c69c-47d9-a695-adc65db74182\");\n  if (element == null) {\n    console.log(\"Bokeh: ERROR: autoload.js configured with elementid '61eb7a26-c69c-47d9-a695-adc65db74182' but no matching script tag was found. \")\n    return false;\n  }\n\n  var js_urls = [\"https://cdn.pydata.org/bokeh/release/bokeh-0.13.0.min.js\", \"https://cdn.pydata.org/bokeh/release/bokeh-widgets-0.13.0.min.js\", \"https://cdn.pydata.org/bokeh/release/bokeh-tables-0.13.0.min.js\", \"https://cdn.pydata.org/bokeh/release/bokeh-gl-0.13.0.min.js\"];\n\n  var inline_js = [\n    function(Bokeh) {\n      Bokeh.set_log_level(\"info\");\n    },\n    \n    function(Bokeh) {\n      \n    },\n    function(Bokeh) {\n      console.log(\"Bokeh: injecting CSS: https://cdn.pydata.org/bokeh/release/bokeh-0.13.0.min.css\");\n      Bokeh.embed.inject_css(\"https://cdn.pydata.org/bokeh/release/bokeh-0.13.0.min.css\");\n      console.log(\"Bokeh: injecting CSS: https://cdn.pydata.org/bokeh/release/bokeh-widgets-0.13.0.min.css\");\n      Bokeh.embed.inject_css(\"https://cdn.pydata.org/bokeh/release/bokeh-widgets-0.13.0.min.css\");\n      console.log(\"Bokeh: injecting CSS: https://cdn.pydata.org/bokeh/release/bokeh-tables-0.13.0.min.css\");\n      Bokeh.embed.inject_css(\"https://cdn.pydata.org/bokeh/release/bokeh-tables-0.13.0.min.css\");\n    }\n  ];\n\n  function run_inline_js() {\n    \n    if ((root.Bokeh !== undefined) || (force === true)) {\n      for (var i = 0; i < inline_js.length; i++) {\n        inline_js[i].call(root, root.Bokeh);\n      }if (force === true) {\n        display_loaded();\n      }} else if (Date.now() < root._bokeh_timeout) {\n      setTimeout(run_inline_js, 100);\n    } else if (!root._bokeh_failed_load) {\n      console.log(\"Bokeh: BokehJS failed to load within specified timeout.\");\n      root._bokeh_failed_load = true;\n    } else if (force !== true) {\n      var cell = $(document.getElementById(\"61eb7a26-c69c-47d9-a695-adc65db74182\")).parents('.cell').data().cell;\n      cell.output_area.append_execute_result(NB_LOAD_WARNING)\n    }\n\n  }\n\n  if (root._bokeh_is_loading === 0) {\n    console.log(\"Bokeh: BokehJS loaded, going straight to plotting\");\n    run_inline_js();\n  } else {\n    load_libs(js_urls, function() {\n      console.log(\"Bokeh: BokehJS plotting callback run at\", now());\n      run_inline_js();\n    });\n  }\n}(window));",
            "application/vnd.bokehjs_load.v0+json": "\n(function(root) {\n  function now() {\n    return new Date();\n  }\n\n  var force = true;\n\n  if (typeof (root._bokeh_onload_callbacks) === \"undefined\" || force === true) {\n    root._bokeh_onload_callbacks = [];\n    root._bokeh_is_loading = undefined;\n  }\n\n  \n\n  \n  if (typeof (root._bokeh_timeout) === \"undefined\" || force === true) {\n    root._bokeh_timeout = Date.now() + 5000;\n    root._bokeh_failed_load = false;\n  }\n\n  var NB_LOAD_WARNING = {'data': {'text/html':\n     \"<div style='background-color: #fdd'>\\n\"+\n     \"<p>\\n\"+\n     \"BokehJS does not appear to have successfully loaded. If loading BokehJS from CDN, this \\n\"+\n     \"may be due to a slow or bad network connection. Possible fixes:\\n\"+\n     \"</p>\\n\"+\n     \"<ul>\\n\"+\n     \"<li>re-rerun `output_notebook()` to attempt to load from CDN again, or</li>\\n\"+\n     \"<li>use INLINE resources instead, as so:</li>\\n\"+\n     \"</ul>\\n\"+\n     \"<code>\\n\"+\n     \"from bokeh.resources import INLINE\\n\"+\n     \"output_notebook(resources=INLINE)\\n\"+\n     \"</code>\\n\"+\n     \"</div>\"}};\n\n  function display_loaded() {\n    var el = document.getElementById(\"61eb7a26-c69c-47d9-a695-adc65db74182\");\n    if (el != null) {\n      el.textContent = \"BokehJS is loading...\";\n    }\n    if (root.Bokeh !== undefined) {\n      if (el != null) {\n        el.textContent = \"BokehJS \" + root.Bokeh.version + \" successfully loaded.\";\n      }\n    } else if (Date.now() < root._bokeh_timeout) {\n      setTimeout(display_loaded, 100)\n    }\n  }\n\n\n  function run_callbacks() {\n    try {\n      root._bokeh_onload_callbacks.forEach(function(callback) { callback() });\n    }\n    finally {\n      delete root._bokeh_onload_callbacks\n    }\n    console.info(\"Bokeh: all callbacks have finished\");\n  }\n\n  function load_libs(js_urls, callback) {\n    root._bokeh_onload_callbacks.push(callback);\n    if (root._bokeh_is_loading > 0) {\n      console.log(\"Bokeh: BokehJS is being loaded, scheduling callback at\", now());\n      return null;\n    }\n    if (js_urls == null || js_urls.length === 0) {\n      run_callbacks();\n      return null;\n    }\n    console.log(\"Bokeh: BokehJS not loaded, scheduling load and callback at\", now());\n    root._bokeh_is_loading = js_urls.length;\n    for (var i = 0; i < js_urls.length; i++) {\n      var url = js_urls[i];\n      var s = document.createElement('script');\n      s.src = url;\n      s.async = false;\n      s.onreadystatechange = s.onload = function() {\n        root._bokeh_is_loading--;\n        if (root._bokeh_is_loading === 0) {\n          console.log(\"Bokeh: all BokehJS libraries loaded\");\n          run_callbacks()\n        }\n      };\n      s.onerror = function() {\n        console.warn(\"failed to load library \" + url);\n      };\n      console.log(\"Bokeh: injecting script tag for BokehJS library: \", url);\n      document.getElementsByTagName(\"head\")[0].appendChild(s);\n    }\n  };var element = document.getElementById(\"61eb7a26-c69c-47d9-a695-adc65db74182\");\n  if (element == null) {\n    console.log(\"Bokeh: ERROR: autoload.js configured with elementid '61eb7a26-c69c-47d9-a695-adc65db74182' but no matching script tag was found. \")\n    return false;\n  }\n\n  var js_urls = [\"https://cdn.pydata.org/bokeh/release/bokeh-0.13.0.min.js\", \"https://cdn.pydata.org/bokeh/release/bokeh-widgets-0.13.0.min.js\", \"https://cdn.pydata.org/bokeh/release/bokeh-tables-0.13.0.min.js\", \"https://cdn.pydata.org/bokeh/release/bokeh-gl-0.13.0.min.js\"];\n\n  var inline_js = [\n    function(Bokeh) {\n      Bokeh.set_log_level(\"info\");\n    },\n    \n    function(Bokeh) {\n      \n    },\n    function(Bokeh) {\n      console.log(\"Bokeh: injecting CSS: https://cdn.pydata.org/bokeh/release/bokeh-0.13.0.min.css\");\n      Bokeh.embed.inject_css(\"https://cdn.pydata.org/bokeh/release/bokeh-0.13.0.min.css\");\n      console.log(\"Bokeh: injecting CSS: https://cdn.pydata.org/bokeh/release/bokeh-widgets-0.13.0.min.css\");\n      Bokeh.embed.inject_css(\"https://cdn.pydata.org/bokeh/release/bokeh-widgets-0.13.0.min.css\");\n      console.log(\"Bokeh: injecting CSS: https://cdn.pydata.org/bokeh/release/bokeh-tables-0.13.0.min.css\");\n      Bokeh.embed.inject_css(\"https://cdn.pydata.org/bokeh/release/bokeh-tables-0.13.0.min.css\");\n    }\n  ];\n\n  function run_inline_js() {\n    \n    if ((root.Bokeh !== undefined) || (force === true)) {\n      for (var i = 0; i < inline_js.length; i++) {\n        inline_js[i].call(root, root.Bokeh);\n      }if (force === true) {\n        display_loaded();\n      }} else if (Date.now() < root._bokeh_timeout) {\n      setTimeout(run_inline_js, 100);\n    } else if (!root._bokeh_failed_load) {\n      console.log(\"Bokeh: BokehJS failed to load within specified timeout.\");\n      root._bokeh_failed_load = true;\n    } else if (force !== true) {\n      var cell = $(document.getElementById(\"61eb7a26-c69c-47d9-a695-adc65db74182\")).parents('.cell').data().cell;\n      cell.output_area.append_execute_result(NB_LOAD_WARNING)\n    }\n\n  }\n\n  if (root._bokeh_is_loading === 0) {\n    console.log(\"Bokeh: BokehJS loaded, going straight to plotting\");\n    run_inline_js();\n  } else {\n    load_libs(js_urls, function() {\n      console.log(\"Bokeh: BokehJS plotting callback run at\", now());\n      run_inline_js();\n    });\n  }\n}(window));"
          },
          "metadata": {}
        }
      ]
    },
    {
      "metadata": {},
      "cell_type": "markdown",
      "source": "## Bernot Method\n\nBegin by loading this method and set the number of sources you would like in your irrigation network."
    },
    {
      "metadata": {
        "trusted": true
      },
      "cell_type": "code",
      "source": "bernotebook = BernotNotebook()\nJavascript(bernotebook.get_string_to_set_autoscroll_to_false())\nbernotebook.get_source_number_slider()",
      "execution_count": 2,
      "outputs": [
        {
          "output_type": "display_data",
          "data": {
            "application/vnd.jupyter.widget-view+json": {
              "model_id": "7aca59a8abd440aab8c209c24388fa3d",
              "version_minor": 0,
              "version_major": 2
            },
            "text/plain": "IntSlider(value=2, description='# Sources', max=10, min=2)"
          },
          "metadata": {}
        }
      ]
    },
    {
      "metadata": {},
      "cell_type": "markdown",
      "source": "This next method makes a widget where you can set the $x$ and $y$ values of your sources and sink, as well as the $\\alpha$ value. All node values must be distinct."
    },
    {
      "metadata": {
        "trusted": true
      },
      "cell_type": "code",
      "source": "bernotebook.make_tabs()",
      "execution_count": 7,
      "outputs": [
        {
          "output_type": "display_data",
          "data": {
            "application/vnd.jupyter.widget-view+json": {
              "model_id": "abe9ccce3fe540658c02d56320fd1622",
              "version_minor": 0,
              "version_major": 2
            },
            "text/plain": "Tab(children=(VBox(children=(HBox(children=(FloatText(value=0.0, description='X'), FloatText(value=3.0, descri…"
          },
          "metadata": {}
        }
      ]
    },
    {
      "metadata": {},
      "cell_type": "markdown",
      "source": "This method constructs a locally optimal irrigation network, and creates a visualization of how the network evolves through the Bernot method. Each step corresponds to a step in the Bernot method, with the final step being the final solution.\n\nSource and sink node weights are written to the upper left of the nodes. Sink nodes are red, source nodes are green, pivot points are purple, and bifurcation points are blue. "
    },
    {
      "metadata": {
        "trusted": true
      },
      "cell_type": "code",
      "source": "bernotebook.make_bernot_graph()\nshow(bernotebook.get_figure(), notebook_handle=True)\ndisplay(bernotebook.get_output())\ninteract(bernotebook.update, step=(0, len(bernotebook.graph.visualization_steps) - 1, 1))",
      "execution_count": 8,
      "outputs": [
        {
          "output_type": "display_data",
          "data": {
            "text/html": "\n\n\n\n\n\n  <div class=\"bk-root\" id=\"a145478b-b44f-40d0-b84b-ff92dfc8d77b\"></div>\n"
          },
          "metadata": {}
        },
        {
          "output_type": "display_data",
          "data": {
            "application/javascript": "(function(root) {\n  function embed_document(root) {\n    \n  var docs_json = {\"517601e5-3867-487e-b8ee-7f465a26b23d\":{\"roots\":{\"references\":[{\"attributes\":{},\"id\":\"33d754ce-8f97-45df-b7c4-9a90beafb7b0\",\"type\":\"BasicTicker\"},{\"attributes\":{\"fill_color\":{\"value\":null},\"height\":{\"field\":\"diameter\",\"units\":\"data\"},\"line_alpha\":{\"field\":\"line_alpha\"},\"line_color\":{\"field\":\"color\"},\"line_width\":{\"value\":2},\"width\":{\"field\":\"diameter\",\"units\":\"data\"},\"x\":{\"field\":\"x_values\"},\"y\":{\"field\":\"y_values\"}},\"id\":\"5f387e7e-b35c-4e0d-9409-e04d52b7e4fb\",\"type\":\"Ellipse\"},{\"attributes\":{\"fill_alpha\":{\"value\":0.1},\"fill_color\":{\"value\":\"#1f77b4\"},\"height\":{\"field\":\"diameter\",\"units\":\"data\"},\"line_alpha\":{\"value\":0.1},\"line_color\":{\"value\":\"#1f77b4\"},\"line_width\":{\"value\":2},\"width\":{\"field\":\"diameter\",\"units\":\"data\"},\"x\":{\"field\":\"x_values\"},\"y\":{\"field\":\"y_values\"}},\"id\":\"214d0b35-48e2-452f-a7b7-764235442032\",\"type\":\"Ellipse\"},{\"attributes\":{\"plot\":{\"id\":\"0767d7c3-50e4-437b-9f6b-4a14ba890e6e\",\"subtype\":\"Figure\",\"type\":\"Plot\"},\"ticker\":{\"id\":\"1172c5ac-ff9b-49e3-a5ea-3aa48a376520\",\"type\":\"BasicTicker\"}},\"id\":\"9e82c055-e16a-4a29-9fba-c960b3d9dc44\",\"type\":\"Grid\"},{\"attributes\":{},\"id\":\"f4424e98-27a5-4223-aec8-b72e8c771787\",\"type\":\"LinearScale\"},{\"attributes\":{\"bottom_units\":\"screen\",\"fill_alpha\":{\"value\":0.5},\"fill_color\":{\"value\":\"lightgrey\"},\"left_units\":\"screen\",\"level\":\"overlay\",\"line_alpha\":{\"value\":1.0},\"line_color\":{\"value\":\"black\"},\"line_dash\":[4,4],\"line_width\":{\"value\":2},\"plot\":null,\"render_mode\":\"css\",\"right_units\":\"screen\",\"top_units\":\"screen\"},\"id\":\"bfc5ce01-75dd-4b70-85d5-998ee7b4550e\",\"type\":\"BoxAnnotation\"},{\"attributes\":{},\"id\":\"f4529f56-43aa-47b4-b1d8-2bd9eb5ed9d2\",\"type\":\"HelpTool\"},{\"attributes\":{\"dimension\":1,\"plot\":{\"id\":\"0767d7c3-50e4-437b-9f6b-4a14ba890e6e\",\"subtype\":\"Figure\",\"type\":\"Plot\"},\"ticker\":{\"id\":\"33d754ce-8f97-45df-b7c4-9a90beafb7b0\",\"type\":\"BasicTicker\"}},\"id\":\"6ac81625-c717-48d2-9764-8e3a6cb3ec8f\",\"type\":\"Grid\"},{\"attributes\":{\"data_source\":{\"id\":\"479fb54b-8ec6-4d1d-973b-31780c679011\",\"type\":\"ColumnDataSource\"},\"glyph\":{\"id\":\"5f387e7e-b35c-4e0d-9409-e04d52b7e4fb\",\"type\":\"Ellipse\"},\"hover_glyph\":null,\"muted_glyph\":null,\"nonselection_glyph\":{\"id\":\"214d0b35-48e2-452f-a7b7-764235442032\",\"type\":\"Ellipse\"},\"selection_glyph\":null,\"view\":{\"id\":\"f5c70d0a-5128-44ac-9767-5132415dc3a1\",\"type\":\"CDSView\"}},\"id\":\"01a0fb4b-3948-4ea0-a7a6-671b178706ba\",\"type\":\"GlyphRenderer\"},{\"attributes\":{\"callback\":null,\"data\":{\"color\":[],\"diameter\":[],\"line_alpha\":[],\"x_values\":[],\"y_values\":[]},\"selected\":{\"id\":\"179161c2-499c-42fd-a65a-0328f19320ca\",\"type\":\"Selection\"},\"selection_policy\":{\"id\":\"216a633a-2f8c-4dcf-b294-fea16479675c\",\"type\":\"UnionRenderers\"}},\"id\":\"479fb54b-8ec6-4d1d-973b-31780c679011\",\"type\":\"ColumnDataSource\"},{\"attributes\":{\"callback\":null},\"id\":\"b466bf64-0c97-4e15-b259-e47c1897da02\",\"type\":\"DataRange1d\"},{\"attributes\":{\"callback\":null,\"data\":{\"line_alpha\":[],\"x0\":[],\"x1\":[],\"y0\":[],\"y1\":[]},\"selected\":{\"id\":\"f200d8f5-f61a-45f1-a841-2057aeddbca9\",\"type\":\"Selection\"},\"selection_policy\":{\"id\":\"416fb18c-8ffb-496c-9b42-186fedd2fc5a\",\"type\":\"UnionRenderers\"}},\"id\":\"a9a1b916-c902-4d34-8f5d-34785d741045\",\"type\":\"ColumnDataSource\"},{\"attributes\":{\"fill_alpha\":{\"field\":\"alpha\"},\"fill_color\":{\"field\":\"color\"},\"line_alpha\":{\"field\":\"alpha\"},\"line_color\":{\"field\":\"color\"},\"size\":{\"field\":\"size\",\"units\":\"screen\"},\"x\":{\"field\":\"x_values\"},\"y\":{\"field\":\"y_values\"}},\"id\":\"765ce765-1fdc-4d41-ba02-8187084673ec\",\"type\":\"Circle\"},{\"attributes\":{},\"id\":\"416fb18c-8ffb-496c-9b42-186fedd2fc5a\",\"type\":\"UnionRenderers\"},{\"attributes\":{\"source\":{\"id\":\"479fb54b-8ec6-4d1d-973b-31780c679011\",\"type\":\"ColumnDataSource\"}},\"id\":\"f5c70d0a-5128-44ac-9767-5132415dc3a1\",\"type\":\"CDSView\"},{\"attributes\":{\"callback\":null},\"id\":\"2dee7f4e-a03f-4b39-a77f-f78801ff4cda\",\"type\":\"DataRange1d\"},{\"attributes\":{},\"id\":\"f200d8f5-f61a-45f1-a841-2057aeddbca9\",\"type\":\"Selection\"},{\"attributes\":{},\"id\":\"dcca13dd-71a5-4afa-86e4-69624adb3a35\",\"type\":\"PanTool\"},{\"attributes\":{\"callback\":null,\"data\":{\"alpha\":[0.5,0.5,0.5,0.5,0.5,0.5,0.5],\"color\":[\"green\",\"green\",\"green\",\"green\",\"green\",\"green\",\"red\"],\"label\":[\"SOURCE\",\"SOURCE\",\"SOURCE\",\"SOURCE\",\"SOURCE\",\"SOURCE\",\"SINK\"],\"size\":[17,17,17,17,17,17,17],\"weight\":[1.0,1.0,1.0,1.0,1.0,1.0,6.0],\"x_offset\":[5,5,5,5,5,5,5],\"x_values\":[0.0,1.0,2.0,3.0,4.0,5.0,2.5],\"y_values\":[-3.0,-3.0,3.0,3.0,1.0,-1.0,0.0]},\"selected\":{\"id\":\"0866e5e7-8a3f-4cdb-ba76-2abf32f79963\",\"type\":\"Selection\"},\"selection_policy\":{\"id\":\"abac87b8-e137-4285-aa09-2cf9f60bf871\",\"type\":\"UnionRenderers\"}},\"id\":\"188fc1d2-6c80-4cd5-973a-4b402c4e62e6\",\"type\":\"ColumnDataSource\"},{\"attributes\":{},\"id\":\"abac87b8-e137-4285-aa09-2cf9f60bf871\",\"type\":\"UnionRenderers\"},{\"attributes\":{},\"id\":\"118d1d45-92c4-4650-8e46-4e4c88ec3917\",\"type\":\"BasicTickFormatter\"},{\"attributes\":{\"active_drag\":\"auto\",\"active_inspect\":\"auto\",\"active_multi\":null,\"active_scroll\":\"auto\",\"active_tap\":\"auto\",\"tools\":[{\"id\":\"dcca13dd-71a5-4afa-86e4-69624adb3a35\",\"type\":\"PanTool\"},{\"id\":\"d26a7dfd-b941-45bc-a2e4-8219ef6c6d85\",\"type\":\"WheelZoomTool\"},{\"id\":\"ca9217c1-1e61-4fde-9723-b84ca50f7924\",\"type\":\"BoxZoomTool\"},{\"id\":\"2ad15cdc-0840-4665-878a-81b133591b7d\",\"type\":\"SaveTool\"},{\"id\":\"42f5be43-96df-448f-9128-6e553a8f7eb3\",\"type\":\"ResetTool\"},{\"id\":\"f4529f56-43aa-47b4-b1d8-2bd9eb5ed9d2\",\"type\":\"HelpTool\"}]},\"id\":\"fcc65ce8-6556-4369-9d6d-429739391e9a\",\"type\":\"Toolbar\"},{\"attributes\":{},\"id\":\"53983950-6e16-4e30-829a-d322bd68bf37\",\"type\":\"LinearScale\"},{\"attributes\":{},\"id\":\"0866e5e7-8a3f-4cdb-ba76-2abf32f79963\",\"type\":\"Selection\"},{\"attributes\":{\"data_source\":{\"id\":\"188fc1d2-6c80-4cd5-973a-4b402c4e62e6\",\"type\":\"ColumnDataSource\"},\"glyph\":{\"id\":\"765ce765-1fdc-4d41-ba02-8187084673ec\",\"type\":\"Circle\"},\"hover_glyph\":null,\"muted_glyph\":null,\"nonselection_glyph\":{\"id\":\"857f5dd7-8aba-41de-961b-3ac186704315\",\"type\":\"Circle\"},\"selection_glyph\":null,\"view\":{\"id\":\"bbe05904-d7f6-43f9-af89-18e047be27e4\",\"type\":\"CDSView\"}},\"id\":\"0bf66cc8-51af-4db1-8fa6-5f75b8bcf0ea\",\"type\":\"GlyphRenderer\"},{\"attributes\":{\"level\":\"glyph\",\"plot\":{\"id\":\"0767d7c3-50e4-437b-9f6b-4a14ba890e6e\",\"subtype\":\"Figure\",\"type\":\"Plot\"},\"source\":{\"id\":\"188fc1d2-6c80-4cd5-973a-4b402c4e62e6\",\"type\":\"ColumnDataSource\"},\"text\":{\"field\":\"weight\"},\"x\":{\"field\":\"x_values\"},\"x_offset\":{\"field\":\"x_offset\"},\"y\":{\"field\":\"y_values\"},\"y_offset\":{\"value\":5}},\"id\":\"a444c649-a156-46e7-accb-878398cd5ac9\",\"type\":\"LabelSet\"},{\"attributes\":{},\"id\":\"8c83c419-4f68-48ec-bc82-2aacd2287cee\",\"type\":\"BasicTickFormatter\"},{\"attributes\":{},\"id\":\"d26a7dfd-b941-45bc-a2e4-8219ef6c6d85\",\"type\":\"WheelZoomTool\"},{\"attributes\":{},\"id\":\"42f5be43-96df-448f-9128-6e553a8f7eb3\",\"type\":\"ResetTool\"},{\"attributes\":{},\"id\":\"216a633a-2f8c-4dcf-b294-fea16479675c\",\"type\":\"UnionRenderers\"},{\"attributes\":{},\"id\":\"179161c2-499c-42fd-a65a-0328f19320ca\",\"type\":\"Selection\"},{\"attributes\":{},\"id\":\"1172c5ac-ff9b-49e3-a5ea-3aa48a376520\",\"type\":\"BasicTicker\"},{\"attributes\":{\"interval\":1},\"id\":\"aa9aecbd-0cb8-4290-a03e-0e373bd3e310\",\"type\":\"SingleIntervalTicker\"},{\"attributes\":{\"overlay\":{\"id\":\"bfc5ce01-75dd-4b70-85d5-998ee7b4550e\",\"type\":\"BoxAnnotation\"}},\"id\":\"ca9217c1-1e61-4fde-9723-b84ca50f7924\",\"type\":\"BoxZoomTool\"},{\"attributes\":{\"line_alpha\":{\"field\":\"line_alpha\"},\"line_width\":{\"value\":2},\"x0\":{\"field\":\"x0\"},\"x1\":{\"field\":\"x1\"},\"y0\":{\"field\":\"y0\"},\"y1\":{\"field\":\"y1\"}},\"id\":\"773eb91a-fa71-47c5-ab8d-710fe8b4cfc6\",\"type\":\"Segment\"},{\"attributes\":{\"below\":[{\"id\":\"2cc9783f-d983-4d9c-bc53-2e6507aee854\",\"type\":\"LinearAxis\"}],\"left\":[{\"id\":\"55c1c127-1eb8-427c-ae91-ddf53e0ff286\",\"type\":\"LinearAxis\"}],\"match_aspect\":true,\"renderers\":[{\"id\":\"2cc9783f-d983-4d9c-bc53-2e6507aee854\",\"type\":\"LinearAxis\"},{\"id\":\"9e82c055-e16a-4a29-9fba-c960b3d9dc44\",\"type\":\"Grid\"},{\"id\":\"55c1c127-1eb8-427c-ae91-ddf53e0ff286\",\"type\":\"LinearAxis\"},{\"id\":\"6ac81625-c717-48d2-9764-8e3a6cb3ec8f\",\"type\":\"Grid\"},{\"id\":\"bfc5ce01-75dd-4b70-85d5-998ee7b4550e\",\"type\":\"BoxAnnotation\"},{\"id\":\"0bf66cc8-51af-4db1-8fa6-5f75b8bcf0ea\",\"type\":\"GlyphRenderer\"},{\"id\":\"a444c649-a156-46e7-accb-878398cd5ac9\",\"type\":\"LabelSet\"},{\"id\":\"01a0fb4b-3948-4ea0-a7a6-671b178706ba\",\"type\":\"GlyphRenderer\"},{\"id\":\"85080ee5-6fb5-45c2-9920-7ffb02741f1b\",\"type\":\"GlyphRenderer\"}],\"title\":{\"id\":\"987aa177-4885-4519-b42e-fe58023b704f\",\"type\":\"Title\"},\"toolbar\":{\"id\":\"fcc65ce8-6556-4369-9d6d-429739391e9a\",\"type\":\"Toolbar\"},\"x_range\":{\"id\":\"b466bf64-0c97-4e15-b259-e47c1897da02\",\"type\":\"DataRange1d\"},\"x_scale\":{\"id\":\"f4424e98-27a5-4223-aec8-b72e8c771787\",\"type\":\"LinearScale\"},\"y_range\":{\"id\":\"2dee7f4e-a03f-4b39-a77f-f78801ff4cda\",\"type\":\"DataRange1d\"},\"y_scale\":{\"id\":\"53983950-6e16-4e30-829a-d322bd68bf37\",\"type\":\"LinearScale\"}},\"id\":\"0767d7c3-50e4-437b-9f6b-4a14ba890e6e\",\"subtype\":\"Figure\",\"type\":\"Plot\"},{\"attributes\":{\"formatter\":{\"id\":\"8c83c419-4f68-48ec-bc82-2aacd2287cee\",\"type\":\"BasicTickFormatter\"},\"plot\":{\"id\":\"0767d7c3-50e4-437b-9f6b-4a14ba890e6e\",\"subtype\":\"Figure\",\"type\":\"Plot\"},\"ticker\":{\"id\":\"7fac5181-2127-4dad-aa69-eed3fc16217f\",\"type\":\"SingleIntervalTicker\"}},\"id\":\"2cc9783f-d983-4d9c-bc53-2e6507aee854\",\"type\":\"LinearAxis\"},{\"attributes\":{\"formatter\":{\"id\":\"118d1d45-92c4-4650-8e46-4e4c88ec3917\",\"type\":\"BasicTickFormatter\"},\"plot\":{\"id\":\"0767d7c3-50e4-437b-9f6b-4a14ba890e6e\",\"subtype\":\"Figure\",\"type\":\"Plot\"},\"ticker\":{\"id\":\"aa9aecbd-0cb8-4290-a03e-0e373bd3e310\",\"type\":\"SingleIntervalTicker\"}},\"id\":\"55c1c127-1eb8-427c-ae91-ddf53e0ff286\",\"type\":\"LinearAxis\"},{\"attributes\":{\"source\":{\"id\":\"188fc1d2-6c80-4cd5-973a-4b402c4e62e6\",\"type\":\"ColumnDataSource\"}},\"id\":\"bbe05904-d7f6-43f9-af89-18e047be27e4\",\"type\":\"CDSView\"},{\"attributes\":{\"line_alpha\":{\"value\":0.1},\"line_color\":{\"value\":\"#1f77b4\"},\"line_width\":{\"value\":2},\"x0\":{\"field\":\"x0\"},\"x1\":{\"field\":\"x1\"},\"y0\":{\"field\":\"y0\"},\"y1\":{\"field\":\"y1\"}},\"id\":\"9ba5e9a5-e37a-46ce-a2ae-4387ae099b83\",\"type\":\"Segment\"},{\"attributes\":{\"fill_alpha\":{\"value\":0.1},\"fill_color\":{\"value\":\"#1f77b4\"},\"line_alpha\":{\"value\":0.1},\"line_color\":{\"value\":\"#1f77b4\"},\"size\":{\"field\":\"size\",\"units\":\"screen\"},\"x\":{\"field\":\"x_values\"},\"y\":{\"field\":\"y_values\"}},\"id\":\"857f5dd7-8aba-41de-961b-3ac186704315\",\"type\":\"Circle\"},{\"attributes\":{\"plot\":null,\"text\":\"\"},\"id\":\"987aa177-4885-4519-b42e-fe58023b704f\",\"type\":\"Title\"},{\"attributes\":{\"data_source\":{\"id\":\"a9a1b916-c902-4d34-8f5d-34785d741045\",\"type\":\"ColumnDataSource\"},\"glyph\":{\"id\":\"773eb91a-fa71-47c5-ab8d-710fe8b4cfc6\",\"type\":\"Segment\"},\"hover_glyph\":null,\"muted_glyph\":null,\"nonselection_glyph\":{\"id\":\"9ba5e9a5-e37a-46ce-a2ae-4387ae099b83\",\"type\":\"Segment\"},\"selection_glyph\":null,\"view\":{\"id\":\"567033e3-7afb-4d36-8eef-73ca2db1f7ff\",\"type\":\"CDSView\"}},\"id\":\"85080ee5-6fb5-45c2-9920-7ffb02741f1b\",\"type\":\"GlyphRenderer\"},{\"attributes\":{},\"id\":\"2ad15cdc-0840-4665-878a-81b133591b7d\",\"type\":\"SaveTool\"},{\"attributes\":{\"interval\":1},\"id\":\"7fac5181-2127-4dad-aa69-eed3fc16217f\",\"type\":\"SingleIntervalTicker\"},{\"attributes\":{\"source\":{\"id\":\"a9a1b916-c902-4d34-8f5d-34785d741045\",\"type\":\"ColumnDataSource\"}},\"id\":\"567033e3-7afb-4d36-8eef-73ca2db1f7ff\",\"type\":\"CDSView\"}],\"root_ids\":[\"0767d7c3-50e4-437b-9f6b-4a14ba890e6e\"]},\"title\":\"Bokeh Application\",\"version\":\"0.13.0\"}};\n  var render_items = [{\"docid\":\"517601e5-3867-487e-b8ee-7f465a26b23d\",\"notebook_comms_target\":\"2011f951-c369-43df-bfeb-544fa5094cba\",\"roots\":{\"0767d7c3-50e4-437b-9f6b-4a14ba890e6e\":\"a145478b-b44f-40d0-b84b-ff92dfc8d77b\"}}];\n  root.Bokeh.embed.embed_items_notebook(docs_json, render_items);\n\n  }\n  if (root.Bokeh !== undefined) {\n    embed_document(root);\n  } else {\n    var attempts = 0;\n    var timer = setInterval(function(root) {\n      if (root.Bokeh !== undefined) {\n        embed_document(root);\n        clearInterval(timer);\n      }\n      attempts++;\n      if (attempts > 100) {\n        console.log(\"Bokeh: ERROR: Unable to run BokehJS code because BokehJS library is missing\")\n        clearInterval(timer);\n      }\n    }, 10, root)\n  }\n})(window);",
            "application/vnd.bokehjs_exec.v0+json": ""
          },
          "metadata": {
            "application/vnd.bokehjs_exec.v0+json": {
              "id": "0767d7c3-50e4-437b-9f6b-4a14ba890e6e"
            }
          }
        },
        {
          "output_type": "display_data",
          "data": {
            "application/vnd.jupyter.widget-view+json": {
              "model_id": "10252ddd9cf94fd0b0403430d5f5585c",
              "version_minor": 0,
              "version_major": 2
            },
            "text/plain": "Output(layout=Layout(border='1px solid black'))"
          },
          "metadata": {}
        },
        {
          "output_type": "display_data",
          "data": {
            "application/vnd.jupyter.widget-view+json": {
              "model_id": "ee2603e4958a4688889664514d6b583d",
              "version_minor": 0,
              "version_major": 2
            },
            "text/plain": "interactive(children=(IntSlider(value=0, description='step', max=30), Output()), _dom_classes=('widget-interac…"
          },
          "metadata": {}
        },
        {
          "output_type": "execute_result",
          "execution_count": 8,
          "data": {
            "text/plain": "<function ipywidgets.widgets.interaction._InteractFactory.__call__.<locals>.<lambda>(*args, **kwargs)>"
          },
          "metadata": {}
        }
      ]
    },
    {
      "metadata": {},
      "cell_type": "markdown",
      "source": "## Flow Method\n\nBegin by loading the method and changing the $x$ and $y$ coordiantes for two sources and one sink. You can also change the $\\alpha$ value and step size, $h$."
    },
    {
      "metadata": {
        "trusted": true
      },
      "cell_type": "code",
      "source": "notebook = FlowNotebook()\nJavascript(notebook.get_string_to_set_autoscroll_to_false())\nnotebook.get_tab()",
      "execution_count": 5,
      "outputs": [
        {
          "output_type": "display_data",
          "data": {
            "application/vnd.jupyter.widget-view+json": {
              "model_id": "a7968bbf8d514af9ae0c1e9fe0540555",
              "version_minor": 0,
              "version_major": 2
            },
            "text/plain": "Tab(children=(Accordion(children=(BoundedFloatText(value=0.0, max=10.0, step=0.1), BoundedFloatText(value=1.0,…"
          },
          "metadata": {}
        }
      ]
    },
    {
      "metadata": {},
      "cell_type": "markdown",
      "source": "This next cell carries out the Flow method and outputs the locally optimal bifurcation point position, as well as the total cost, $G$, of that position and the final $\\theta$ value."
    },
    {
      "metadata": {
        "trusted": true
      },
      "cell_type": "code",
      "source": "notebook.get_optimal_bifurcation_point()",
      "execution_count": 6,
      "outputs": [
        {
          "output_type": "display_data",
          "data": {
            "application/vnd.jupyter.widget-view+json": {
              "model_id": "b11224772d97422f9568baf5f87253cf",
              "version_minor": 0,
              "version_major": 2
            },
            "text/plain": "Output(layout=Layout(border='1px solid black'), outputs=({'output_type': 'stream', 'name': 'stdout', 'text': '…"
          },
          "metadata": {}
        }
      ]
    },
    {
      "metadata": {},
      "cell_type": "markdown",
      "source": "Finally, a visualization of the flow process at work, where each step iteratively decreases the network cost. "
    },
    {
      "metadata": {
        "trusted": true
      },
      "cell_type": "code",
      "source": "show(notebook.get_figure(), notebook_handle=True)\ndisplay(notebook.get_output())\ninteract(notebook.update, step=(0, len(notebook.steps) - 1, 1))",
      "execution_count": 7,
      "outputs": [
        {
          "output_type": "display_data",
          "data": {
            "text/html": "\n\n\n\n\n\n  <div class=\"bk-root\" id=\"3ce1b275-eca8-45c6-818b-a302e86b3624\"></div>\n"
          },
          "metadata": {}
        },
        {
          "output_type": "display_data",
          "data": {
            "application/javascript": "(function(root) {\n  function embed_document(root) {\n    \n  var docs_json = {\"284ac5fd-10af-4199-b6b4-538ff19aeeed\":{\"roots\":{\"references\":[{\"attributes\":{\"line_alpha\":{\"value\":0.1},\"line_color\":{\"value\":\"#1f77b4\"},\"line_width\":{\"value\":3},\"x0\":{\"field\":\"x0\"},\"x1\":{\"field\":\"x1\"},\"y0\":{\"field\":\"y0\"},\"y1\":{\"field\":\"y1\"}},\"id\":\"30bf64e5-e7e7-4d28-a8b4-7a029a809fcc\",\"type\":\"Segment\"},{\"attributes\":{\"plot\":null,\"text\":\"\"},\"id\":\"3e2d1516-bc10-41c1-941e-905f3b2de6ec\",\"type\":\"Title\"},{\"attributes\":{},\"id\":\"ad7b7edc-bc8c-4ff3-ae7e-cf92f903b9da\",\"type\":\"LinearScale\"},{\"attributes\":{},\"id\":\"fee55095-9102-45c8-9390-32c4473ffd60\",\"type\":\"LinearScale\"},{\"attributes\":{\"plot\":{\"id\":\"61be3e97-f26a-4ba9-a18c-23bd8c346791\",\"subtype\":\"Figure\",\"type\":\"Plot\"},\"ticker\":{\"id\":\"747ba1cb-a97c-46dc-80b5-90cdff6e7736\",\"type\":\"BasicTicker\"}},\"id\":\"ce86cf32-48e0-4fee-8a15-2509db72d544\",\"type\":\"Grid\"},{\"attributes\":{\"formatter\":{\"id\":\"5fd5b572-b726-41d0-97e3-c8d783b37d20\",\"type\":\"BasicTickFormatter\"},\"plot\":{\"id\":\"61be3e97-f26a-4ba9-a18c-23bd8c346791\",\"subtype\":\"Figure\",\"type\":\"Plot\"},\"ticker\":{\"id\":\"8265ef90-1d21-45ec-a5eb-d4a6daa0b2a8\",\"type\":\"SingleIntervalTicker\"}},\"id\":\"0765910e-0e62-4b94-bb1d-34408034e5fd\",\"type\":\"LinearAxis\"},{\"attributes\":{},\"id\":\"747ba1cb-a97c-46dc-80b5-90cdff6e7736\",\"type\":\"BasicTicker\"},{\"attributes\":{\"formatter\":{\"id\":\"0183d356-81cc-4674-ae00-8bc247cda175\",\"type\":\"BasicTickFormatter\"},\"plot\":{\"id\":\"61be3e97-f26a-4ba9-a18c-23bd8c346791\",\"subtype\":\"Figure\",\"type\":\"Plot\"},\"ticker\":{\"id\":\"8d2ec157-6465-4c81-8473-de9c84053ecb\",\"type\":\"SingleIntervalTicker\"}},\"id\":\"c1589ef0-96bd-4e58-9f04-930fada2e17a\",\"type\":\"LinearAxis\"},{\"attributes\":{},\"id\":\"cff1513e-25a2-4cac-aedd-1a1cfc9c3392\",\"type\":\"BasicTicker\"},{\"attributes\":{},\"id\":\"0183d356-81cc-4674-ae00-8bc247cda175\",\"type\":\"BasicTickFormatter\"},{\"attributes\":{\"dimension\":1,\"plot\":{\"id\":\"61be3e97-f26a-4ba9-a18c-23bd8c346791\",\"subtype\":\"Figure\",\"type\":\"Plot\"},\"ticker\":{\"id\":\"cff1513e-25a2-4cac-aedd-1a1cfc9c3392\",\"type\":\"BasicTicker\"}},\"id\":\"6716d6f5-e6dd-4f1a-b172-b6fae41891ba\",\"type\":\"Grid\"},{\"attributes\":{\"fill_alpha\":{\"value\":0.8},\"fill_color\":{\"field\":\"colors\"},\"line_alpha\":{\"value\":0.8},\"line_color\":{\"field\":\"colors\"},\"size\":{\"units\":\"screen\",\"value\":15},\"x\":{\"field\":\"x_values\"},\"y\":{\"field\":\"y_values\"}},\"id\":\"9c48c9ab-f086-49a8-8774-1766174213a8\",\"type\":\"Circle\"},{\"attributes\":{\"line_color\":{\"value\":\"navy\"},\"line_width\":{\"value\":3},\"x0\":{\"field\":\"x0\"},\"x1\":{\"field\":\"x1\"},\"y0\":{\"field\":\"y0\"},\"y1\":{\"field\":\"y1\"}},\"id\":\"ada4c1dc-6c98-49b5-ba28-31fe067dee3a\",\"type\":\"Segment\"},{\"attributes\":{},\"id\":\"4c440edd-3388-4ed3-ad44-b7211cc572ba\",\"type\":\"UnionRenderers\"},{\"attributes\":{\"bottom_units\":\"screen\",\"fill_alpha\":{\"value\":0.5},\"fill_color\":{\"value\":\"lightgrey\"},\"left_units\":\"screen\",\"level\":\"overlay\",\"line_alpha\":{\"value\":1.0},\"line_color\":{\"value\":\"black\"},\"line_dash\":[4,4],\"line_width\":{\"value\":2},\"plot\":null,\"render_mode\":\"css\",\"right_units\":\"screen\",\"top_units\":\"screen\"},\"id\":\"8e97e210-0ebb-49ff-a5ad-35aba99f467d\",\"type\":\"BoxAnnotation\"},{\"attributes\":{},\"id\":\"6b3e37a5-c598-41ab-ba97-a6996a45c9ac\",\"type\":\"PanTool\"},{\"attributes\":{\"fill_alpha\":{\"value\":0.1},\"fill_color\":{\"value\":\"#1f77b4\"},\"line_alpha\":{\"value\":0.1},\"line_color\":{\"value\":\"#1f77b4\"},\"size\":{\"units\":\"screen\",\"value\":15},\"x\":{\"field\":\"x_values\"},\"y\":{\"field\":\"y_values\"}},\"id\":\"e65f5229-9641-449e-ba36-02356cf07406\",\"type\":\"Circle\"},{\"attributes\":{},\"id\":\"5fd5b572-b726-41d0-97e3-c8d783b37d20\",\"type\":\"BasicTickFormatter\"},{\"attributes\":{},\"id\":\"0cafe2a4-9987-400a-95f8-b7d0375f55a3\",\"type\":\"WheelZoomTool\"},{\"attributes\":{\"overlay\":{\"id\":\"8e97e210-0ebb-49ff-a5ad-35aba99f467d\",\"type\":\"BoxAnnotation\"}},\"id\":\"bc020333-1638-40b0-a7d3-0a7329b7621a\",\"type\":\"BoxZoomTool\"},{\"attributes\":{},\"id\":\"996fb073-4621-4617-a53c-a511be6abe12\",\"type\":\"SaveTool\"},{\"attributes\":{},\"id\":\"6b5ed363-9ca7-4b03-87f9-2af478af04e3\",\"type\":\"ResetTool\"},{\"attributes\":{},\"id\":\"5c11b561-ee05-4bc7-b29f-15113e87e681\",\"type\":\"HelpTool\"},{\"attributes\":{\"callback\":null},\"id\":\"dca3c59f-86a2-4679-8fa0-871043ebf2e6\",\"type\":\"DataRange1d\"},{\"attributes\":{\"data_source\":{\"id\":\"68960df2-9165-4649-9ba4-aa44155a966f\",\"type\":\"ColumnDataSource\"},\"glyph\":{\"id\":\"9c48c9ab-f086-49a8-8774-1766174213a8\",\"type\":\"Circle\"},\"hover_glyph\":null,\"muted_glyph\":null,\"nonselection_glyph\":{\"id\":\"e65f5229-9641-449e-ba36-02356cf07406\",\"type\":\"Circle\"},\"selection_glyph\":null,\"view\":{\"id\":\"8f689b26-4814-4910-933d-3b31e16d0a0b\",\"type\":\"CDSView\"}},\"id\":\"e1f67679-451b-4d37-aa53-d5b2713747fa\",\"type\":\"GlyphRenderer\"},{\"attributes\":{\"source\":{\"id\":\"68960df2-9165-4649-9ba4-aa44155a966f\",\"type\":\"ColumnDataSource\"}},\"id\":\"8f689b26-4814-4910-933d-3b31e16d0a0b\",\"type\":\"CDSView\"},{\"attributes\":{\"data_source\":{\"id\":\"962b978c-bd28-49b9-a8e8-be8efeb03bc2\",\"type\":\"ColumnDataSource\"},\"glyph\":{\"id\":\"ada4c1dc-6c98-49b5-ba28-31fe067dee3a\",\"type\":\"Segment\"},\"hover_glyph\":null,\"muted_glyph\":null,\"nonselection_glyph\":{\"id\":\"30bf64e5-e7e7-4d28-a8b4-7a029a809fcc\",\"type\":\"Segment\"},\"selection_glyph\":null,\"view\":{\"id\":\"b75f6b24-700e-4c63-aac6-81f3ae577a1b\",\"type\":\"CDSView\"}},\"id\":\"79978427-cf15-47ae-8507-fca4f1246a98\",\"type\":\"GlyphRenderer\"},{\"attributes\":{},\"id\":\"858b3f4d-1ff3-4ffe-ba99-d77d4c3e808a\",\"type\":\"Selection\"},{\"attributes\":{\"source\":{\"id\":\"962b978c-bd28-49b9-a8e8-be8efeb03bc2\",\"type\":\"ColumnDataSource\"}},\"id\":\"b75f6b24-700e-4c63-aac6-81f3ae577a1b\",\"type\":\"CDSView\"},{\"attributes\":{\"interval\":1},\"id\":\"8265ef90-1d21-45ec-a5eb-d4a6daa0b2a8\",\"type\":\"SingleIntervalTicker\"},{\"attributes\":{\"interval\":1},\"id\":\"8d2ec157-6465-4c81-8473-de9c84053ecb\",\"type\":\"SingleIntervalTicker\"},{\"attributes\":{},\"id\":\"69dae26b-c382-46c7-ae95-024c4e8505be\",\"type\":\"UnionRenderers\"},{\"attributes\":{\"callback\":null,\"data\":{\"x0\":[0.0,0.0,4.0],\"x1\":[4.0,4.0,4.0],\"y0\":[1.0,5.0,3.0],\"y1\":[3.0,3.0,3.0]},\"selected\":{\"id\":\"40c2903d-265a-4f3e-88f9-0d39e5e79d85\",\"type\":\"Selection\"},\"selection_policy\":{\"id\":\"4c440edd-3388-4ed3-ad44-b7211cc572ba\",\"type\":\"UnionRenderers\"}},\"id\":\"962b978c-bd28-49b9-a8e8-be8efeb03bc2\",\"type\":\"ColumnDataSource\"},{\"attributes\":{\"callback\":null,\"data\":{\"colors\":[\"green\",\"green\",\"red\",\"blue\"],\"legend\":[\"source\",\"source\",\"sink\",\"bifurcation\"],\"x_values\":[0.0,0.0,4.0,4.0],\"y_values\":[1.0,5.0,3.0,3.0]},\"selected\":{\"id\":\"858b3f4d-1ff3-4ffe-ba99-d77d4c3e808a\",\"type\":\"Selection\"},\"selection_policy\":{\"id\":\"69dae26b-c382-46c7-ae95-024c4e8505be\",\"type\":\"UnionRenderers\"}},\"id\":\"68960df2-9165-4649-9ba4-aa44155a966f\",\"type\":\"ColumnDataSource\"},{\"attributes\":{\"below\":[{\"id\":\"0765910e-0e62-4b94-bb1d-34408034e5fd\",\"type\":\"LinearAxis\"}],\"left\":[{\"id\":\"c1589ef0-96bd-4e58-9f04-930fada2e17a\",\"type\":\"LinearAxis\"}],\"match_aspect\":true,\"renderers\":[{\"id\":\"0765910e-0e62-4b94-bb1d-34408034e5fd\",\"type\":\"LinearAxis\"},{\"id\":\"ce86cf32-48e0-4fee-8a15-2509db72d544\",\"type\":\"Grid\"},{\"id\":\"c1589ef0-96bd-4e58-9f04-930fada2e17a\",\"type\":\"LinearAxis\"},{\"id\":\"6716d6f5-e6dd-4f1a-b172-b6fae41891ba\",\"type\":\"Grid\"},{\"id\":\"8e97e210-0ebb-49ff-a5ad-35aba99f467d\",\"type\":\"BoxAnnotation\"},{\"id\":\"e1f67679-451b-4d37-aa53-d5b2713747fa\",\"type\":\"GlyphRenderer\"},{\"id\":\"79978427-cf15-47ae-8507-fca4f1246a98\",\"type\":\"GlyphRenderer\"}],\"title\":{\"id\":\"3e2d1516-bc10-41c1-941e-905f3b2de6ec\",\"type\":\"Title\"},\"toolbar\":{\"id\":\"ea3c6953-2cf3-4b9d-b7da-28678bf33010\",\"type\":\"Toolbar\"},\"x_range\":{\"id\":\"f6583445-d480-4c8a-b029-63283da74047\",\"type\":\"DataRange1d\"},\"x_scale\":{\"id\":\"ad7b7edc-bc8c-4ff3-ae7e-cf92f903b9da\",\"type\":\"LinearScale\"},\"y_range\":{\"id\":\"dca3c59f-86a2-4679-8fa0-871043ebf2e6\",\"type\":\"DataRange1d\"},\"y_scale\":{\"id\":\"fee55095-9102-45c8-9390-32c4473ffd60\",\"type\":\"LinearScale\"}},\"id\":\"61be3e97-f26a-4ba9-a18c-23bd8c346791\",\"subtype\":\"Figure\",\"type\":\"Plot\"},{\"attributes\":{},\"id\":\"40c2903d-265a-4f3e-88f9-0d39e5e79d85\",\"type\":\"Selection\"},{\"attributes\":{\"active_drag\":\"auto\",\"active_inspect\":\"auto\",\"active_multi\":null,\"active_scroll\":\"auto\",\"active_tap\":\"auto\",\"tools\":[{\"id\":\"6b3e37a5-c598-41ab-ba97-a6996a45c9ac\",\"type\":\"PanTool\"},{\"id\":\"0cafe2a4-9987-400a-95f8-b7d0375f55a3\",\"type\":\"WheelZoomTool\"},{\"id\":\"bc020333-1638-40b0-a7d3-0a7329b7621a\",\"type\":\"BoxZoomTool\"},{\"id\":\"996fb073-4621-4617-a53c-a511be6abe12\",\"type\":\"SaveTool\"},{\"id\":\"6b5ed363-9ca7-4b03-87f9-2af478af04e3\",\"type\":\"ResetTool\"},{\"id\":\"5c11b561-ee05-4bc7-b29f-15113e87e681\",\"type\":\"HelpTool\"}]},\"id\":\"ea3c6953-2cf3-4b9d-b7da-28678bf33010\",\"type\":\"Toolbar\"},{\"attributes\":{\"callback\":null},\"id\":\"f6583445-d480-4c8a-b029-63283da74047\",\"type\":\"DataRange1d\"}],\"root_ids\":[\"61be3e97-f26a-4ba9-a18c-23bd8c346791\"]},\"title\":\"Bokeh Application\",\"version\":\"0.13.0\"}};\n  var render_items = [{\"docid\":\"284ac5fd-10af-4199-b6b4-538ff19aeeed\",\"notebook_comms_target\":\"450a6c48-c2b3-49d2-8f52-0591b7954e0d\",\"roots\":{\"61be3e97-f26a-4ba9-a18c-23bd8c346791\":\"3ce1b275-eca8-45c6-818b-a302e86b3624\"}}];\n  root.Bokeh.embed.embed_items_notebook(docs_json, render_items);\n\n  }\n  if (root.Bokeh !== undefined) {\n    embed_document(root);\n  } else {\n    var attempts = 0;\n    var timer = setInterval(function(root) {\n      if (root.Bokeh !== undefined) {\n        embed_document(root);\n        clearInterval(timer);\n      }\n      attempts++;\n      if (attempts > 100) {\n        console.log(\"Bokeh: ERROR: Unable to run BokehJS code because BokehJS library is missing\")\n        clearInterval(timer);\n      }\n    }, 10, root)\n  }\n})(window);",
            "application/vnd.bokehjs_exec.v0+json": ""
          },
          "metadata": {
            "application/vnd.bokehjs_exec.v0+json": {
              "id": "61be3e97-f26a-4ba9-a18c-23bd8c346791"
            }
          }
        },
        {
          "output_type": "display_data",
          "data": {
            "application/vnd.jupyter.widget-view+json": {
              "model_id": "3a2cc0efca74430dac7ac740faf48d9c",
              "version_minor": 0,
              "version_major": 2
            },
            "text/plain": "Output(layout=Layout(border='1px solid black'))"
          },
          "metadata": {}
        },
        {
          "output_type": "display_data",
          "data": {
            "application/vnd.jupyter.widget-view+json": {
              "model_id": "0db1c9d8b0834702848b2ade8d96acb0",
              "version_minor": 0,
              "version_major": 2
            },
            "text/plain": "interactive(children=(IntSlider(value=0, description='step', max=59), Output()), _dom_classes=('widget-interac…"
          },
          "metadata": {}
        },
        {
          "output_type": "execute_result",
          "execution_count": 7,
          "data": {
            "text/plain": "<function ipywidgets.widgets.interaction._InteractFactory.__call__.<locals>.<lambda>(*args, **kwargs)>"
          },
          "metadata": {}
        }
      ]
    },
    {
      "metadata": {
        "trusted": true
      },
      "cell_type": "code",
      "source": "",
      "execution_count": null,
      "outputs": []
    },
    {
      "metadata": {
        "trusted": true
      },
      "cell_type": "code",
      "source": "",
      "execution_count": null,
      "outputs": []
    }
  ],
  "metadata": {
    "kernelspec": {
      "name": "python36",
      "display_name": "Python 3.6",
      "language": "python"
    },
    "language_info": {
      "mimetype": "text/x-python",
      "nbconvert_exporter": "python",
      "name": "python",
      "pygments_lexer": "ipython3",
      "version": "3.6.6",
      "file_extension": ".py",
      "codemirror_mode": {
        "version": 3,
        "name": "ipython"
      }
    }
  },
  "nbformat": 4,
  "nbformat_minor": 2
}