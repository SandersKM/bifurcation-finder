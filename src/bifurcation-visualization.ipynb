{
  "cells": [
    {
      "metadata": {},
      "cell_type": "markdown",
      "source": "# Program for Constructing Optimal Irrigation Networks\n## Kate Sanders\n### Senior Thesis 2020"
    },
    {
      "metadata": {},
      "cell_type": "markdown",
      "source": "This page is meant to host a user-friendly, interactive online program for evolving and visualizing locally optimal irrigation networks using the Bernot method and the Flow method. \n\nTo run a block of code, click on that code block and hit:\n```\nSHIFT + ENTER\n```\nYou should run each block of code in order. Doing otherwise will cause this program to crash.\n\nStart by loading the back-end code in the next block. You can view the full code on [github](https://github.com/SandersKM/bifurcation-finder). "
    },
    {
      "metadata": {
        "trusted": true
      },
      "cell_type": "code",
      "source": "from ipywidgets import interact\nfrom bokeh.io import show, output_notebook\nfrom IPython.display import Javascript\ntry:\n    from src.bernot_notebook_functions import BernotNotebook\n    from src.flow_notebook_functions import FlowNotebook\nexcept ImportError:\n    import sys\n    sys.path.append('./')\n    from bernot_notebook_functions import BernotNotebook\n    from flow_notebook_functions import FlowNotebook\noutput_notebook()",
      "execution_count": 1,
      "outputs": [
        {
          "output_type": "display_data",
          "data": {
            "text/html": "\n    <div class=\"bk-root\">\n        <a href=\"https://bokeh.pydata.org\" target=\"_blank\" class=\"bk-logo bk-logo-small bk-logo-notebook\"></a>\n        <span id=\"0425ec91-a5c7-4245-bd77-958c925e4786\">Loading BokehJS ...</span>\n    </div>"
          },
          "metadata": {}
        },
        {
          "output_type": "display_data",
          "data": {
            "application/javascript": "\n(function(root) {\n  function now() {\n    return new Date();\n  }\n\n  var force = true;\n\n  if (typeof (root._bokeh_onload_callbacks) === \"undefined\" || force === true) {\n    root._bokeh_onload_callbacks = [];\n    root._bokeh_is_loading = undefined;\n  }\n\n  var JS_MIME_TYPE = 'application/javascript';\n  var HTML_MIME_TYPE = 'text/html';\n  var EXEC_MIME_TYPE = 'application/vnd.bokehjs_exec.v0+json';\n  var CLASS_NAME = 'output_bokeh rendered_html';\n\n  /**\n   * Render data to the DOM node\n   */\n  function render(props, node) {\n    var script = document.createElement(\"script\");\n    node.appendChild(script);\n  }\n\n  /**\n   * Handle when an output is cleared or removed\n   */\n  function handleClearOutput(event, handle) {\n    var cell = handle.cell;\n\n    var id = cell.output_area._bokeh_element_id;\n    var server_id = cell.output_area._bokeh_server_id;\n    // Clean up Bokeh references\n    if (id != null && id in Bokeh.index) {\n      Bokeh.index[id].model.document.clear();\n      delete Bokeh.index[id];\n    }\n\n    if (server_id !== undefined) {\n      // Clean up Bokeh references\n      var cmd = \"from bokeh.io.state import curstate; print(curstate().uuid_to_server['\" + server_id + \"'].get_sessions()[0].document.roots[0]._id)\";\n      cell.notebook.kernel.execute(cmd, {\n        iopub: {\n          output: function(msg) {\n            var id = msg.content.text.trim();\n            if (id in Bokeh.index) {\n              Bokeh.index[id].model.document.clear();\n              delete Bokeh.index[id];\n            }\n          }\n        }\n      });\n      // Destroy server and session\n      var cmd = \"import bokeh.io.notebook as ion; ion.destroy_server('\" + server_id + \"')\";\n      cell.notebook.kernel.execute(cmd);\n    }\n  }\n\n  /**\n   * Handle when a new output is added\n   */\n  function handleAddOutput(event, handle) {\n    var output_area = handle.output_area;\n    var output = handle.output;\n\n    // limit handleAddOutput to display_data with EXEC_MIME_TYPE content only\n    if ((output.output_type != \"display_data\") || (!output.data.hasOwnProperty(EXEC_MIME_TYPE))) {\n      return\n    }\n\n    var toinsert = output_area.element.find(\".\" + CLASS_NAME.split(' ')[0]);\n\n    if (output.metadata[EXEC_MIME_TYPE][\"id\"] !== undefined) {\n      toinsert[toinsert.length - 1].firstChild.textContent = output.data[JS_MIME_TYPE];\n      // store reference to embed id on output_area\n      output_area._bokeh_element_id = output.metadata[EXEC_MIME_TYPE][\"id\"];\n    }\n    if (output.metadata[EXEC_MIME_TYPE][\"server_id\"] !== undefined) {\n      var bk_div = document.createElement(\"div\");\n      bk_div.innerHTML = output.data[HTML_MIME_TYPE];\n      var script_attrs = bk_div.children[0].attributes;\n      for (var i = 0; i < script_attrs.length; i++) {\n        toinsert[toinsert.length - 1].firstChild.setAttribute(script_attrs[i].name, script_attrs[i].value);\n      }\n      // store reference to server id on output_area\n      output_area._bokeh_server_id = output.metadata[EXEC_MIME_TYPE][\"server_id\"];\n    }\n  }\n\n  function register_renderer(events, OutputArea) {\n\n    function append_mime(data, metadata, element) {\n      // create a DOM node to render to\n      var toinsert = this.create_output_subarea(\n        metadata,\n        CLASS_NAME,\n        EXEC_MIME_TYPE\n      );\n      this.keyboard_manager.register_events(toinsert);\n      // Render to node\n      var props = {data: data, metadata: metadata[EXEC_MIME_TYPE]};\n      render(props, toinsert[toinsert.length - 1]);\n      element.append(toinsert);\n      return toinsert\n    }\n\n    /* Handle when an output is cleared or removed */\n    events.on('clear_output.CodeCell', handleClearOutput);\n    events.on('delete.Cell', handleClearOutput);\n\n    /* Handle when a new output is added */\n    events.on('output_added.OutputArea', handleAddOutput);\n\n    /**\n     * Register the mime type and append_mime function with output_area\n     */\n    OutputArea.prototype.register_mime_type(EXEC_MIME_TYPE, append_mime, {\n      /* Is output safe? */\n      safe: true,\n      /* Index of renderer in `output_area.display_order` */\n      index: 0\n    });\n  }\n\n  // register the mime type if in Jupyter Notebook environment and previously unregistered\n  if (root.Jupyter !== undefined) {\n    var events = require('base/js/events');\n    var OutputArea = require('notebook/js/outputarea').OutputArea;\n\n    if (OutputArea.prototype.mime_types().indexOf(EXEC_MIME_TYPE) == -1) {\n      register_renderer(events, OutputArea);\n    }\n  }\n\n  \n  if (typeof (root._bokeh_timeout) === \"undefined\" || force === true) {\n    root._bokeh_timeout = Date.now() + 5000;\n    root._bokeh_failed_load = false;\n  }\n\n  var NB_LOAD_WARNING = {'data': {'text/html':\n     \"<div style='background-color: #fdd'>\\n\"+\n     \"<p>\\n\"+\n     \"BokehJS does not appear to have successfully loaded. If loading BokehJS from CDN, this \\n\"+\n     \"may be due to a slow or bad network connection. Possible fixes:\\n\"+\n     \"</p>\\n\"+\n     \"<ul>\\n\"+\n     \"<li>re-rerun `output_notebook()` to attempt to load from CDN again, or</li>\\n\"+\n     \"<li>use INLINE resources instead, as so:</li>\\n\"+\n     \"</ul>\\n\"+\n     \"<code>\\n\"+\n     \"from bokeh.resources import INLINE\\n\"+\n     \"output_notebook(resources=INLINE)\\n\"+\n     \"</code>\\n\"+\n     \"</div>\"}};\n\n  function display_loaded() {\n    var el = document.getElementById(\"0425ec91-a5c7-4245-bd77-958c925e4786\");\n    if (el != null) {\n      el.textContent = \"BokehJS is loading...\";\n    }\n    if (root.Bokeh !== undefined) {\n      if (el != null) {\n        el.textContent = \"BokehJS \" + root.Bokeh.version + \" successfully loaded.\";\n      }\n    } else if (Date.now() < root._bokeh_timeout) {\n      setTimeout(display_loaded, 100)\n    }\n  }\n\n\n  function run_callbacks() {\n    try {\n      root._bokeh_onload_callbacks.forEach(function(callback) { callback() });\n    }\n    finally {\n      delete root._bokeh_onload_callbacks\n    }\n    console.info(\"Bokeh: all callbacks have finished\");\n  }\n\n  function load_libs(js_urls, callback) {\n    root._bokeh_onload_callbacks.push(callback);\n    if (root._bokeh_is_loading > 0) {\n      console.log(\"Bokeh: BokehJS is being loaded, scheduling callback at\", now());\n      return null;\n    }\n    if (js_urls == null || js_urls.length === 0) {\n      run_callbacks();\n      return null;\n    }\n    console.log(\"Bokeh: BokehJS not loaded, scheduling load and callback at\", now());\n    root._bokeh_is_loading = js_urls.length;\n    for (var i = 0; i < js_urls.length; i++) {\n      var url = js_urls[i];\n      var s = document.createElement('script');\n      s.src = url;\n      s.async = false;\n      s.onreadystatechange = s.onload = function() {\n        root._bokeh_is_loading--;\n        if (root._bokeh_is_loading === 0) {\n          console.log(\"Bokeh: all BokehJS libraries loaded\");\n          run_callbacks()\n        }\n      };\n      s.onerror = function() {\n        console.warn(\"failed to load library \" + url);\n      };\n      console.log(\"Bokeh: injecting script tag for BokehJS library: \", url);\n      document.getElementsByTagName(\"head\")[0].appendChild(s);\n    }\n  };var element = document.getElementById(\"0425ec91-a5c7-4245-bd77-958c925e4786\");\n  if (element == null) {\n    console.log(\"Bokeh: ERROR: autoload.js configured with elementid '0425ec91-a5c7-4245-bd77-958c925e4786' but no matching script tag was found. \")\n    return false;\n  }\n\n  var js_urls = [\"https://cdn.pydata.org/bokeh/release/bokeh-0.13.0.min.js\", \"https://cdn.pydata.org/bokeh/release/bokeh-widgets-0.13.0.min.js\", \"https://cdn.pydata.org/bokeh/release/bokeh-tables-0.13.0.min.js\", \"https://cdn.pydata.org/bokeh/release/bokeh-gl-0.13.0.min.js\"];\n\n  var inline_js = [\n    function(Bokeh) {\n      Bokeh.set_log_level(\"info\");\n    },\n    \n    function(Bokeh) {\n      \n    },\n    function(Bokeh) {\n      console.log(\"Bokeh: injecting CSS: https://cdn.pydata.org/bokeh/release/bokeh-0.13.0.min.css\");\n      Bokeh.embed.inject_css(\"https://cdn.pydata.org/bokeh/release/bokeh-0.13.0.min.css\");\n      console.log(\"Bokeh: injecting CSS: https://cdn.pydata.org/bokeh/release/bokeh-widgets-0.13.0.min.css\");\n      Bokeh.embed.inject_css(\"https://cdn.pydata.org/bokeh/release/bokeh-widgets-0.13.0.min.css\");\n      console.log(\"Bokeh: injecting CSS: https://cdn.pydata.org/bokeh/release/bokeh-tables-0.13.0.min.css\");\n      Bokeh.embed.inject_css(\"https://cdn.pydata.org/bokeh/release/bokeh-tables-0.13.0.min.css\");\n    }\n  ];\n\n  function run_inline_js() {\n    \n    if ((root.Bokeh !== undefined) || (force === true)) {\n      for (var i = 0; i < inline_js.length; i++) {\n        inline_js[i].call(root, root.Bokeh);\n      }if (force === true) {\n        display_loaded();\n      }} else if (Date.now() < root._bokeh_timeout) {\n      setTimeout(run_inline_js, 100);\n    } else if (!root._bokeh_failed_load) {\n      console.log(\"Bokeh: BokehJS failed to load within specified timeout.\");\n      root._bokeh_failed_load = true;\n    } else if (force !== true) {\n      var cell = $(document.getElementById(\"0425ec91-a5c7-4245-bd77-958c925e4786\")).parents('.cell').data().cell;\n      cell.output_area.append_execute_result(NB_LOAD_WARNING)\n    }\n\n  }\n\n  if (root._bokeh_is_loading === 0) {\n    console.log(\"Bokeh: BokehJS loaded, going straight to plotting\");\n    run_inline_js();\n  } else {\n    load_libs(js_urls, function() {\n      console.log(\"Bokeh: BokehJS plotting callback run at\", now());\n      run_inline_js();\n    });\n  }\n}(window));",
            "application/vnd.bokehjs_load.v0+json": "\n(function(root) {\n  function now() {\n    return new Date();\n  }\n\n  var force = true;\n\n  if (typeof (root._bokeh_onload_callbacks) === \"undefined\" || force === true) {\n    root._bokeh_onload_callbacks = [];\n    root._bokeh_is_loading = undefined;\n  }\n\n  \n\n  \n  if (typeof (root._bokeh_timeout) === \"undefined\" || force === true) {\n    root._bokeh_timeout = Date.now() + 5000;\n    root._bokeh_failed_load = false;\n  }\n\n  var NB_LOAD_WARNING = {'data': {'text/html':\n     \"<div style='background-color: #fdd'>\\n\"+\n     \"<p>\\n\"+\n     \"BokehJS does not appear to have successfully loaded. If loading BokehJS from CDN, this \\n\"+\n     \"may be due to a slow or bad network connection. Possible fixes:\\n\"+\n     \"</p>\\n\"+\n     \"<ul>\\n\"+\n     \"<li>re-rerun `output_notebook()` to attempt to load from CDN again, or</li>\\n\"+\n     \"<li>use INLINE resources instead, as so:</li>\\n\"+\n     \"</ul>\\n\"+\n     \"<code>\\n\"+\n     \"from bokeh.resources import INLINE\\n\"+\n     \"output_notebook(resources=INLINE)\\n\"+\n     \"</code>\\n\"+\n     \"</div>\"}};\n\n  function display_loaded() {\n    var el = document.getElementById(\"0425ec91-a5c7-4245-bd77-958c925e4786\");\n    if (el != null) {\n      el.textContent = \"BokehJS is loading...\";\n    }\n    if (root.Bokeh !== undefined) {\n      if (el != null) {\n        el.textContent = \"BokehJS \" + root.Bokeh.version + \" successfully loaded.\";\n      }\n    } else if (Date.now() < root._bokeh_timeout) {\n      setTimeout(display_loaded, 100)\n    }\n  }\n\n\n  function run_callbacks() {\n    try {\n      root._bokeh_onload_callbacks.forEach(function(callback) { callback() });\n    }\n    finally {\n      delete root._bokeh_onload_callbacks\n    }\n    console.info(\"Bokeh: all callbacks have finished\");\n  }\n\n  function load_libs(js_urls, callback) {\n    root._bokeh_onload_callbacks.push(callback);\n    if (root._bokeh_is_loading > 0) {\n      console.log(\"Bokeh: BokehJS is being loaded, scheduling callback at\", now());\n      return null;\n    }\n    if (js_urls == null || js_urls.length === 0) {\n      run_callbacks();\n      return null;\n    }\n    console.log(\"Bokeh: BokehJS not loaded, scheduling load and callback at\", now());\n    root._bokeh_is_loading = js_urls.length;\n    for (var i = 0; i < js_urls.length; i++) {\n      var url = js_urls[i];\n      var s = document.createElement('script');\n      s.src = url;\n      s.async = false;\n      s.onreadystatechange = s.onload = function() {\n        root._bokeh_is_loading--;\n        if (root._bokeh_is_loading === 0) {\n          console.log(\"Bokeh: all BokehJS libraries loaded\");\n          run_callbacks()\n        }\n      };\n      s.onerror = function() {\n        console.warn(\"failed to load library \" + url);\n      };\n      console.log(\"Bokeh: injecting script tag for BokehJS library: \", url);\n      document.getElementsByTagName(\"head\")[0].appendChild(s);\n    }\n  };var element = document.getElementById(\"0425ec91-a5c7-4245-bd77-958c925e4786\");\n  if (element == null) {\n    console.log(\"Bokeh: ERROR: autoload.js configured with elementid '0425ec91-a5c7-4245-bd77-958c925e4786' but no matching script tag was found. \")\n    return false;\n  }\n\n  var js_urls = [\"https://cdn.pydata.org/bokeh/release/bokeh-0.13.0.min.js\", \"https://cdn.pydata.org/bokeh/release/bokeh-widgets-0.13.0.min.js\", \"https://cdn.pydata.org/bokeh/release/bokeh-tables-0.13.0.min.js\", \"https://cdn.pydata.org/bokeh/release/bokeh-gl-0.13.0.min.js\"];\n\n  var inline_js = [\n    function(Bokeh) {\n      Bokeh.set_log_level(\"info\");\n    },\n    \n    function(Bokeh) {\n      \n    },\n    function(Bokeh) {\n      console.log(\"Bokeh: injecting CSS: https://cdn.pydata.org/bokeh/release/bokeh-0.13.0.min.css\");\n      Bokeh.embed.inject_css(\"https://cdn.pydata.org/bokeh/release/bokeh-0.13.0.min.css\");\n      console.log(\"Bokeh: injecting CSS: https://cdn.pydata.org/bokeh/release/bokeh-widgets-0.13.0.min.css\");\n      Bokeh.embed.inject_css(\"https://cdn.pydata.org/bokeh/release/bokeh-widgets-0.13.0.min.css\");\n      console.log(\"Bokeh: injecting CSS: https://cdn.pydata.org/bokeh/release/bokeh-tables-0.13.0.min.css\");\n      Bokeh.embed.inject_css(\"https://cdn.pydata.org/bokeh/release/bokeh-tables-0.13.0.min.css\");\n    }\n  ];\n\n  function run_inline_js() {\n    \n    if ((root.Bokeh !== undefined) || (force === true)) {\n      for (var i = 0; i < inline_js.length; i++) {\n        inline_js[i].call(root, root.Bokeh);\n      }if (force === true) {\n        display_loaded();\n      }} else if (Date.now() < root._bokeh_timeout) {\n      setTimeout(run_inline_js, 100);\n    } else if (!root._bokeh_failed_load) {\n      console.log(\"Bokeh: BokehJS failed to load within specified timeout.\");\n      root._bokeh_failed_load = true;\n    } else if (force !== true) {\n      var cell = $(document.getElementById(\"0425ec91-a5c7-4245-bd77-958c925e4786\")).parents('.cell').data().cell;\n      cell.output_area.append_execute_result(NB_LOAD_WARNING)\n    }\n\n  }\n\n  if (root._bokeh_is_loading === 0) {\n    console.log(\"Bokeh: BokehJS loaded, going straight to plotting\");\n    run_inline_js();\n  } else {\n    load_libs(js_urls, function() {\n      console.log(\"Bokeh: BokehJS plotting callback run at\", now());\n      run_inline_js();\n    });\n  }\n}(window));"
          },
          "metadata": {}
        }
      ]
    },
    {
      "metadata": {},
      "cell_type": "markdown",
      "source": "## Bernot Method\n\nBegin by loading this method and set the number of sources you would like in your irrigation network."
    },
    {
      "metadata": {
        "trusted": true
      },
      "cell_type": "code",
      "source": "bernotebook = BernotNotebook()\nJavascript(bernotebook.get_string_to_set_autoscroll_to_false())\nbernotebook.get_source_number_slider()",
      "execution_count": 2,
      "outputs": [
        {
          "output_type": "display_data",
          "data": {
            "application/vnd.jupyter.widget-view+json": {
              "model_id": "e5a8c20f65d64318a7b96ebd3e2c57f8",
              "version_minor": 0,
              "version_major": 2
            },
            "text/plain": "IntSlider(value=2, description='# Sources', max=10, min=2)"
          },
          "metadata": {}
        }
      ]
    },
    {
      "metadata": {},
      "cell_type": "markdown",
      "source": "This next method makes a widget where you can set the $x$ and $y$ values of your sources and sink, as well as the $\\alpha$ value."
    },
    {
      "metadata": {
        "trusted": true
      },
      "cell_type": "code",
      "source": "bernotebook.make_tabs()",
      "execution_count": 14,
      "outputs": [
        {
          "output_type": "display_data",
          "data": {
            "application/vnd.jupyter.widget-view+json": {
              "model_id": "0b0f6adc14304ec1803af99432e178d2",
              "version_minor": 0,
              "version_major": 2
            },
            "text/plain": "Tab(children=(VBox(children=(HBox(children=(FloatText(value=0.0, description='X'), FloatText(value=3.0, descri…"
          },
          "metadata": {}
        }
      ]
    },
    {
      "metadata": {},
      "cell_type": "markdown",
      "source": "This method constructs a locally optimal irrigation network, and creates a visualization of how the network evolves through the Bernot method. Each step corresponds to a step in the Bernot method, with the final step being the final solution. "
    },
    {
      "metadata": {
        "trusted": true
      },
      "cell_type": "code",
      "source": "bernotebook.make_bernot_graph()\nshow(bernotebook.get_figure(), notebook_handle=True)\ndisplay(bernotebook.get_output())\ninteract(bernotebook.update, step=(0, len(bernotebook.graph.visualization_steps) - 1, 1))",
      "execution_count": 15,
      "outputs": [
        {
          "output_type": "display_data",
          "data": {
            "text/html": "\n\n\n\n\n\n  <div class=\"bk-root\" id=\"33adb241-46da-4ccd-8849-0399f9ace8f1\"></div>\n"
          },
          "metadata": {}
        },
        {
          "output_type": "display_data",
          "data": {
            "application/javascript": "(function(root) {\n  function embed_document(root) {\n    \n  var docs_json = {\"01b8db0a-28f0-485a-afce-4d3d5707d8c4\":{\"roots\":{\"references\":[{\"attributes\":{\"data_source\":{\"id\":\"a0eb7b0e-6774-4a6f-b036-5783b20d5c62\",\"type\":\"ColumnDataSource\"},\"glyph\":{\"id\":\"430ddc7a-868a-463a-b08d-c625d6e84a32\",\"type\":\"Segment\"},\"hover_glyph\":null,\"muted_glyph\":null,\"nonselection_glyph\":{\"id\":\"c169eab4-ac58-4edb-ba89-463511949c06\",\"type\":\"Segment\"},\"selection_glyph\":null,\"view\":{\"id\":\"747cc1e4-bc73-41d1-96e9-006c3ed42eeb\",\"type\":\"CDSView\"}},\"id\":\"ce981074-12f8-4026-b564-ec10a9c04ee8\",\"type\":\"GlyphRenderer\"},{\"attributes\":{\"dimension\":1,\"plot\":{\"id\":\"45a0ae1a-b48e-4d63-b22b-32af67b4b2a3\",\"subtype\":\"Figure\",\"type\":\"Plot\"},\"ticker\":{\"id\":\"2aa46053-0c75-468f-9cf9-9437991a31fe\",\"type\":\"BasicTicker\"}},\"id\":\"8a04f722-7047-4017-9b25-46679604d9a6\",\"type\":\"Grid\"},{\"attributes\":{\"interval\":1},\"id\":\"ffe2fbef-18dc-4318-a9de-a274e7133bf3\",\"type\":\"SingleIntervalTicker\"},{\"attributes\":{\"overlay\":{\"id\":\"77adbe61-a070-44b3-b6c2-e086b17c0357\",\"type\":\"BoxAnnotation\"}},\"id\":\"de587e6e-e322-42dc-832a-449a2eaf6096\",\"type\":\"BoxZoomTool\"},{\"attributes\":{},\"id\":\"96b19658-0202-4670-91bf-4cec9fa16bb0\",\"type\":\"BasicTickFormatter\"},{\"attributes\":{\"formatter\":{\"id\":\"00318a84-4920-4321-8b5c-6cc29232ee94\",\"type\":\"BasicTickFormatter\"},\"plot\":{\"id\":\"45a0ae1a-b48e-4d63-b22b-32af67b4b2a3\",\"subtype\":\"Figure\",\"type\":\"Plot\"},\"ticker\":{\"id\":\"ffe2fbef-18dc-4318-a9de-a274e7133bf3\",\"type\":\"SingleIntervalTicker\"}},\"id\":\"b7d47ca6-1dd1-4a98-9289-240d17e52007\",\"type\":\"LinearAxis\"},{\"attributes\":{\"data_source\":{\"id\":\"83c750b1-c2b3-4544-ad0e-82f1c55b8b43\",\"type\":\"ColumnDataSource\"},\"glyph\":{\"id\":\"1fa0249f-0ed7-445a-a767-b5352e72c123\",\"type\":\"Ellipse\"},\"hover_glyph\":null,\"muted_glyph\":null,\"nonselection_glyph\":{\"id\":\"f986f256-b643-4000-9b67-41f6c0d2e593\",\"type\":\"Ellipse\"},\"selection_glyph\":null,\"view\":{\"id\":\"751dae20-6c9e-47d1-bdcc-9d0c5f26416d\",\"type\":\"CDSView\"}},\"id\":\"a807f15c-5b69-4f69-8931-d2f2dc5d459f\",\"type\":\"GlyphRenderer\"},{\"attributes\":{\"callback\":null,\"data\":{\"alpha\":[0.5,0.5,0.5,0.5,0.5,0.5],\"color\":[\"green\",\"green\",\"green\",\"green\",\"green\",\"red\"],\"size\":[15,15,15,15,15,15],\"x_values\":[0.0,1.0,2.5,3.0,4.0,2.0],\"y_values\":[3.0,3.0,3.0,3.0,3.0,0.0]},\"selected\":{\"id\":\"fcf56a81-5b71-498e-bb66-2415c2ad6f03\",\"type\":\"Selection\"},\"selection_policy\":{\"id\":\"b95e34a7-e993-4fde-bc20-b808473ac6f0\",\"type\":\"UnionRenderers\"}},\"id\":\"1ebeeec7-5137-4cd9-a5cc-a86c5f502ebd\",\"type\":\"ColumnDataSource\"},{\"attributes\":{\"plot\":{\"id\":\"45a0ae1a-b48e-4d63-b22b-32af67b4b2a3\",\"subtype\":\"Figure\",\"type\":\"Plot\"},\"ticker\":{\"id\":\"335d1e06-4fde-4177-a193-645b1950573d\",\"type\":\"BasicTicker\"}},\"id\":\"b935e032-f9d0-439c-833d-14fbf91a65a8\",\"type\":\"Grid\"},{\"attributes\":{\"fill_color\":{\"value\":null},\"height\":{\"field\":\"diameter\",\"units\":\"data\"},\"line_alpha\":{\"field\":\"line_alpha\"},\"line_color\":{\"field\":\"color\"},\"line_width\":{\"value\":2},\"width\":{\"field\":\"diameter\",\"units\":\"data\"},\"x\":{\"field\":\"x_values\"},\"y\":{\"field\":\"y_values\"}},\"id\":\"1fa0249f-0ed7-445a-a767-b5352e72c123\",\"type\":\"Ellipse\"},{\"attributes\":{},\"id\":\"fcf56a81-5b71-498e-bb66-2415c2ad6f03\",\"type\":\"Selection\"},{\"attributes\":{\"source\":{\"id\":\"1ebeeec7-5137-4cd9-a5cc-a86c5f502ebd\",\"type\":\"ColumnDataSource\"}},\"id\":\"67d8cd33-7244-4e82-bdc7-a2b7fa1e4ff1\",\"type\":\"CDSView\"},{\"attributes\":{},\"id\":\"b95e34a7-e993-4fde-bc20-b808473ac6f0\",\"type\":\"UnionRenderers\"},{\"attributes\":{},\"id\":\"2aa46053-0c75-468f-9cf9-9437991a31fe\",\"type\":\"BasicTicker\"},{\"attributes\":{\"interval\":1},\"id\":\"2f39700d-716b-4354-971f-a71668cf6645\",\"type\":\"SingleIntervalTicker\"},{\"attributes\":{\"line_alpha\":{\"value\":0.1},\"line_color\":{\"value\":\"#1f77b4\"},\"line_width\":{\"value\":2},\"x0\":{\"field\":\"x0\"},\"x1\":{\"field\":\"x1\"},\"y0\":{\"field\":\"y0\"},\"y1\":{\"field\":\"y1\"}},\"id\":\"c169eab4-ac58-4edb-ba89-463511949c06\",\"type\":\"Segment\"},{\"attributes\":{\"callback\":null},\"id\":\"d6cbc775-ae43-4168-8aa1-956287e9a355\",\"type\":\"DataRange1d\"},{\"attributes\":{\"fill_alpha\":{\"value\":0.1},\"fill_color\":{\"value\":\"#1f77b4\"},\"height\":{\"field\":\"diameter\",\"units\":\"data\"},\"line_alpha\":{\"value\":0.1},\"line_color\":{\"value\":\"#1f77b4\"},\"line_width\":{\"value\":2},\"width\":{\"field\":\"diameter\",\"units\":\"data\"},\"x\":{\"field\":\"x_values\"},\"y\":{\"field\":\"y_values\"}},\"id\":\"f986f256-b643-4000-9b67-41f6c0d2e593\",\"type\":\"Ellipse\"},{\"attributes\":{\"data_source\":{\"id\":\"1ebeeec7-5137-4cd9-a5cc-a86c5f502ebd\",\"type\":\"ColumnDataSource\"},\"glyph\":{\"id\":\"8b068eb2-4000-4732-9b9c-bc02c024d3e2\",\"type\":\"Circle\"},\"hover_glyph\":null,\"muted_glyph\":null,\"nonselection_glyph\":{\"id\":\"27f48651-99bd-4432-a804-f319a80ca5de\",\"type\":\"Circle\"},\"selection_glyph\":null,\"view\":{\"id\":\"67d8cd33-7244-4e82-bdc7-a2b7fa1e4ff1\",\"type\":\"CDSView\"}},\"id\":\"5bc3042b-01c0-407d-b93f-f2e08e73ce33\",\"type\":\"GlyphRenderer\"},{\"attributes\":{},\"id\":\"335d1e06-4fde-4177-a193-645b1950573d\",\"type\":\"BasicTicker\"},{\"attributes\":{\"line_alpha\":{\"field\":\"line_alpha\"},\"line_width\":{\"value\":2},\"x0\":{\"field\":\"x0\"},\"x1\":{\"field\":\"x1\"},\"y0\":{\"field\":\"y0\"},\"y1\":{\"field\":\"y1\"}},\"id\":\"430ddc7a-868a-463a-b08d-c625d6e84a32\",\"type\":\"Segment\"},{\"attributes\":{},\"id\":\"093a218b-146b-48fc-84a4-71368c7ff81d\",\"type\":\"LinearScale\"},{\"attributes\":{\"active_drag\":\"auto\",\"active_inspect\":\"auto\",\"active_multi\":null,\"active_scroll\":\"auto\",\"active_tap\":\"auto\",\"tools\":[{\"id\":\"9639da32-04fd-4ec4-9c73-c8d73b8b352a\",\"type\":\"PanTool\"},{\"id\":\"07bf5e6e-8437-481e-a33f-83812e88b2a9\",\"type\":\"WheelZoomTool\"},{\"id\":\"de587e6e-e322-42dc-832a-449a2eaf6096\",\"type\":\"BoxZoomTool\"},{\"id\":\"9a3b2058-2c73-4d45-b07e-1416991c3ca4\",\"type\":\"SaveTool\"},{\"id\":\"be8b39c6-8dad-4b69-8973-6d93999c16e9\",\"type\":\"ResetTool\"},{\"id\":\"3c089e07-65fc-400b-a4b6-fde7a965f925\",\"type\":\"HelpTool\"}]},\"id\":\"022ee9a1-fa57-47d6-844a-810782dee163\",\"type\":\"Toolbar\"},{\"attributes\":{\"fill_alpha\":{\"value\":0.1},\"fill_color\":{\"value\":\"#1f77b4\"},\"line_alpha\":{\"value\":0.1},\"line_color\":{\"value\":\"#1f77b4\"},\"size\":{\"field\":\"size\",\"units\":\"screen\"},\"x\":{\"field\":\"x_values\"},\"y\":{\"field\":\"y_values\"}},\"id\":\"27f48651-99bd-4432-a804-f319a80ca5de\",\"type\":\"Circle\"},{\"attributes\":{\"source\":{\"id\":\"a0eb7b0e-6774-4a6f-b036-5783b20d5c62\",\"type\":\"ColumnDataSource\"}},\"id\":\"747cc1e4-bc73-41d1-96e9-006c3ed42eeb\",\"type\":\"CDSView\"},{\"attributes\":{},\"id\":\"be8b39c6-8dad-4b69-8973-6d93999c16e9\",\"type\":\"ResetTool\"},{\"attributes\":{\"plot\":null,\"text\":\"\"},\"id\":\"e67c15d3-6904-4ac4-9cfb-2e5533cf6688\",\"type\":\"Title\"},{\"attributes\":{\"source\":{\"id\":\"83c750b1-c2b3-4544-ad0e-82f1c55b8b43\",\"type\":\"ColumnDataSource\"}},\"id\":\"751dae20-6c9e-47d1-bdcc-9d0c5f26416d\",\"type\":\"CDSView\"},{\"attributes\":{\"below\":[{\"id\":\"1b7f5594-90c5-4eac-8b57-678fa83d5a35\",\"type\":\"LinearAxis\"}],\"left\":[{\"id\":\"b7d47ca6-1dd1-4a98-9289-240d17e52007\",\"type\":\"LinearAxis\"}],\"match_aspect\":true,\"renderers\":[{\"id\":\"1b7f5594-90c5-4eac-8b57-678fa83d5a35\",\"type\":\"LinearAxis\"},{\"id\":\"b935e032-f9d0-439c-833d-14fbf91a65a8\",\"type\":\"Grid\"},{\"id\":\"b7d47ca6-1dd1-4a98-9289-240d17e52007\",\"type\":\"LinearAxis\"},{\"id\":\"8a04f722-7047-4017-9b25-46679604d9a6\",\"type\":\"Grid\"},{\"id\":\"77adbe61-a070-44b3-b6c2-e086b17c0357\",\"type\":\"BoxAnnotation\"},{\"id\":\"5bc3042b-01c0-407d-b93f-f2e08e73ce33\",\"type\":\"GlyphRenderer\"},{\"id\":\"a807f15c-5b69-4f69-8931-d2f2dc5d459f\",\"type\":\"GlyphRenderer\"},{\"id\":\"ce981074-12f8-4026-b564-ec10a9c04ee8\",\"type\":\"GlyphRenderer\"}],\"title\":{\"id\":\"e67c15d3-6904-4ac4-9cfb-2e5533cf6688\",\"type\":\"Title\"},\"toolbar\":{\"id\":\"022ee9a1-fa57-47d6-844a-810782dee163\",\"type\":\"Toolbar\"},\"x_range\":{\"id\":\"35d6b967-477e-435e-b9d4-0c1c00387cfc\",\"type\":\"DataRange1d\"},\"x_scale\":{\"id\":\"f52b71ae-e195-49a4-ba0d-4f89213574dc\",\"type\":\"LinearScale\"},\"y_range\":{\"id\":\"d6cbc775-ae43-4168-8aa1-956287e9a355\",\"type\":\"DataRange1d\"},\"y_scale\":{\"id\":\"093a218b-146b-48fc-84a4-71368c7ff81d\",\"type\":\"LinearScale\"}},\"id\":\"45a0ae1a-b48e-4d63-b22b-32af67b4b2a3\",\"subtype\":\"Figure\",\"type\":\"Plot\"},{\"attributes\":{},\"id\":\"713a2fe9-934a-456f-9150-6baee217b46b\",\"type\":\"Selection\"},{\"attributes\":{},\"id\":\"9a3b2058-2c73-4d45-b07e-1416991c3ca4\",\"type\":\"SaveTool\"},{\"attributes\":{},\"id\":\"00318a84-4920-4321-8b5c-6cc29232ee94\",\"type\":\"BasicTickFormatter\"},{\"attributes\":{\"fill_alpha\":{\"field\":\"alpha\"},\"fill_color\":{\"field\":\"color\"},\"line_alpha\":{\"field\":\"alpha\"},\"line_color\":{\"field\":\"color\"},\"size\":{\"field\":\"size\",\"units\":\"screen\"},\"x\":{\"field\":\"x_values\"},\"y\":{\"field\":\"y_values\"}},\"id\":\"8b068eb2-4000-4732-9b9c-bc02c024d3e2\",\"type\":\"Circle\"},{\"attributes\":{},\"id\":\"1770837b-6df3-41f0-8825-500aba3effb3\",\"type\":\"Selection\"},{\"attributes\":{\"callback\":null,\"data\":{\"line_alpha\":[],\"x0\":[],\"x1\":[],\"y0\":[],\"y1\":[]},\"selected\":{\"id\":\"1770837b-6df3-41f0-8825-500aba3effb3\",\"type\":\"Selection\"},\"selection_policy\":{\"id\":\"38c748bf-98f1-419c-82bf-0d71fef6a5b5\",\"type\":\"UnionRenderers\"}},\"id\":\"a0eb7b0e-6774-4a6f-b036-5783b20d5c62\",\"type\":\"ColumnDataSource\"},{\"attributes\":{},\"id\":\"3c089e07-65fc-400b-a4b6-fde7a965f925\",\"type\":\"HelpTool\"},{\"attributes\":{\"callback\":null},\"id\":\"35d6b967-477e-435e-b9d4-0c1c00387cfc\",\"type\":\"DataRange1d\"},{\"attributes\":{},\"id\":\"38c748bf-98f1-419c-82bf-0d71fef6a5b5\",\"type\":\"UnionRenderers\"},{\"attributes\":{\"bottom_units\":\"screen\",\"fill_alpha\":{\"value\":0.5},\"fill_color\":{\"value\":\"lightgrey\"},\"left_units\":\"screen\",\"level\":\"overlay\",\"line_alpha\":{\"value\":1.0},\"line_color\":{\"value\":\"black\"},\"line_dash\":[4,4],\"line_width\":{\"value\":2},\"plot\":null,\"render_mode\":\"css\",\"right_units\":\"screen\",\"top_units\":\"screen\"},\"id\":\"77adbe61-a070-44b3-b6c2-e086b17c0357\",\"type\":\"BoxAnnotation\"},{\"attributes\":{},\"id\":\"f52b71ae-e195-49a4-ba0d-4f89213574dc\",\"type\":\"LinearScale\"},{\"attributes\":{},\"id\":\"9639da32-04fd-4ec4-9c73-c8d73b8b352a\",\"type\":\"PanTool\"},{\"attributes\":{\"callback\":null,\"data\":{\"color\":[],\"diameter\":[],\"line_alpha\":[],\"x_values\":[],\"y_values\":[]},\"selected\":{\"id\":\"713a2fe9-934a-456f-9150-6baee217b46b\",\"type\":\"Selection\"},\"selection_policy\":{\"id\":\"0f24e20d-2388-49aa-9207-b59a7cedb4d3\",\"type\":\"UnionRenderers\"}},\"id\":\"83c750b1-c2b3-4544-ad0e-82f1c55b8b43\",\"type\":\"ColumnDataSource\"},{\"attributes\":{},\"id\":\"0f24e20d-2388-49aa-9207-b59a7cedb4d3\",\"type\":\"UnionRenderers\"},{\"attributes\":{},\"id\":\"07bf5e6e-8437-481e-a33f-83812e88b2a9\",\"type\":\"WheelZoomTool\"},{\"attributes\":{\"formatter\":{\"id\":\"96b19658-0202-4670-91bf-4cec9fa16bb0\",\"type\":\"BasicTickFormatter\"},\"plot\":{\"id\":\"45a0ae1a-b48e-4d63-b22b-32af67b4b2a3\",\"subtype\":\"Figure\",\"type\":\"Plot\"},\"ticker\":{\"id\":\"2f39700d-716b-4354-971f-a71668cf6645\",\"type\":\"SingleIntervalTicker\"}},\"id\":\"1b7f5594-90c5-4eac-8b57-678fa83d5a35\",\"type\":\"LinearAxis\"}],\"root_ids\":[\"45a0ae1a-b48e-4d63-b22b-32af67b4b2a3\"]},\"title\":\"Bokeh Application\",\"version\":\"0.13.0\"}};\n  var render_items = [{\"docid\":\"01b8db0a-28f0-485a-afce-4d3d5707d8c4\",\"notebook_comms_target\":\"1e047a7d-0d29-4b1e-b7bd-3c45f513bed7\",\"roots\":{\"45a0ae1a-b48e-4d63-b22b-32af67b4b2a3\":\"33adb241-46da-4ccd-8849-0399f9ace8f1\"}}];\n  root.Bokeh.embed.embed_items_notebook(docs_json, render_items);\n\n  }\n  if (root.Bokeh !== undefined) {\n    embed_document(root);\n  } else {\n    var attempts = 0;\n    var timer = setInterval(function(root) {\n      if (root.Bokeh !== undefined) {\n        embed_document(root);\n        clearInterval(timer);\n      }\n      attempts++;\n      if (attempts > 100) {\n        console.log(\"Bokeh: ERROR: Unable to run BokehJS code because BokehJS library is missing\")\n        clearInterval(timer);\n      }\n    }, 10, root)\n  }\n})(window);",
            "application/vnd.bokehjs_exec.v0+json": ""
          },
          "metadata": {
            "application/vnd.bokehjs_exec.v0+json": {
              "id": "45a0ae1a-b48e-4d63-b22b-32af67b4b2a3"
            }
          }
        },
        {
          "output_type": "display_data",
          "data": {
            "application/vnd.jupyter.widget-view+json": {
              "model_id": "8b95e8ef3876475fa00f7ec0345ca238",
              "version_minor": 0,
              "version_major": 2
            },
            "text/plain": "Output(layout=Layout(border='1px solid black'))"
          },
          "metadata": {}
        },
        {
          "output_type": "display_data",
          "data": {
            "application/vnd.jupyter.widget-view+json": {
              "model_id": "62f1396590a24168a49428be8b85b018",
              "version_minor": 0,
              "version_major": 2
            },
            "text/plain": "interactive(children=(IntSlider(value=0, description='step', max=24), Output()), _dom_classes=('widget-interac…"
          },
          "metadata": {}
        },
        {
          "output_type": "execute_result",
          "execution_count": 15,
          "data": {
            "text/plain": "<function ipywidgets.widgets.interaction._InteractFactory.__call__.<locals>.<lambda>(*args, **kwargs)>"
          },
          "metadata": {}
        }
      ]
    },
    {
      "metadata": {},
      "cell_type": "markdown",
      "source": "## Flow Method\n\nBegin by loading the method and changing the $x$ and $y$ coordiantes for two sources and one sink. You can also change the $\\alpha$ value and step size, $h$."
    },
    {
      "metadata": {
        "trusted": true
      },
      "cell_type": "code",
      "source": "notebook = FlowNotebook()\nJavascript(notebook.get_string_to_set_autoscroll_to_false())\nnotebook.get_tab()",
      "execution_count": 5,
      "outputs": [
        {
          "output_type": "display_data",
          "data": {
            "application/vnd.jupyter.widget-view+json": {
              "model_id": "679769a8c8774f7eabe4d19559b52ed4",
              "version_minor": 0,
              "version_major": 2
            },
            "text/plain": "Tab(children=(Accordion(children=(BoundedFloatText(value=0.0, max=10.0, step=0.1), BoundedFloatText(value=1.0,…"
          },
          "metadata": {}
        }
      ]
    },
    {
      "metadata": {},
      "cell_type": "markdown",
      "source": "This next cell carries out the Flow method and outputs the locally optimal bifurcation point position, as well as the total cost, $G$, of that position and the final $\\theta$ value."
    },
    {
      "metadata": {
        "trusted": true
      },
      "cell_type": "code",
      "source": "notebook.get_optimal_bifurcation_point()",
      "execution_count": 8,
      "outputs": [
        {
          "output_type": "display_data",
          "data": {
            "application/vnd.jupyter.widget-view+json": {
              "model_id": "94567b46c3b7452d9229953cae0dc976",
              "version_minor": 0,
              "version_major": 2
            },
            "text/plain": "Output(layout=Layout(border='1px solid black'), outputs=({'output_type': 'stream', 'name': 'stdout', 'text': '…"
          },
          "metadata": {}
        }
      ]
    },
    {
      "metadata": {},
      "cell_type": "markdown",
      "source": "Finally, a visualization of the flow process at work, where each step iteratively decreases the network cost. "
    },
    {
      "metadata": {
        "trusted": true
      },
      "cell_type": "code",
      "source": "show(notebook.get_figure(), notebook_handle=True)\ndisplay(notebook.get_output())\ninteract(notebook.update, step=(0, len(notebook.steps) - 1, 1))",
      "execution_count": 10,
      "outputs": [
        {
          "output_type": "display_data",
          "data": {
            "text/html": "\n\n\n\n\n\n  <div class=\"bk-root\" id=\"cbe010db-bb50-4bbd-840e-99cced31e3f0\"></div>\n"
          },
          "metadata": {}
        },
        {
          "output_type": "display_data",
          "data": {
            "application/javascript": "(function(root) {\n  function embed_document(root) {\n    \n  var docs_json = {\"f98c3af4-4b84-431c-b013-c5bf666f18cf\":{\"roots\":{\"references\":[{\"attributes\":{\"plot\":null,\"text\":\"\"},\"id\":\"b1672ddf-8297-411a-9e42-52acb7862856\",\"type\":\"Title\"},{\"attributes\":{\"data_source\":{\"id\":\"08994916-764b-4c35-845d-397a58b95e72\",\"type\":\"ColumnDataSource\"},\"glyph\":{\"id\":\"6f3c4b70-664c-425c-a257-4c4ccdbe935f\",\"type\":\"Circle\"},\"hover_glyph\":null,\"muted_glyph\":null,\"nonselection_glyph\":{\"id\":\"a4659194-0975-418a-85b8-00eb639ecd85\",\"type\":\"Circle\"},\"selection_glyph\":null,\"view\":{\"id\":\"27f6b981-4641-4c30-b4ea-bd7453c6b902\",\"type\":\"CDSView\"}},\"id\":\"3211828f-4fe4-4b0d-a61a-765b5bfc833c\",\"type\":\"GlyphRenderer\"},{\"attributes\":{\"source\":{\"id\":\"08994916-764b-4c35-845d-397a58b95e72\",\"type\":\"ColumnDataSource\"}},\"id\":\"27f6b981-4641-4c30-b4ea-bd7453c6b902\",\"type\":\"CDSView\"},{\"attributes\":{},\"id\":\"29a1ebf2-ab71-40ca-b2f9-85c1a99eb30e\",\"type\":\"LinearScale\"},{\"attributes\":{\"interval\":1},\"id\":\"46714c80-7d04-4813-9987-9ccd26fd105b\",\"type\":\"SingleIntervalTicker\"},{\"attributes\":{\"interval\":1},\"id\":\"41102f4b-3348-4739-9b1f-2eb1c4cfc589\",\"type\":\"SingleIntervalTicker\"},{\"attributes\":{\"callback\":null},\"id\":\"bc17aa1e-3ccc-455a-8f2c-7233d6a3bc5e\",\"type\":\"DataRange1d\"},{\"attributes\":{},\"id\":\"bf99c535-6a6a-4e9b-b6ee-c86742f45466\",\"type\":\"SaveTool\"},{\"attributes\":{\"below\":[{\"id\":\"a95dc087-642c-4be4-8aa5-fe71d3383d6d\",\"type\":\"LinearAxis\"}],\"left\":[{\"id\":\"35e2b79a-e553-4881-9df5-e98a5ea6c294\",\"type\":\"LinearAxis\"}],\"match_aspect\":true,\"renderers\":[{\"id\":\"a95dc087-642c-4be4-8aa5-fe71d3383d6d\",\"type\":\"LinearAxis\"},{\"id\":\"bf6529c3-206c-42fb-9c14-85ace39e7759\",\"type\":\"Grid\"},{\"id\":\"35e2b79a-e553-4881-9df5-e98a5ea6c294\",\"type\":\"LinearAxis\"},{\"id\":\"aadd5f42-3369-4def-bfe2-5a2ea18b4f8d\",\"type\":\"Grid\"},{\"id\":\"3398143d-0fc0-4230-bbe6-17a2381baeff\",\"type\":\"BoxAnnotation\"},{\"id\":\"3211828f-4fe4-4b0d-a61a-765b5bfc833c\",\"type\":\"GlyphRenderer\"},{\"id\":\"f44c27cc-f747-44db-b135-d6b1e3716ea8\",\"type\":\"GlyphRenderer\"}],\"title\":{\"id\":\"b1672ddf-8297-411a-9e42-52acb7862856\",\"type\":\"Title\"},\"toolbar\":{\"id\":\"f22dadfd-a02d-47b7-b32c-32a2c5f7fb95\",\"type\":\"Toolbar\"},\"x_range\":{\"id\":\"bc17aa1e-3ccc-455a-8f2c-7233d6a3bc5e\",\"type\":\"DataRange1d\"},\"x_scale\":{\"id\":\"0a947e15-6b92-43a6-bbb2-59e6bfa0cac2\",\"type\":\"LinearScale\"},\"y_range\":{\"id\":\"e7e42adc-6213-4939-8d68-b0b79f45c641\",\"type\":\"DataRange1d\"},\"y_scale\":{\"id\":\"29a1ebf2-ab71-40ca-b2f9-85c1a99eb30e\",\"type\":\"LinearScale\"}},\"id\":\"a5438a63-8d47-40d5-a373-b137a8e19636\",\"subtype\":\"Figure\",\"type\":\"Plot\"},{\"attributes\":{},\"id\":\"480b530f-34ac-4998-bb3a-5e2d146d349a\",\"type\":\"BasicTickFormatter\"},{\"attributes\":{},\"id\":\"1ead5ee5-1747-4c5f-8507-4b5a4f14a8a9\",\"type\":\"BasicTickFormatter\"},{\"attributes\":{},\"id\":\"84e771d8-b10c-47a5-ae57-b9ed086ae428\",\"type\":\"BasicTicker\"},{\"attributes\":{\"dimension\":1,\"plot\":{\"id\":\"a5438a63-8d47-40d5-a373-b137a8e19636\",\"subtype\":\"Figure\",\"type\":\"Plot\"},\"ticker\":{\"id\":\"84e771d8-b10c-47a5-ae57-b9ed086ae428\",\"type\":\"BasicTicker\"}},\"id\":\"aadd5f42-3369-4def-bfe2-5a2ea18b4f8d\",\"type\":\"Grid\"},{\"attributes\":{\"formatter\":{\"id\":\"480b530f-34ac-4998-bb3a-5e2d146d349a\",\"type\":\"BasicTickFormatter\"},\"plot\":{\"id\":\"a5438a63-8d47-40d5-a373-b137a8e19636\",\"subtype\":\"Figure\",\"type\":\"Plot\"},\"ticker\":{\"id\":\"41102f4b-3348-4739-9b1f-2eb1c4cfc589\",\"type\":\"SingleIntervalTicker\"}},\"id\":\"35e2b79a-e553-4881-9df5-e98a5ea6c294\",\"type\":\"LinearAxis\"},{\"attributes\":{\"line_color\":{\"value\":\"navy\"},\"line_width\":{\"value\":3},\"x0\":{\"field\":\"x0\"},\"x1\":{\"field\":\"x1\"},\"y0\":{\"field\":\"y0\"},\"y1\":{\"field\":\"y1\"}},\"id\":\"1886ef0b-c7dd-4678-b869-90878a1862f4\",\"type\":\"Segment\"},{\"attributes\":{},\"id\":\"cc5e47ab-9d30-4c22-aef9-f430eb610e04\",\"type\":\"ResetTool\"},{\"attributes\":{},\"id\":\"318166f4-fd71-4834-b007-3a806921f593\",\"type\":\"BasicTicker\"},{\"attributes\":{\"data_source\":{\"id\":\"dfbd896e-7692-41a2-9bc8-c41c1cf4a151\",\"type\":\"ColumnDataSource\"},\"glyph\":{\"id\":\"1886ef0b-c7dd-4678-b869-90878a1862f4\",\"type\":\"Segment\"},\"hover_glyph\":null,\"muted_glyph\":null,\"nonselection_glyph\":{\"id\":\"7cfa3956-f652-48fc-8d4c-6e3124c7f0a2\",\"type\":\"Segment\"},\"selection_glyph\":null,\"view\":{\"id\":\"094c81d8-ae15-4d46-bae9-b3813636b987\",\"type\":\"CDSView\"}},\"id\":\"f44c27cc-f747-44db-b135-d6b1e3716ea8\",\"type\":\"GlyphRenderer\"},{\"attributes\":{},\"id\":\"022ceb27-74d7-4890-ab98-11c2b818dee9\",\"type\":\"UnionRenderers\"},{\"attributes\":{\"fill_color\":{\"value\":\"#1f77b4\"},\"line_color\":{\"value\":\"#1f77b4\"},\"x\":{\"field\":\"x_values\"},\"y\":{\"field\":\"y_values\"}},\"id\":\"6f3c4b70-664c-425c-a257-4c4ccdbe935f\",\"type\":\"Circle\"},{\"attributes\":{\"bottom_units\":\"screen\",\"fill_alpha\":{\"value\":0.5},\"fill_color\":{\"value\":\"lightgrey\"},\"left_units\":\"screen\",\"level\":\"overlay\",\"line_alpha\":{\"value\":1.0},\"line_color\":{\"value\":\"black\"},\"line_dash\":[4,4],\"line_width\":{\"value\":2},\"plot\":null,\"render_mode\":\"css\",\"right_units\":\"screen\",\"top_units\":\"screen\"},\"id\":\"3398143d-0fc0-4230-bbe6-17a2381baeff\",\"type\":\"BoxAnnotation\"},{\"attributes\":{\"plot\":{\"id\":\"a5438a63-8d47-40d5-a373-b137a8e19636\",\"subtype\":\"Figure\",\"type\":\"Plot\"},\"ticker\":{\"id\":\"318166f4-fd71-4834-b007-3a806921f593\",\"type\":\"BasicTicker\"}},\"id\":\"bf6529c3-206c-42fb-9c14-85ace39e7759\",\"type\":\"Grid\"},{\"attributes\":{},\"id\":\"7a38609e-d4ed-43c0-bf6e-eac2d6eef332\",\"type\":\"UnionRenderers\"},{\"attributes\":{\"fill_alpha\":{\"value\":0.1},\"fill_color\":{\"value\":\"#1f77b4\"},\"line_alpha\":{\"value\":0.1},\"line_color\":{\"value\":\"#1f77b4\"},\"x\":{\"field\":\"x_values\"},\"y\":{\"field\":\"y_values\"}},\"id\":\"a4659194-0975-418a-85b8-00eb639ecd85\",\"type\":\"Circle\"},{\"attributes\":{},\"id\":\"270be3f2-e70d-4c4f-a08b-2df63636faa0\",\"type\":\"Selection\"},{\"attributes\":{\"callback\":null,\"data\":{\"x0\":[0.0,1.0,0.5],\"x1\":[0.5,0.5,0.5],\"y0\":[3.0,3.0,0.0],\"y1\":[0.0,0.0,0.0]},\"selected\":{\"id\":\"391a006d-c683-42f6-97a8-2b60784f4802\",\"type\":\"Selection\"},\"selection_policy\":{\"id\":\"022ceb27-74d7-4890-ab98-11c2b818dee9\",\"type\":\"UnionRenderers\"}},\"id\":\"dfbd896e-7692-41a2-9bc8-c41c1cf4a151\",\"type\":\"ColumnDataSource\"},{\"attributes\":{},\"id\":\"391a006d-c683-42f6-97a8-2b60784f4802\",\"type\":\"Selection\"},{\"attributes\":{\"active_drag\":\"auto\",\"active_inspect\":\"auto\",\"active_multi\":null,\"active_scroll\":\"auto\",\"active_tap\":\"auto\",\"tools\":[{\"id\":\"7d9856a0-f8cb-41c1-87df-f15decb24be8\",\"type\":\"PanTool\"},{\"id\":\"11d30913-70c2-421f-896a-f94bf836800e\",\"type\":\"WheelZoomTool\"},{\"id\":\"0ba0eab9-361c-49f7-8d82-398daee55cdd\",\"type\":\"BoxZoomTool\"},{\"id\":\"bf99c535-6a6a-4e9b-b6ee-c86742f45466\",\"type\":\"SaveTool\"},{\"id\":\"cc5e47ab-9d30-4c22-aef9-f430eb610e04\",\"type\":\"ResetTool\"},{\"id\":\"879f6c63-8d7e-4ca6-9a6b-c365135300a2\",\"type\":\"HelpTool\"}]},\"id\":\"f22dadfd-a02d-47b7-b32c-32a2c5f7fb95\",\"type\":\"Toolbar\"},{\"attributes\":{},\"id\":\"7d9856a0-f8cb-41c1-87df-f15decb24be8\",\"type\":\"PanTool\"},{\"attributes\":{},\"id\":\"0a947e15-6b92-43a6-bbb2-59e6bfa0cac2\",\"type\":\"LinearScale\"},{\"attributes\":{\"formatter\":{\"id\":\"1ead5ee5-1747-4c5f-8507-4b5a4f14a8a9\",\"type\":\"BasicTickFormatter\"},\"plot\":{\"id\":\"a5438a63-8d47-40d5-a373-b137a8e19636\",\"subtype\":\"Figure\",\"type\":\"Plot\"},\"ticker\":{\"id\":\"46714c80-7d04-4813-9987-9ccd26fd105b\",\"type\":\"SingleIntervalTicker\"}},\"id\":\"a95dc087-642c-4be4-8aa5-fe71d3383d6d\",\"type\":\"LinearAxis\"},{\"attributes\":{\"callback\":null},\"id\":\"e7e42adc-6213-4939-8d68-b0b79f45c641\",\"type\":\"DataRange1d\"},{\"attributes\":{\"line_alpha\":{\"value\":0.1},\"line_color\":{\"value\":\"#1f77b4\"},\"line_width\":{\"value\":3},\"x0\":{\"field\":\"x0\"},\"x1\":{\"field\":\"x1\"},\"y0\":{\"field\":\"y0\"},\"y1\":{\"field\":\"y1\"}},\"id\":\"7cfa3956-f652-48fc-8d4c-6e3124c7f0a2\",\"type\":\"Segment\"},{\"attributes\":{\"callback\":null,\"data\":{\"x_values\":[0.0,1.0,0.5,0.5],\"y_values\":[3.0,3.0,0.0,0.0]},\"selected\":{\"id\":\"270be3f2-e70d-4c4f-a08b-2df63636faa0\",\"type\":\"Selection\"},\"selection_policy\":{\"id\":\"7a38609e-d4ed-43c0-bf6e-eac2d6eef332\",\"type\":\"UnionRenderers\"}},\"id\":\"08994916-764b-4c35-845d-397a58b95e72\",\"type\":\"ColumnDataSource\"},{\"attributes\":{},\"id\":\"11d30913-70c2-421f-896a-f94bf836800e\",\"type\":\"WheelZoomTool\"},{\"attributes\":{\"source\":{\"id\":\"dfbd896e-7692-41a2-9bc8-c41c1cf4a151\",\"type\":\"ColumnDataSource\"}},\"id\":\"094c81d8-ae15-4d46-bae9-b3813636b987\",\"type\":\"CDSView\"},{\"attributes\":{\"overlay\":{\"id\":\"3398143d-0fc0-4230-bbe6-17a2381baeff\",\"type\":\"BoxAnnotation\"}},\"id\":\"0ba0eab9-361c-49f7-8d82-398daee55cdd\",\"type\":\"BoxZoomTool\"},{\"attributes\":{},\"id\":\"879f6c63-8d7e-4ca6-9a6b-c365135300a2\",\"type\":\"HelpTool\"}],\"root_ids\":[\"a5438a63-8d47-40d5-a373-b137a8e19636\"]},\"title\":\"Bokeh Application\",\"version\":\"0.13.0\"}};\n  var render_items = [{\"docid\":\"f98c3af4-4b84-431c-b013-c5bf666f18cf\",\"notebook_comms_target\":\"c3c60582-638d-4978-9231-b6705cad7a95\",\"roots\":{\"a5438a63-8d47-40d5-a373-b137a8e19636\":\"cbe010db-bb50-4bbd-840e-99cced31e3f0\"}}];\n  root.Bokeh.embed.embed_items_notebook(docs_json, render_items);\n\n  }\n  if (root.Bokeh !== undefined) {\n    embed_document(root);\n  } else {\n    var attempts = 0;\n    var timer = setInterval(function(root) {\n      if (root.Bokeh !== undefined) {\n        embed_document(root);\n        clearInterval(timer);\n      }\n      attempts++;\n      if (attempts > 100) {\n        console.log(\"Bokeh: ERROR: Unable to run BokehJS code because BokehJS library is missing\")\n        clearInterval(timer);\n      }\n    }, 10, root)\n  }\n})(window);",
            "application/vnd.bokehjs_exec.v0+json": ""
          },
          "metadata": {
            "application/vnd.bokehjs_exec.v0+json": {
              "id": "a5438a63-8d47-40d5-a373-b137a8e19636"
            }
          }
        },
        {
          "output_type": "display_data",
          "data": {
            "application/vnd.jupyter.widget-view+json": {
              "model_id": "f3232e8d5eee4cceb1ac89f4dea60a22",
              "version_minor": 0,
              "version_major": 2
            },
            "text/plain": "Output(layout=Layout(border='1px solid black'))"
          },
          "metadata": {}
        },
        {
          "output_type": "display_data",
          "data": {
            "application/vnd.jupyter.widget-view+json": {
              "model_id": "8ae35b07cfd549239e44035541c25cae",
              "version_minor": 0,
              "version_major": 2
            },
            "text/plain": "interactive(children=(IntSlider(value=0, description='step', max=7), Output()), _dom_classes=('widget-interact…"
          },
          "metadata": {}
        },
        {
          "output_type": "execute_result",
          "execution_count": 10,
          "data": {
            "text/plain": "<function ipywidgets.widgets.interaction._InteractFactory.__call__.<locals>.<lambda>(*args, **kwargs)>"
          },
          "metadata": {}
        }
      ]
    },
    {
      "metadata": {
        "trusted": true
      },
      "cell_type": "code",
      "source": "",
      "execution_count": null,
      "outputs": []
    }
  ],
  "metadata": {
    "kernelspec": {
      "name": "python36",
      "display_name": "Python 3.6",
      "language": "python"
    },
    "language_info": {
      "mimetype": "text/x-python",
      "nbconvert_exporter": "python",
      "name": "python",
      "pygments_lexer": "ipython3",
      "version": "3.6.6",
      "file_extension": ".py",
      "codemirror_mode": {
        "version": 3,
        "name": "ipython"
      }
    }
  },
  "nbformat": 4,
  "nbformat_minor": 2
}