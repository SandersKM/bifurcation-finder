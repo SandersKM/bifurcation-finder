{
  "cells": [
    {
      "metadata": {
        "trusted": true
      },
      "cell_type": "code",
      "source": "from scipy.optimize import minimize_scalar\nimport typing\nimport sys\nsys.path.insert(0, './flow_calculations')\nfrom point import Point\nfrom network import Network\nfrom node import Node\nfrom flow import Flow\nfrom flow_minimizer import FlowMinimizer",
      "execution_count": 4,
      "outputs": []
    },
    {
      "metadata": {
        "trusted": true
      },
      "cell_type": "code",
      "source": "h: float = 0.1\nx0: float = 4\nalpha: float = 0.5\nnetwork = Network()\nnetwork.addSource(Node(1,Point(0,5)))\nnetwork.addSource(Node(1,Point(0,1)))\nnetwork.addSink(Node(2, Point(4,3)))\nnetwork.addBifurcation(Point(4,3))",
      "execution_count": 5,
      "outputs": []
    },
    {
      "metadata": {
        "trusted": true
      },
      "cell_type": "code",
      "source": "h: float = 0.1\nalpha: float = 0.5\nnetwork = Network()\nnetwork.addSource(Node(1,Point(0,5)))\nnetwork.addSource(Node(1,Point(0,1)))\nnetwork.addSink(Node(2, Point(4,3)))\nnetwork.addBifurcation(Point(4,3))\nflow = Flow(h, alpha, network)\n\nm = FlowMinimizer().minimize_flow(flow)\nprint(m.network.getBifurcationPoints()[0].getX())",
      "execution_count": 6,
      "outputs": [
        {
          "output_type": "stream",
          "text": "2.000694846462366\n",
          "name": "stdout"
        }
      ]
    },
    {
      "metadata": {
        "trusted": true
      },
      "cell_type": "code",
      "source": "",
      "execution_count": 4,
      "outputs": [
        {
          "output_type": "execute_result",
          "execution_count": 4,
          "data": {
            "text/plain": "1"
          },
          "metadata": {}
        }
      ]
    },
    {
      "metadata": {
        "trusted": true
      },
      "cell_type": "code",
      "source": "",
      "execution_count": null,
      "outputs": []
    }
  ],
  "metadata": {
    "kernelspec": {
      "name": "python36",
      "display_name": "Python 3.6",
      "language": "python"
    },
    "language_info": {
      "mimetype": "text/x-python",
      "nbconvert_exporter": "python",
      "name": "python",
      "pygments_lexer": "ipython3",
      "version": "3.6.6",
      "file_extension": ".py",
      "codemirror_mode": {
        "version": 3,
        "name": "ipython"
      }
    }
  },
  "nbformat": 4,
  "nbformat_minor": 2
}