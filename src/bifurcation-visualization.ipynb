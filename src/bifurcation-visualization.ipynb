{
  "cells": [
    {
      "metadata": {
        "trusted": true
      },
      "cell_type": "code",
      "source": "from scipy.optimize import minimize_scalar\nfrom ipywidgets import interact\nimport numpy as np\nfrom bokeh.io import push_notebook, show, output_notebook\nfrom bokeh.plotting import figure\nfrom bokeh.models import ColumnDataSource\noutput_notebook()\nimport typing\nimport sys\nsys.path.insert(0, './flow_calculations')\nfrom point import Point\nfrom network import Network\nfrom node import Node\nfrom flow import Flow\nfrom flow_minimizer import FlowMinimizer",
      "execution_count": null,
      "outputs": []
    },
    {
      "metadata": {
        "trusted": true
      },
      "cell_type": "code",
      "source": "h: float = 0.1\nalpha: float = 0.5\nnetwork = Network()\nnetwork.addSource(Node(1,Point(0,5)))\nnetwork.addSource(Node(1,Point(0,1)))\nnetwork.addSink(Node(2, Point(4,3)))\nnetwork.addBifurcation(Point(4,3))\nfl = Flow(h, alpha, network)\n\nsteps = FlowMinimizer().get_flow_steps(fl, 10000, .0000001)",
      "execution_count": null,
      "outputs": []
    },
    {
      "metadata": {
        "trusted": true
      },
      "cell_type": "code",
      "source": "x_values = [n.getX() for n in  network.getSourcePoints() + network.getSinkPoints() + network.getSinkPoints() ]\ny_values = [n.getY() for n in  network.getSourcePoints() + network.getSinkPoints() + network.getSinkPoints() ]\n\ndata = {\"x_values\": x_values, 'y_values': y_values}\nsource = ColumnDataSource(data=data)\n\nline_x = []\nline_y = []\nfor n in network.getSinkPoints():\n    for m in network.getSourcePoints():\n        line_x.append([n.getX(), m.getX()])\n        line_y.append([n.getY(), m.getY()])\n    line_x.append([n.getX(), n.getX()])\n    line_y.append([n.getY(), n.getY()])\n",
      "execution_count": null,
      "outputs": []
    },
    {
      "metadata": {
        "trusted": true,
        "scrolled": true
      },
      "cell_type": "code",
      "source": "p = figure()\np.circle(x='x_values', y='y_values', source=source)\n#p.multi_line(line_x, line_y, color=[\"navy\", \"navy\", \"firebrick\"], alpha=[0.8, 0.8, 0.5], line_width=4)",
      "execution_count": null,
      "outputs": []
    },
    {
      "metadata": {
        "trusted": true
      },
      "cell_type": "code",
      "source": "def update(step = 0):\n    new_data = {\"x_values\": x_values, \"y_values\": y_values}\n    source.patch({\"x_values\": [(len(x_values)-1, steps[step])]})\n    push_notebook()",
      "execution_count": null,
      "outputs": []
    },
    {
      "metadata": {
        "trusted": true
      },
      "cell_type": "code",
      "source": "show(p, notebook_handle=True)",
      "execution_count": null,
      "outputs": []
    },
    {
      "metadata": {
        "trusted": true
      },
      "cell_type": "code",
      "source": "interact(update, step=(0, len(steps), len(steps)//10))",
      "execution_count": null,
      "outputs": []
    },
    {
      "metadata": {
        "trusted": true
      },
      "cell_type": "code",
      "source": "",
      "execution_count": null,
      "outputs": []
    },
    {
      "metadata": {
        "trusted": true
      },
      "cell_type": "code",
      "source": "",
      "execution_count": null,
      "outputs": []
    }
  ],
  "metadata": {
    "kernelspec": {
      "name": "python36",
      "display_name": "Python 3.6",
      "language": "python"
    }
  },
  "nbformat": 4,
  "nbformat_minor": 2
}