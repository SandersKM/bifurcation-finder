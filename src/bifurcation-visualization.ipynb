{
  "cells": [
    {
      "metadata": {
        "trusted": true
      },
      "cell_type": "code",
      "source": "from ipywidgets import interact\nfrom bokeh.io import show, output_notebook\noutput_notebook()\nimport sys\nsys.path.insert(0,'./flow_calculations/')\nfrom notebook_functions import Notebook\nfrom flow_minimizer import FlowMinimizer",
      "execution_count": 13,
      "outputs": [
        {
          "output_type": "display_data",
          "data": {
            "text/html": "\n    <div class=\"bk-root\">\n        <a href=\"https://bokeh.pydata.org\" target=\"_blank\" class=\"bk-logo bk-logo-small bk-logo-notebook\"></a>\n        <span id=\"0d377410-a459-452a-a6ff-726c66d0e8db\">Loading BokehJS ...</span>\n    </div>"
          },
          "metadata": {}
        },
        {
          "output_type": "display_data",
          "data": {
            "application/javascript": "\n(function(root) {\n  function now() {\n    return new Date();\n  }\n\n  var force = true;\n\n  if (typeof (root._bokeh_onload_callbacks) === \"undefined\" || force === true) {\n    root._bokeh_onload_callbacks = [];\n    root._bokeh_is_loading = undefined;\n  }\n\n  var JS_MIME_TYPE = 'application/javascript';\n  var HTML_MIME_TYPE = 'text/html';\n  var EXEC_MIME_TYPE = 'application/vnd.bokehjs_exec.v0+json';\n  var CLASS_NAME = 'output_bokeh rendered_html';\n\n  /**\n   * Render data to the DOM node\n   */\n  function render(props, node) {\n    var script = document.createElement(\"script\");\n    node.appendChild(script);\n  }\n\n  /**\n   * Handle when an output is cleared or removed\n   */\n  function handleClearOutput(event, handle) {\n    var cell = handle.cell;\n\n    var id = cell.output_area._bokeh_element_id;\n    var server_id = cell.output_area._bokeh_server_id;\n    // Clean up Bokeh references\n    if (id != null && id in Bokeh.index) {\n      Bokeh.index[id].model.document.clear();\n      delete Bokeh.index[id];\n    }\n\n    if (server_id !== undefined) {\n      // Clean up Bokeh references\n      var cmd = \"from bokeh.io.state import curstate; print(curstate().uuid_to_server['\" + server_id + \"'].get_sessions()[0].document.roots[0]._id)\";\n      cell.notebook.kernel.execute(cmd, {\n        iopub: {\n          output: function(msg) {\n            var id = msg.content.text.trim();\n            if (id in Bokeh.index) {\n              Bokeh.index[id].model.document.clear();\n              delete Bokeh.index[id];\n            }\n          }\n        }\n      });\n      // Destroy server and session\n      var cmd = \"import bokeh.io.notebook as ion; ion.destroy_server('\" + server_id + \"')\";\n      cell.notebook.kernel.execute(cmd);\n    }\n  }\n\n  /**\n   * Handle when a new output is added\n   */\n  function handleAddOutput(event, handle) {\n    var output_area = handle.output_area;\n    var output = handle.output;\n\n    // limit handleAddOutput to display_data with EXEC_MIME_TYPE content only\n    if ((output.output_type != \"display_data\") || (!output.data.hasOwnProperty(EXEC_MIME_TYPE))) {\n      return\n    }\n\n    var toinsert = output_area.element.find(\".\" + CLASS_NAME.split(' ')[0]);\n\n    if (output.metadata[EXEC_MIME_TYPE][\"id\"] !== undefined) {\n      toinsert[toinsert.length - 1].firstChild.textContent = output.data[JS_MIME_TYPE];\n      // store reference to embed id on output_area\n      output_area._bokeh_element_id = output.metadata[EXEC_MIME_TYPE][\"id\"];\n    }\n    if (output.metadata[EXEC_MIME_TYPE][\"server_id\"] !== undefined) {\n      var bk_div = document.createElement(\"div\");\n      bk_div.innerHTML = output.data[HTML_MIME_TYPE];\n      var script_attrs = bk_div.children[0].attributes;\n      for (var i = 0; i < script_attrs.length; i++) {\n        toinsert[toinsert.length - 1].firstChild.setAttribute(script_attrs[i].name, script_attrs[i].value);\n      }\n      // store reference to server id on output_area\n      output_area._bokeh_server_id = output.metadata[EXEC_MIME_TYPE][\"server_id\"];\n    }\n  }\n\n  function register_renderer(events, OutputArea) {\n\n    function append_mime(data, metadata, element) {\n      // create a DOM node to render to\n      var toinsert = this.create_output_subarea(\n        metadata,\n        CLASS_NAME,\n        EXEC_MIME_TYPE\n      );\n      this.keyboard_manager.register_events(toinsert);\n      // Render to node\n      var props = {data: data, metadata: metadata[EXEC_MIME_TYPE]};\n      render(props, toinsert[toinsert.length - 1]);\n      element.append(toinsert);\n      return toinsert\n    }\n\n    /* Handle when an output is cleared or removed */\n    events.on('clear_output.CodeCell', handleClearOutput);\n    events.on('delete.Cell', handleClearOutput);\n\n    /* Handle when a new output is added */\n    events.on('output_added.OutputArea', handleAddOutput);\n\n    /**\n     * Register the mime type and append_mime function with output_area\n     */\n    OutputArea.prototype.register_mime_type(EXEC_MIME_TYPE, append_mime, {\n      /* Is output safe? */\n      safe: true,\n      /* Index of renderer in `output_area.display_order` */\n      index: 0\n    });\n  }\n\n  // register the mime type if in Jupyter Notebook environment and previously unregistered\n  if (root.Jupyter !== undefined) {\n    var events = require('base/js/events');\n    var OutputArea = require('notebook/js/outputarea').OutputArea;\n\n    if (OutputArea.prototype.mime_types().indexOf(EXEC_MIME_TYPE) == -1) {\n      register_renderer(events, OutputArea);\n    }\n  }\n\n  \n  if (typeof (root._bokeh_timeout) === \"undefined\" || force === true) {\n    root._bokeh_timeout = Date.now() + 5000;\n    root._bokeh_failed_load = false;\n  }\n\n  var NB_LOAD_WARNING = {'data': {'text/html':\n     \"<div style='background-color: #fdd'>\\n\"+\n     \"<p>\\n\"+\n     \"BokehJS does not appear to have successfully loaded. If loading BokehJS from CDN, this \\n\"+\n     \"may be due to a slow or bad network connection. Possible fixes:\\n\"+\n     \"</p>\\n\"+\n     \"<ul>\\n\"+\n     \"<li>re-rerun `output_notebook()` to attempt to load from CDN again, or</li>\\n\"+\n     \"<li>use INLINE resources instead, as so:</li>\\n\"+\n     \"</ul>\\n\"+\n     \"<code>\\n\"+\n     \"from bokeh.resources import INLINE\\n\"+\n     \"output_notebook(resources=INLINE)\\n\"+\n     \"</code>\\n\"+\n     \"</div>\"}};\n\n  function display_loaded() {\n    var el = document.getElementById(\"0d377410-a459-452a-a6ff-726c66d0e8db\");\n    if (el != null) {\n      el.textContent = \"BokehJS is loading...\";\n    }\n    if (root.Bokeh !== undefined) {\n      if (el != null) {\n        el.textContent = \"BokehJS \" + root.Bokeh.version + \" successfully loaded.\";\n      }\n    } else if (Date.now() < root._bokeh_timeout) {\n      setTimeout(display_loaded, 100)\n    }\n  }\n\n\n  function run_callbacks() {\n    try {\n      root._bokeh_onload_callbacks.forEach(function(callback) { callback() });\n    }\n    finally {\n      delete root._bokeh_onload_callbacks\n    }\n    console.info(\"Bokeh: all callbacks have finished\");\n  }\n\n  function load_libs(js_urls, callback) {\n    root._bokeh_onload_callbacks.push(callback);\n    if (root._bokeh_is_loading > 0) {\n      console.log(\"Bokeh: BokehJS is being loaded, scheduling callback at\", now());\n      return null;\n    }\n    if (js_urls == null || js_urls.length === 0) {\n      run_callbacks();\n      return null;\n    }\n    console.log(\"Bokeh: BokehJS not loaded, scheduling load and callback at\", now());\n    root._bokeh_is_loading = js_urls.length;\n    for (var i = 0; i < js_urls.length; i++) {\n      var url = js_urls[i];\n      var s = document.createElement('script');\n      s.src = url;\n      s.async = false;\n      s.onreadystatechange = s.onload = function() {\n        root._bokeh_is_loading--;\n        if (root._bokeh_is_loading === 0) {\n          console.log(\"Bokeh: all BokehJS libraries loaded\");\n          run_callbacks()\n        }\n      };\n      s.onerror = function() {\n        console.warn(\"failed to load library \" + url);\n      };\n      console.log(\"Bokeh: injecting script tag for BokehJS library: \", url);\n      document.getElementsByTagName(\"head\")[0].appendChild(s);\n    }\n  };var element = document.getElementById(\"0d377410-a459-452a-a6ff-726c66d0e8db\");\n  if (element == null) {\n    console.log(\"Bokeh: ERROR: autoload.js configured with elementid '0d377410-a459-452a-a6ff-726c66d0e8db' but no matching script tag was found. \")\n    return false;\n  }\n\n  var js_urls = [\"https://cdn.pydata.org/bokeh/release/bokeh-0.13.0.min.js\", \"https://cdn.pydata.org/bokeh/release/bokeh-widgets-0.13.0.min.js\", \"https://cdn.pydata.org/bokeh/release/bokeh-tables-0.13.0.min.js\", \"https://cdn.pydata.org/bokeh/release/bokeh-gl-0.13.0.min.js\"];\n\n  var inline_js = [\n    function(Bokeh) {\n      Bokeh.set_log_level(\"info\");\n    },\n    \n    function(Bokeh) {\n      \n    },\n    function(Bokeh) {\n      console.log(\"Bokeh: injecting CSS: https://cdn.pydata.org/bokeh/release/bokeh-0.13.0.min.css\");\n      Bokeh.embed.inject_css(\"https://cdn.pydata.org/bokeh/release/bokeh-0.13.0.min.css\");\n      console.log(\"Bokeh: injecting CSS: https://cdn.pydata.org/bokeh/release/bokeh-widgets-0.13.0.min.css\");\n      Bokeh.embed.inject_css(\"https://cdn.pydata.org/bokeh/release/bokeh-widgets-0.13.0.min.css\");\n      console.log(\"Bokeh: injecting CSS: https://cdn.pydata.org/bokeh/release/bokeh-tables-0.13.0.min.css\");\n      Bokeh.embed.inject_css(\"https://cdn.pydata.org/bokeh/release/bokeh-tables-0.13.0.min.css\");\n    }\n  ];\n\n  function run_inline_js() {\n    \n    if ((root.Bokeh !== undefined) || (force === true)) {\n      for (var i = 0; i < inline_js.length; i++) {\n        inline_js[i].call(root, root.Bokeh);\n      }if (force === true) {\n        display_loaded();\n      }} else if (Date.now() < root._bokeh_timeout) {\n      setTimeout(run_inline_js, 100);\n    } else if (!root._bokeh_failed_load) {\n      console.log(\"Bokeh: BokehJS failed to load within specified timeout.\");\n      root._bokeh_failed_load = true;\n    } else if (force !== true) {\n      var cell = $(document.getElementById(\"0d377410-a459-452a-a6ff-726c66d0e8db\")).parents('.cell').data().cell;\n      cell.output_area.append_execute_result(NB_LOAD_WARNING)\n    }\n\n  }\n\n  if (root._bokeh_is_loading === 0) {\n    console.log(\"Bokeh: BokehJS loaded, going straight to plotting\");\n    run_inline_js();\n  } else {\n    load_libs(js_urls, function() {\n      console.log(\"Bokeh: BokehJS plotting callback run at\", now());\n      run_inline_js();\n    });\n  }\n}(window));",
            "application/vnd.bokehjs_load.v0+json": "\n(function(root) {\n  function now() {\n    return new Date();\n  }\n\n  var force = true;\n\n  if (typeof (root._bokeh_onload_callbacks) === \"undefined\" || force === true) {\n    root._bokeh_onload_callbacks = [];\n    root._bokeh_is_loading = undefined;\n  }\n\n  \n\n  \n  if (typeof (root._bokeh_timeout) === \"undefined\" || force === true) {\n    root._bokeh_timeout = Date.now() + 5000;\n    root._bokeh_failed_load = false;\n  }\n\n  var NB_LOAD_WARNING = {'data': {'text/html':\n     \"<div style='background-color: #fdd'>\\n\"+\n     \"<p>\\n\"+\n     \"BokehJS does not appear to have successfully loaded. If loading BokehJS from CDN, this \\n\"+\n     \"may be due to a slow or bad network connection. Possible fixes:\\n\"+\n     \"</p>\\n\"+\n     \"<ul>\\n\"+\n     \"<li>re-rerun `output_notebook()` to attempt to load from CDN again, or</li>\\n\"+\n     \"<li>use INLINE resources instead, as so:</li>\\n\"+\n     \"</ul>\\n\"+\n     \"<code>\\n\"+\n     \"from bokeh.resources import INLINE\\n\"+\n     \"output_notebook(resources=INLINE)\\n\"+\n     \"</code>\\n\"+\n     \"</div>\"}};\n\n  function display_loaded() {\n    var el = document.getElementById(\"0d377410-a459-452a-a6ff-726c66d0e8db\");\n    if (el != null) {\n      el.textContent = \"BokehJS is loading...\";\n    }\n    if (root.Bokeh !== undefined) {\n      if (el != null) {\n        el.textContent = \"BokehJS \" + root.Bokeh.version + \" successfully loaded.\";\n      }\n    } else if (Date.now() < root._bokeh_timeout) {\n      setTimeout(display_loaded, 100)\n    }\n  }\n\n\n  function run_callbacks() {\n    try {\n      root._bokeh_onload_callbacks.forEach(function(callback) { callback() });\n    }\n    finally {\n      delete root._bokeh_onload_callbacks\n    }\n    console.info(\"Bokeh: all callbacks have finished\");\n  }\n\n  function load_libs(js_urls, callback) {\n    root._bokeh_onload_callbacks.push(callback);\n    if (root._bokeh_is_loading > 0) {\n      console.log(\"Bokeh: BokehJS is being loaded, scheduling callback at\", now());\n      return null;\n    }\n    if (js_urls == null || js_urls.length === 0) {\n      run_callbacks();\n      return null;\n    }\n    console.log(\"Bokeh: BokehJS not loaded, scheduling load and callback at\", now());\n    root._bokeh_is_loading = js_urls.length;\n    for (var i = 0; i < js_urls.length; i++) {\n      var url = js_urls[i];\n      var s = document.createElement('script');\n      s.src = url;\n      s.async = false;\n      s.onreadystatechange = s.onload = function() {\n        root._bokeh_is_loading--;\n        if (root._bokeh_is_loading === 0) {\n          console.log(\"Bokeh: all BokehJS libraries loaded\");\n          run_callbacks()\n        }\n      };\n      s.onerror = function() {\n        console.warn(\"failed to load library \" + url);\n      };\n      console.log(\"Bokeh: injecting script tag for BokehJS library: \", url);\n      document.getElementsByTagName(\"head\")[0].appendChild(s);\n    }\n  };var element = document.getElementById(\"0d377410-a459-452a-a6ff-726c66d0e8db\");\n  if (element == null) {\n    console.log(\"Bokeh: ERROR: autoload.js configured with elementid '0d377410-a459-452a-a6ff-726c66d0e8db' but no matching script tag was found. \")\n    return false;\n  }\n\n  var js_urls = [\"https://cdn.pydata.org/bokeh/release/bokeh-0.13.0.min.js\", \"https://cdn.pydata.org/bokeh/release/bokeh-widgets-0.13.0.min.js\", \"https://cdn.pydata.org/bokeh/release/bokeh-tables-0.13.0.min.js\", \"https://cdn.pydata.org/bokeh/release/bokeh-gl-0.13.0.min.js\"];\n\n  var inline_js = [\n    function(Bokeh) {\n      Bokeh.set_log_level(\"info\");\n    },\n    \n    function(Bokeh) {\n      \n    },\n    function(Bokeh) {\n      console.log(\"Bokeh: injecting CSS: https://cdn.pydata.org/bokeh/release/bokeh-0.13.0.min.css\");\n      Bokeh.embed.inject_css(\"https://cdn.pydata.org/bokeh/release/bokeh-0.13.0.min.css\");\n      console.log(\"Bokeh: injecting CSS: https://cdn.pydata.org/bokeh/release/bokeh-widgets-0.13.0.min.css\");\n      Bokeh.embed.inject_css(\"https://cdn.pydata.org/bokeh/release/bokeh-widgets-0.13.0.min.css\");\n      console.log(\"Bokeh: injecting CSS: https://cdn.pydata.org/bokeh/release/bokeh-tables-0.13.0.min.css\");\n      Bokeh.embed.inject_css(\"https://cdn.pydata.org/bokeh/release/bokeh-tables-0.13.0.min.css\");\n    }\n  ];\n\n  function run_inline_js() {\n    \n    if ((root.Bokeh !== undefined) || (force === true)) {\n      for (var i = 0; i < inline_js.length; i++) {\n        inline_js[i].call(root, root.Bokeh);\n      }if (force === true) {\n        display_loaded();\n      }} else if (Date.now() < root._bokeh_timeout) {\n      setTimeout(run_inline_js, 100);\n    } else if (!root._bokeh_failed_load) {\n      console.log(\"Bokeh: BokehJS failed to load within specified timeout.\");\n      root._bokeh_failed_load = true;\n    } else if (force !== true) {\n      var cell = $(document.getElementById(\"0d377410-a459-452a-a6ff-726c66d0e8db\")).parents('.cell').data().cell;\n      cell.output_area.append_execute_result(NB_LOAD_WARNING)\n    }\n\n  }\n\n  if (root._bokeh_is_loading === 0) {\n    console.log(\"Bokeh: BokehJS loaded, going straight to plotting\");\n    run_inline_js();\n  } else {\n    load_libs(js_urls, function() {\n      console.log(\"Bokeh: BokehJS plotting callback run at\", now());\n      run_inline_js();\n    });\n  }\n}(window));"
          },
          "metadata": {}
        }
      ]
    },
    {
      "metadata": {
        "trusted": true
      },
      "cell_type": "code",
      "source": "notebook = Notebook()\nnotebook.get_tab()",
      "execution_count": 14,
      "outputs": [
        {
          "output_type": "display_data",
          "data": {
            "application/vnd.jupyter.widget-view+json": {
              "model_id": "b9cfd3b8f56e46f0a71b32a47842d9fb",
              "version_minor": 0,
              "version_major": 2
            },
            "text/plain": "Tab(children=(Accordion(children=(BoundedFloatText(value=0.0, max=10.0, step=0.1), BoundedFloatText(value=1.0,…"
          },
          "metadata": {}
        }
      ]
    },
    {
      "metadata": {
        "trusted": true,
        "scrolled": true
      },
      "cell_type": "code",
      "source": "show(notebook.get_figure(), notebook_handle=True)\ninteract(notebook.update, step=(0, len(notebook.steps), len(notebook.steps)//10))",
      "execution_count": 24,
      "outputs": [
        {
          "output_type": "display_data",
          "data": {
            "text/html": "\n\n\n\n\n\n  <div class=\"bk-root\" id=\"3dfdedb5-9528-4add-a31f-37000cca0dcc\"></div>\n"
          },
          "metadata": {}
        },
        {
          "output_type": "display_data",
          "data": {
            "application/javascript": "(function(root) {\n  function embed_document(root) {\n    \n  var docs_json = {\"ffa9fac0-ee85-4dfb-ae54-248aae11725c\":{\"roots\":{\"references\":[{\"attributes\":{\"data_source\":{\"id\":\"9baf893d-5ae1-4b95-b0cb-31c594490326\",\"type\":\"ColumnDataSource\"},\"glyph\":{\"id\":\"cc47c948-fb5f-4ba4-8424-f0c6ffc297e4\",\"type\":\"Circle\"},\"hover_glyph\":null,\"muted_glyph\":null,\"nonselection_glyph\":{\"id\":\"bb7806ca-7436-4efe-9bba-809a447fb88a\",\"type\":\"Circle\"},\"selection_glyph\":null,\"view\":{\"id\":\"de4ee5ad-abda-4990-8bdd-eff0297ee051\",\"type\":\"CDSView\"}},\"id\":\"71a92338-d8ce-467f-8a24-319a3b500340\",\"type\":\"GlyphRenderer\"},{\"attributes\":{\"active_drag\":\"auto\",\"active_inspect\":\"auto\",\"active_multi\":null,\"active_scroll\":\"auto\",\"active_tap\":\"auto\",\"tools\":[{\"id\":\"76238777-aae3-4f01-899c-3fc1e00db2b4\",\"type\":\"PanTool\"},{\"id\":\"d4eeb98e-0d5c-41b4-89ea-e8c0e68763a6\",\"type\":\"WheelZoomTool\"},{\"id\":\"0999cff3-45ce-4988-88f0-ecb17baf908a\",\"type\":\"BoxZoomTool\"},{\"id\":\"d291e4cd-ab07-4716-ab8e-0b41d158d9ec\",\"type\":\"SaveTool\"},{\"id\":\"277b2fb1-e76c-45d4-91a7-9b2133128b31\",\"type\":\"ResetTool\"},{\"id\":\"958b3bc4-520e-466d-8bca-fe586e1689f7\",\"type\":\"HelpTool\"}]},\"id\":\"a0504f83-09bd-4aab-8539-88e0dba01db6\",\"type\":\"Toolbar\"},{\"attributes\":{\"callback\":null},\"id\":\"c593d5d3-0029-41fa-af0e-6e6bf66bb8c6\",\"type\":\"DataRange1d\"},{\"attributes\":{\"plot\":{\"id\":\"ffbcfd4e-5295-4672-a667-c8e542376904\",\"subtype\":\"Figure\",\"type\":\"Plot\"},\"ticker\":{\"id\":\"67d62a67-722c-4ccd-b1fa-0dfcaa6235ac\",\"type\":\"BasicTicker\"}},\"id\":\"5a3cd3db-11bd-408f-907d-131a666a9145\",\"type\":\"Grid\"},{\"attributes\":{\"callback\":null},\"id\":\"d7b89fdf-c673-4e62-b92b-aac880b2a12c\",\"type\":\"DataRange1d\"},{\"attributes\":{},\"id\":\"a78c0802-3543-43b1-a508-6983d0978495\",\"type\":\"LinearScale\"},{\"attributes\":{\"fill_color\":{\"value\":\"#1f77b4\"},\"line_color\":{\"value\":\"#1f77b4\"},\"x\":{\"field\":\"x_values\"},\"y\":{\"field\":\"y_values\"}},\"id\":\"cc47c948-fb5f-4ba4-8424-f0c6ffc297e4\",\"type\":\"Circle\"},{\"attributes\":{\"formatter\":{\"id\":\"72594557-0fe9-46f2-a529-c51b3ffa9a89\",\"type\":\"BasicTickFormatter\"},\"plot\":{\"id\":\"ffbcfd4e-5295-4672-a667-c8e542376904\",\"subtype\":\"Figure\",\"type\":\"Plot\"},\"ticker\":{\"id\":\"67d62a67-722c-4ccd-b1fa-0dfcaa6235ac\",\"type\":\"BasicTicker\"}},\"id\":\"ae556a1d-8657-4f77-9b1e-2fe0cf4d2899\",\"type\":\"LinearAxis\"},{\"attributes\":{},\"id\":\"67d62a67-722c-4ccd-b1fa-0dfcaa6235ac\",\"type\":\"BasicTicker\"},{\"attributes\":{\"formatter\":{\"id\":\"6c4bfcc9-1227-4a2c-b238-3f86699c670a\",\"type\":\"BasicTickFormatter\"},\"plot\":{\"id\":\"ffbcfd4e-5295-4672-a667-c8e542376904\",\"subtype\":\"Figure\",\"type\":\"Plot\"},\"ticker\":{\"id\":\"c08a0353-2ef0-4412-a14b-bb4a60cd4374\",\"type\":\"BasicTicker\"}},\"id\":\"6725e15d-9594-4362-865e-56b94795a50b\",\"type\":\"LinearAxis\"},{\"attributes\":{},\"id\":\"c08a0353-2ef0-4412-a14b-bb4a60cd4374\",\"type\":\"BasicTicker\"},{\"attributes\":{\"dimension\":1,\"plot\":{\"id\":\"ffbcfd4e-5295-4672-a667-c8e542376904\",\"subtype\":\"Figure\",\"type\":\"Plot\"},\"ticker\":{\"id\":\"c08a0353-2ef0-4412-a14b-bb4a60cd4374\",\"type\":\"BasicTicker\"}},\"id\":\"d4f0eade-e116-4bef-aded-1c764a6a812b\",\"type\":\"Grid\"},{\"attributes\":{},\"id\":\"6116a673-4898-4e4f-b3f3-c3f1dc67ccff\",\"type\":\"LinearScale\"},{\"attributes\":{\"fill_alpha\":{\"value\":0.1},\"fill_color\":{\"value\":\"#1f77b4\"},\"line_alpha\":{\"value\":0.1},\"line_color\":{\"value\":\"#1f77b4\"},\"x\":{\"field\":\"x_values\"},\"y\":{\"field\":\"y_values\"}},\"id\":\"bb7806ca-7436-4efe-9bba-809a447fb88a\",\"type\":\"Circle\"},{\"attributes\":{\"line_alpha\":{\"value\":0.1},\"line_color\":{\"value\":\"#1f77b4\"},\"line_width\":{\"value\":3},\"x0\":{\"field\":\"x0\"},\"x1\":{\"field\":\"x1\"},\"y0\":{\"field\":\"y0\"},\"y1\":{\"field\":\"y1\"}},\"id\":\"26178a2d-2863-4623-bd2f-7a8ef500c6b9\",\"type\":\"Segment\"},{\"attributes\":{\"plot\":null,\"text\":\"\"},\"id\":\"6b98674f-d80a-4b0b-838d-a4bdffe6da46\",\"type\":\"Title\"},{\"attributes\":{\"bottom_units\":\"screen\",\"fill_alpha\":{\"value\":0.5},\"fill_color\":{\"value\":\"lightgrey\"},\"left_units\":\"screen\",\"level\":\"overlay\",\"line_alpha\":{\"value\":1.0},\"line_color\":{\"value\":\"black\"},\"line_dash\":[4,4],\"line_width\":{\"value\":2},\"plot\":null,\"render_mode\":\"css\",\"right_units\":\"screen\",\"top_units\":\"screen\"},\"id\":\"fbb7c1fe-5bb7-48d5-abe4-ec8b70ce89e4\",\"type\":\"BoxAnnotation\"},{\"attributes\":{},\"id\":\"76238777-aae3-4f01-899c-3fc1e00db2b4\",\"type\":\"PanTool\"},{\"attributes\":{\"source\":{\"id\":\"9baf893d-5ae1-4b95-b0cb-31c594490326\",\"type\":\"ColumnDataSource\"}},\"id\":\"de4ee5ad-abda-4990-8bdd-eff0297ee051\",\"type\":\"CDSView\"},{\"attributes\":{},\"id\":\"d4eeb98e-0d5c-41b4-89ea-e8c0e68763a6\",\"type\":\"WheelZoomTool\"},{\"attributes\":{\"overlay\":{\"id\":\"fbb7c1fe-5bb7-48d5-abe4-ec8b70ce89e4\",\"type\":\"BoxAnnotation\"}},\"id\":\"0999cff3-45ce-4988-88f0-ecb17baf908a\",\"type\":\"BoxZoomTool\"},{\"attributes\":{},\"id\":\"d291e4cd-ab07-4716-ab8e-0b41d158d9ec\",\"type\":\"SaveTool\"},{\"attributes\":{},\"id\":\"277b2fb1-e76c-45d4-91a7-9b2133128b31\",\"type\":\"ResetTool\"},{\"attributes\":{\"callback\":null,\"data\":{\"x0\":[0.0,0.0,5.0],\"x1\":[5.0,5.0,5.0],\"y0\":[1.0,5.0,3.0],\"y1\":[3.0,3.0,3.0]},\"selected\":{\"id\":\"5d0d6973-c486-4b8a-a4c5-eb7c3a31ee41\",\"type\":\"Selection\"},\"selection_policy\":{\"id\":\"132e714a-6a57-4250-a756-db28cf535333\",\"type\":\"UnionRenderers\"}},\"id\":\"12eaf89f-eed0-4ebf-8c55-ce40207621ce\",\"type\":\"ColumnDataSource\"},{\"attributes\":{},\"id\":\"958b3bc4-520e-466d-8bca-fe586e1689f7\",\"type\":\"HelpTool\"},{\"attributes\":{\"data_source\":{\"id\":\"12eaf89f-eed0-4ebf-8c55-ce40207621ce\",\"type\":\"ColumnDataSource\"},\"glyph\":{\"id\":\"12fcc14a-e673-4a53-9a8f-ca19947262ba\",\"type\":\"Segment\"},\"hover_glyph\":null,\"muted_glyph\":null,\"nonselection_glyph\":{\"id\":\"26178a2d-2863-4623-bd2f-7a8ef500c6b9\",\"type\":\"Segment\"},\"selection_glyph\":null,\"view\":{\"id\":\"8acd4d71-e066-4804-8fbd-45b8ca6292a1\",\"type\":\"CDSView\"}},\"id\":\"02c343ce-bfcb-44fa-9867-cd1b3dd1eba2\",\"type\":\"GlyphRenderer\"},{\"attributes\":{\"line_color\":{\"value\":\"navy\"},\"line_width\":{\"value\":3},\"x0\":{\"field\":\"x0\"},\"x1\":{\"field\":\"x1\"},\"y0\":{\"field\":\"y0\"},\"y1\":{\"field\":\"y1\"}},\"id\":\"12fcc14a-e673-4a53-9a8f-ca19947262ba\",\"type\":\"Segment\"},{\"attributes\":{\"source\":{\"id\":\"12eaf89f-eed0-4ebf-8c55-ce40207621ce\",\"type\":\"ColumnDataSource\"}},\"id\":\"8acd4d71-e066-4804-8fbd-45b8ca6292a1\",\"type\":\"CDSView\"},{\"attributes\":{\"below\":[{\"id\":\"ae556a1d-8657-4f77-9b1e-2fe0cf4d2899\",\"type\":\"LinearAxis\"}],\"left\":[{\"id\":\"6725e15d-9594-4362-865e-56b94795a50b\",\"type\":\"LinearAxis\"}],\"renderers\":[{\"id\":\"ae556a1d-8657-4f77-9b1e-2fe0cf4d2899\",\"type\":\"LinearAxis\"},{\"id\":\"5a3cd3db-11bd-408f-907d-131a666a9145\",\"type\":\"Grid\"},{\"id\":\"6725e15d-9594-4362-865e-56b94795a50b\",\"type\":\"LinearAxis\"},{\"id\":\"d4f0eade-e116-4bef-aded-1c764a6a812b\",\"type\":\"Grid\"},{\"id\":\"fbb7c1fe-5bb7-48d5-abe4-ec8b70ce89e4\",\"type\":\"BoxAnnotation\"},{\"id\":\"71a92338-d8ce-467f-8a24-319a3b500340\",\"type\":\"GlyphRenderer\"},{\"id\":\"02c343ce-bfcb-44fa-9867-cd1b3dd1eba2\",\"type\":\"GlyphRenderer\"}],\"title\":{\"id\":\"6b98674f-d80a-4b0b-838d-a4bdffe6da46\",\"type\":\"Title\"},\"toolbar\":{\"id\":\"a0504f83-09bd-4aab-8539-88e0dba01db6\",\"type\":\"Toolbar\"},\"x_range\":{\"id\":\"c593d5d3-0029-41fa-af0e-6e6bf66bb8c6\",\"type\":\"DataRange1d\"},\"x_scale\":{\"id\":\"a78c0802-3543-43b1-a508-6983d0978495\",\"type\":\"LinearScale\"},\"y_range\":{\"id\":\"d7b89fdf-c673-4e62-b92b-aac880b2a12c\",\"type\":\"DataRange1d\"},\"y_scale\":{\"id\":\"6116a673-4898-4e4f-b3f3-c3f1dc67ccff\",\"type\":\"LinearScale\"}},\"id\":\"ffbcfd4e-5295-4672-a667-c8e542376904\",\"subtype\":\"Figure\",\"type\":\"Plot\"},{\"attributes\":{},\"id\":\"6f4e16c3-d7a6-400c-b482-6eceb966a80b\",\"type\":\"Selection\"},{\"attributes\":{\"callback\":null,\"data\":{\"x_values\":[0.0,0.0,5.0,5.0],\"y_values\":[1.0,5.0,3.0,3.0]},\"selected\":{\"id\":\"6f4e16c3-d7a6-400c-b482-6eceb966a80b\",\"type\":\"Selection\"},\"selection_policy\":{\"id\":\"402a8087-8021-4f6d-ad16-b58407599b06\",\"type\":\"UnionRenderers\"}},\"id\":\"9baf893d-5ae1-4b95-b0cb-31c594490326\",\"type\":\"ColumnDataSource\"},{\"attributes\":{},\"id\":\"72594557-0fe9-46f2-a529-c51b3ffa9a89\",\"type\":\"BasicTickFormatter\"},{\"attributes\":{},\"id\":\"6c4bfcc9-1227-4a2c-b238-3f86699c670a\",\"type\":\"BasicTickFormatter\"},{\"attributes\":{},\"id\":\"402a8087-8021-4f6d-ad16-b58407599b06\",\"type\":\"UnionRenderers\"},{\"attributes\":{},\"id\":\"5d0d6973-c486-4b8a-a4c5-eb7c3a31ee41\",\"type\":\"Selection\"},{\"attributes\":{},\"id\":\"132e714a-6a57-4250-a756-db28cf535333\",\"type\":\"UnionRenderers\"}],\"root_ids\":[\"ffbcfd4e-5295-4672-a667-c8e542376904\"]},\"title\":\"Bokeh Application\",\"version\":\"0.13.0\"}};\n  var render_items = [{\"docid\":\"ffa9fac0-ee85-4dfb-ae54-248aae11725c\",\"notebook_comms_target\":\"f6387dc0-27b9-4969-9f50-35bebcf17acd\",\"roots\":{\"ffbcfd4e-5295-4672-a667-c8e542376904\":\"3dfdedb5-9528-4add-a31f-37000cca0dcc\"}}];\n  root.Bokeh.embed.embed_items_notebook(docs_json, render_items);\n\n  }\n  if (root.Bokeh !== undefined) {\n    embed_document(root);\n  } else {\n    var attempts = 0;\n    var timer = setInterval(function(root) {\n      if (root.Bokeh !== undefined) {\n        embed_document(root);\n        clearInterval(timer);\n      }\n      attempts++;\n      if (attempts > 100) {\n        console.log(\"Bokeh: ERROR: Unable to run BokehJS code because BokehJS library is missing\")\n        clearInterval(timer);\n      }\n    }, 10, root)\n  }\n})(window);",
            "application/vnd.bokehjs_exec.v0+json": ""
          },
          "metadata": {
            "application/vnd.bokehjs_exec.v0+json": {
              "id": "ffbcfd4e-5295-4672-a667-c8e542376904"
            }
          }
        },
        {
          "output_type": "display_data",
          "data": {
            "application/vnd.jupyter.widget-view+json": {
              "model_id": "f475925566d74a8c88c1b0333b82d52e",
              "version_minor": 0,
              "version_major": 2
            },
            "text/plain": "interactive(children=(IntSlider(value=0, description='step', max=27139, step=2713), Output()), _dom_classes=('…"
          },
          "metadata": {}
        },
        {
          "output_type": "execute_result",
          "execution_count": 24,
          "data": {
            "text/plain": "<function ipywidgets.widgets.interaction._InteractFactory.__call__.<locals>.<lambda>(*args, **kwargs)>"
          },
          "metadata": {}
        }
      ]
    },
    {
      "metadata": {
        "trusted": true
      },
      "cell_type": "code",
      "source": "f = notebook.get_flow()\nm = FlowMinimizer(f)\nm.get_minimum_flow()",
      "execution_count": 25,
      "outputs": [
        {
          "output_type": "execute_result",
          "execution_count": 25,
          "data": {
            "text/plain": "<flow.Flow at 0x7f5736767470>"
          },
          "metadata": {}
        }
      ]
    },
    {
      "metadata": {
        "trusted": true
      },
      "cell_type": "code",
      "source": "m.steps[:10]",
      "execution_count": 26,
      "outputs": [
        {
          "output_type": "execute_result",
          "execution_count": 26,
          "data": {
            "text/plain": "[5.0,\n 4.999470208164828,\n 4.998940460353276,\n 4.9984107565684655,\n 4.9978810968135186,\n 4.99735148109156,\n 4.996821909405715,\n 4.996292381759107,\n 4.995762898154861,\n 4.995233458596103]"
          },
          "metadata": {}
        }
      ]
    },
    {
      "metadata": {
        "trusted": true
      },
      "cell_type": "code",
      "source": "m.steps[-10:]",
      "execution_count": 27,
      "outputs": [
        {
          "output_type": "execute_result",
          "execution_count": 27,
          "data": {
            "text/plain": "[2.1881942424954692,\n 2.188125964071343,\n 2.188057708746334,\n 2.187989476513794,\n 2.1879212673670487,\n 2.187853081299431,\n 2.187784918304255,\n 2.1877167783748837,\n 2.1876486615046367,\n 2.1875805676868647]"
          },
          "metadata": {}
        }
      ]
    },
    {
      "metadata": {
        "trusted": true
      },
      "cell_type": "code",
      "source": "m.cost[:10]",
      "execution_count": 28,
      "outputs": [
        {
          "output_type": "execute_result",
          "execution_count": 28,
          "data": {
            "text/plain": "[115.99747374861738,\n 115.99242180253039,\n 115.98737069603418,\n 115.98232042911866,\n 115.97727100177354,\n 115.97222241398859,\n 115.96717466575357,\n 115.96212775705825,\n 115.95708168789231,\n 115.95203645824556]"
          },
          "metadata": {}
        }
      ]
    },
    {
      "metadata": {
        "trusted": true
      },
      "cell_type": "code",
      "source": "m.cost[-10:]",
      "execution_count": 29,
      "outputs": [
        {
          "output_type": "execute_result",
          "execution_count": 29,
          "data": {
            "text/plain": "[98.11840769581997,\n 98.11832373919142,\n 98.11823983935763,\n 98.11815599628291,\n 98.1180722099317,\n 98.11798848026852,\n 98.1179048072577,\n 98.11782119086378,\n 98.11773763105121,\n 98.11765412778456]"
          },
          "metadata": {}
        }
      ]
    },
    {
      "metadata": {
        "trusted": true
      },
      "cell_type": "code",
      "source": "m.theta[:10]",
      "execution_count": 30,
      "outputs": [
        {
          "output_type": "execute_result",
          "execution_count": 30,
          "data": {
            "text/plain": "[106.39559152799622,\n 106.39403634896739,\n 106.39248087296372,\n 106.39092509995116,\n 106.38936902989565,\n 106.38781266276312,\n 106.38625599851959,\n 106.38469903713099,\n 106.38314177856334,\n 106.38158422278265]"
          },
          "metadata": {}
        }
      ]
    },
    {
      "metadata": {
        "trusted": true
      },
      "cell_type": "code",
      "source": "m.theta.index(90.00128522043292)",
      "execution_count": 23,
      "outputs": [
        {
          "output_type": "execute_result",
          "execution_count": 23,
          "data": {
            "text/plain": "5664"
          },
          "metadata": {}
        }
      ]
    },
    {
      "metadata": {
        "trusted": true
      },
      "cell_type": "code",
      "source": "m.cost[5664]",
      "execution_count": 11,
      "outputs": [
        {
          "output_type": "execute_result",
          "execution_count": 11,
          "data": {
            "text/plain": "72.76391669576735"
          },
          "metadata": {}
        }
      ]
    },
    {
      "metadata": {
        "trusted": true
      },
      "cell_type": "code",
      "source": "m.steps[5664]",
      "execution_count": 12,
      "outputs": [
        {
          "output_type": "execute_result",
          "execution_count": 12,
          "data": {
            "text/plain": "2.5377673444510784"
          },
          "metadata": {}
        }
      ]
    },
    {
      "metadata": {
        "trusted": true
      },
      "cell_type": "code",
      "source": "",
      "execution_count": null,
      "outputs": []
    },
    {
      "metadata": {
        "trusted": true
      },
      "cell_type": "code",
      "source": "",
      "execution_count": null,
      "outputs": []
    }
  ],
  "metadata": {
    "kernelspec": {
      "name": "python36",
      "display_name": "Python 3.6",
      "language": "python"
    },
    "language_info": {
      "mimetype": "text/x-python",
      "nbconvert_exporter": "python",
      "name": "python",
      "pygments_lexer": "ipython3",
      "version": "3.6.6",
      "file_extension": ".py",
      "codemirror_mode": {
        "version": 3,
        "name": "ipython"
      }
    }
  },
  "nbformat": 4,
  "nbformat_minor": 2
}